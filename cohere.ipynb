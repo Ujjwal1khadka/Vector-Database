{
 "cells": [
  {
   "cell_type": "code",
   "execution_count": 226,
   "metadata": {},
   "outputs": [],
   "source": [
    "# !pip install \\\n",
    "#   langchain_community \\\n",
    "#   langchain_pinecone \\\n",
    "#   langchain_openai \\\n",
    "#   unstructured \\\n",
    "#   langchain-text-splitters \\\n",
    "#   pinecone-text \\\n",
    "#   langchain-cohere    "
   ]
  },
  {
   "cell_type": "code",
   "execution_count": 227,
   "metadata": {},
   "outputs": [],
   "source": [
    "from langchain_pinecone import PineconeVectorStore\n",
    "from langchain_community.retrievers import (\n",
    "    PineconeHybridSearchRetriever)\n",
    "from pinecone.grpc import PineconeGRPC as Pinecone\n",
    "from langchain_openai import OpenAIEmbeddings\n",
    "from langchain_pinecone import PineconeVectorStore\n",
    "from langchain_community.document_loaders import DirectoryLoader\n",
    "from langchain_text_splitters import RecursiveCharacterTextSplitter\n",
    "from langchain_core.runnables import RunnableParallel, RunnablePassthrough\n",
    "from langchain_openai import ChatOpenAI\n",
    "from langchain.chains import RetrievalQA\n",
    "from langchain_openai import OpenAI\n",
    "from langchain_core.prompts import PromptTemplate\n",
    "from langchain_core.runnables import RunnablePassthrough\n",
    "from langchain_core.output_parsers import StrOutputParser\n",
    "from langchain.document_loaders import TextLoader\n",
    "from langchain_core.runnables import Runnable\n",
    "from pinecone import ServerlessSpec\n",
    "import pandas as pd\n",
    "import itertools\n",
    "from sentence_transformers import SentenceTransformer\n",
    "from tqdm.auto import tqdm\n",
    "from dotenv import load_dotenv\n",
    "import pinecone\n",
    "import uuid\n",
    "import os\n",
    "import glob\n",
    "import hashlib\n",
    "from tqdm.autonotebook import tqdm\n",
    "from langchain.storage import InMemoryStore\n",
    "from langchain_core.runnables import RunnableParallel, RunnablePassthrough\n",
    "from langchain_core.prompts import PromptTemplate\n",
    "from langchain_openai import ChatOpenAI\n",
    "from langchain_core.output_parsers import StrOutputParser"
   ]
  },
  {
   "cell_type": "code",
   "execution_count": 228,
   "metadata": {},
   "outputs": [],
   "source": [
    "#  import nltk\n",
    "#  nltk.download('punkt')"
   ]
  },
  {
   "cell_type": "code",
   "execution_count": 229,
   "metadata": {},
   "outputs": [],
   "source": [
    "import os\n",
    "from dotenv import load_dotenv\n",
    "\n",
    "# Load environment variables from .env file\n",
    "load_dotenv()\n",
    "\n",
    "# Fetch API keys from environment variables\n",
    "openai_api_key = os.getenv('OPENAI_API_KEY')\n",
    "pinecone_api_key = os.getenv('P\"INECONE_API_KEY')\n",
    "\n",
    "\n",
    "# Set the environment variables\n",
    "if openai_api_key:\n",
    "    os.environ['OPENAI_API_KEY'] = openai_api_key\n",
    "if pinecone_api_key:\n",
    "    os.environ['PINECONE_API_KEY'] = pinecone_api_key \n",
    "\n",
    "#Verify that the keys are loaded\n",
    "#print(f\"OpenAI API Key: {os.environ.get('OPENAI_API_KEY')}\")\n",
    "#print(f\"Pinecone API Key: {os.environ.get('PINECONE_API_KEY')}\")"
   ]
  },
  {
   "cell_type": "code",
   "execution_count": 230,
   "metadata": {},
   "outputs": [],
   "source": [
    "directory = 'data'\n",
    "\n",
    "def load_docs(directory):\n",
    "    loader = DirectoryLoader(directory)\n",
    "    docs = loader.load()\n",
    "    return docs\n",
    "\n",
    "docs = load_docs(directory)"
   ]
  },
  {
   "cell_type": "code",
   "execution_count": 231,
   "metadata": {},
   "outputs": [
    {
     "data": {
      "text/plain": [
       "[Document(metadata={'source': 'data/Appointments Module ✓.docx'}, page_content=\"support@vitafyhealth.com | 1-866-4-Vitafy\\n\\nAppointments Module\\n\\nSeptember, 2023\\n\\nOverview\\n\\nStreamline the process of adding and organizing your clients' appointments. Whether your clients need to schedule multiple appointments for your services or make changes to existing ones, our appointments module allows you to seamlessly add new appointments, check in clients, reschedule, edit, or cancel appointments with ease.\\n\\nAppointment Scheduling\\n\\nEffortlessly schedule or reschedule the date and time for your clients' appointments with precision and convenience.\\n\\nAppointment Check-in\\n\\nThis module provides a seamless check-in and check-out experience for your clients during their appointment times, ensuring a smooth and efficient process.\\n\\nHow To\\n\\nAdd an appointment\\n\\nFilter appointments\\n\\nCheck-in / check-out  a client for their appointment\\n\\nReschedule or cancel an existing appointment\\n\\nCreate a new appointment:\\n\\nTo add a new appointment, click the +Add button:\\n\\nSelect the client from the drop-down menu.\\n\\nIf the client is Checked In at the time, click on “Is Checked”.\\n\\nProceed to select the appointment date and time.\\n\\nFilter appointments: \\n\\nAppointments can be filtered based on client name simply by using the search bar or by appointment status which includes: \\n\\nNew\\n\\nChecked-In\\n\\nChecked-Out\\n\\nSchedules\\n\\nDeleted\\n\\nTo filter appointments by status:\\n\\ngoto search bar\\n\\nclick the filter icon\\n\\nChoose the desired option for appointment status from the drop-down.\\n\\nCheck-In/Check-Out clients:\\n\\nClients who have appointments scheduled can be checked in before their appointment and checked out once completed. \\n\\nTo check-in the visiting clients:\\n\\nFind the client using the search bar\\n\\nGoto ellipses to the far right to check-In\\n\\nOnce checked in, clients can be checked out by following the same procedure and choosing the check-out option.\\n\\nReschedule or cancel an appointment: \\n\\nClients may want to reschedule or cancel their existing appointments. \\n\\nTo reschedule or cancel appointments:\\n\\nFind the client you would like to make appointment changes for using the search bar\\n\\nGoto ellipses to the far right\\n\\nChoose “Schedule” to change the appointment date and/or time\\n\\nChoose “Delete” to cancel the appointment.\"),\n",
       " Document(metadata={'source': 'data/Comms Module ✓.docx'}, page_content='support@vitafyhealth.com | 1-866-4-Vitafy\\n\\nComms Module\\n\\nSeptember, 2023\\n\\nOverview\\n\\nEfficiently monitor all incoming and outgoing email communications within the portal. Clients receive prompt email notifications to create an account upon enrollment, when tagged in a note, and ahead of upcoming appointments. Simultaneously, administrators, agents, and advocates are also notified promptly via email as per their specific needs and roles.\\n\\nInbox and Outbox\\n\\nAll emails received by current users regarding the portal will be displayed in the inbox tab while emails sent out from the portal will be displayed in the outbox tab.\\n\\nConsistent communication\\n\\nEnsure seamless communication with the ability to track all interactions. Take control of your messaging with the ability to manage email templates conveniently through the settings module.\\n\\nHow to\\n\\nBrowse and filter emails\\n\\nAdd/update email templates.\\n\\nBrowse and filter emails:\\n\\nUse the comms module to view any notification/communication sent to or from your account within the portal. Use the search bar to search for specific emails.\\n\\nInbox: Any emails you receive from the portal like tagged notes, appointment reminders, etc.\\n\\nOutbox: Any emails sent out to clients including activation email, receipts, event reminders, and tagged notes.\\n\\nManage Email Templates: \\n\\nTo add/update email templates that are sent out from the portal, go to settings module>comms template. '),\n",
       " Document(metadata={'source': 'data/Clients - Cases Module ✓.docx'}, page_content='support@vitafyhealth.com | 1-866-4-Vitafy\\n\\nCases Module\\n\\nSeptember, 2023\\n\\nAccess information about your case such as case notes and files using the cases module. This module also allows you to communicate with the advocate who is assigned to your case using tagged notes as they document and update information related to the case as it moves through various stages and milestones. \\n\\nHow To\\n\\nView case Statuses\\n\\nFilter case\\n\\nSee who is assigned to a case\\n\\nView/update patient information\\n\\nView service information\\n\\nView information about referring physician\\n\\nView provider information\\n\\nView, add, and edit notes\\n\\nView and upload case files\\n\\nCase Status\\n\\nThe case status serves as a high-level representation of the different milestones that a case goes through as it progresses through various stages of its life cycle:\\n\\nRequested\\n\\nAcknowledged\\n\\nIn Progress\\n\\nCompleted\\n\\nClosed\\n\\nDeleted\\n\\nYou can view your case status on the top right corner of each case  \\n\\nCase filter\\n\\nIn the event that you have multiple cases, you can use the search bar on the top left to filter. \\n\\nCase Assignments\\n\\nThe \"created by and assigned to\" section refers to personnel who created and are currently assigned to your case respectively. \\n\\nPatient Information \\n\\nThis section is pulled from the client module as a snapshot in time of when the case was created.  The information provided includes Name, dependency, phone, email, date of birth and address.\\n\\nTo make changes to patient information, click edit in the upper right corner.\\n\\nService Information\\n\\nThe service name encompasses all the assistance and support that you are receiving from your advocates.\\n\\nReferring Physician\\n\\nThis section includes information about referring providers/physicians added by an advocate to direct a patient to seek care from another physician or specialist for further diagnosis, treatment, or consultation.\\n\\nProvider Information \\n\\nThe provider section refers to the healthcare professional or entity that your advocates are engaging with or collaborating with to advance the case until its completion. \\n\\nNotes\\n\\nIn this section, you can view a record of notes, progress, and milestones about the case. It allows you to communicate with the advocates, or any invitees associated with your case that is being actively worked on.\\n\\nTo add notes:\\n\\nType your notes in the text box on the bottom right corner and click Submit\\n\\nTo tag specific users/clients\\n\\nIn the note use the @ and start typing the name of the advocate.\\n\\nSelect from dropdown\\n\\nThey will be notified by email with a link to the portal allowing them to view, respond, or upload a file in the note.\\n\\nNotes can be edited or deleted by clicking the edit and trash button respectively. (Can be seen when hovering over notes).\\n\\nEdit history can be seen by clicking the history icon () on the right side of the note.\\n\\nFiles\\n\\nWithin this section, you have the option to include any files relevant to the case that you need to upload as advised by your advocate. Files of various types can be uploaded and stored here. \\n\\nTo upload files:\\n\\nClick on the files tab next in the far right\\n\\nClick Upload files.\\n\\nThere are four options to choose from: computer, profile, files (module on the left bar), url.\\n\\nYou can also drag and drop files within the box or click to browse.'),\n",
       " Document(metadata={'source': 'data/Clients Module ✓.docx'}, page_content='support@vitafyhealth.com | 1-866-4-Vitafy\\n\\nClients Module\\n\\nAugust 18th, 2023\\n\\nOverview\\n\\nClients can be defined as your valued customers. There are two distinct types of clients: Individuals and Groups. Individuals refer to individual customers, as well as families or retail customers. On the other hand, Groups comprise employers, companies, or associations.\\n\\nIndividual and Group Clients\\n\\n\\nThis module equips you with essential tools to efficiently manage both individual clients and groups/companies.\\n\\nManage client information\\n\\nEffortlessly oversee clients\\' service/case information, approve or decline memberships, add transactions, send agreements, and perform additional management tasks with ease.\\n\\nHow To\\n\\nAdd an Individual Client\\n\\nAdd dependents to a primary member\\n\\nAdd a Group Client\\n\\nAdd members to a group\\n\\nTo quick view group members/dependents, billings, and cases (if any)\\n\\nUpdate Billing\\n\\nClient ellipsis function\\n\\nEdit client details\\n\\nApprove a membership\\n\\nDecline a membership\\n\\nModify membership\\n\\nChange membership start date\\n\\nChange membership end date\\n\\nAdd additional membership\\n\\nCancel a membership\\n\\nChange start date\\n\\nChange end date\\n\\nAdd a one time transaction\\n\\nSend an agreement\\n\\nDelete member\\n\\nWhat is client status\\n\\nActivate account\\n\\nSet up a primary individual client\\n\\nAn individual client refers to an individual who either seeks your services or becomes a member in order to avail the services provided by your organization.\\n\\nTo add an Individual Client:\\n\\nGo to the clients module from the left menu bar > individual tab\\n\\nClick the +Add button.\\n\\nThe next screen will be an online form to complete. There are four different client types:\\n\\nPrimary\\n\\nDependent\\n\\nGroup\\n\\nGroup Member\\n\\nSelect the Primary, complete Name, date of birth, email, phone, and address information, and select Save.\\n\\nNext, select the desired offering and add the start date,\\n\\nThe next screen is for billing/payment options.\\n\\nNext, add payment information in the billing tab.\\n\\nFiles can be uploaded using the +Upload files button on the top right of the files tab.\\n\\nOnce completed, files uploaded will appear and can be downloaded, renamed, and viewed by clicking on the ellipses on the far right.\\n\\nClient ID card can be viewed in the ID tab (if the setting has been turned on).\\n\\nClient status is “Submitted” by default and they will only be charged once “Approved”.\\n\\nAdd a dependent to a primary client\\n\\nA dependent is an individual who is connected to another person, either through family ties or some form of association.\\n\\nTo add a Dependent to a Primary Member:\\n\\nGo to the clients module from the left menu bar\\n\\nClick on the +Add button on the top right\\n\\nSelect Dependent and choose Primary member and relation to the primary member.\\n\\nComplete the form.\\n\\nClick Save.\\n\\nNext, the bundle option will show, select, and save.\\n\\nComplete Billing.\\n\\nAdd any Files.\\n\\nAlternatively use the ellipsis button.\\n\\nSet up a group or a company\\n\\nA Group or a Company encompasses a significant number of individuals who are interconnected. This may comprise a company, clinic, facility, or any other establishment that will collectively utilize the same range of services or products that you provide.\\n\\nTo add Group, go to the clients module:\\n\\nGo to the clients module from the left menu bar > Group tab\\n\\nThe next screen will be an online form to complete. There are four different client types:\\n\\nPrimary\\n\\nDependent\\n\\nGroup\\n\\nGroup Member\\n\\nSelect Group, add the group information and contact information for the group and select Save.\\n\\nNext, select the desired membership offering type and add start date,\\n\\nThe next screen is for billing/payment options.\\n\\nNext add payment information in the billing tab.\\n\\nFiles can be uploaded using the +Upload files button on the top right of the files tab.\\n\\nOnce completed, files uploaded will appear and can be downloaded, renamed and viewed by clicking on the ellipses on the far right.\\n\\nClient ID card can be viewed in the ID tab. (if the setting has been turned on)\\n\\nTo approve a client use the ellipses on the far right and select “Approve”.\\n\\nClient status is “Submitted” by default and they will only be charged once “Approved”.\\n\\nBundle options may also be edited using the ellipses ->modify bundle option.\\n\\nAdd someone to a Group\\n\\nAn individual that is associated with the group or company that takes part in your company.\\n\\nTo add Members to a Group:\\n\\nGo to the clients module from the left menu bar > Group tab\\n\\nLocate the appropriate group to add your new member to.\\n\\nClick on the ellipses to the far right.\\n\\nSelect Add Member.\\n\\nForm will default to Group Member\\n\\nComplete the form [same form to create group] including:\\n\\nPersonal information\\n\\nBundle\\n\\nBilling\\n\\nFiles\\n\\nMembers can now be seen by clicking the + to the left of the group name. (Click the - to shrink back to group).\\n\\nClient Quick View function (+)\\n\\nThe purpose of this view is to provide a convenient overview of the enrollments, offerings, and services that the client has registered and paid for with your company. Additionally, it allows you to access information about their billing transactions and any ongoing cases initiated on their behalf.\\n\\nClick on the + sign on the left-hand side of clients to get a quick view of client details.\\n\\nMembership on the primary client shows all of the enrollments associated with primary and dependents.\\n\\nThe billing section displays all recent transactions, including any upcoming recurring transactions, for easy reference.\\n\\nThe Cases section exhibits the most recent five cases associated with the client, providing the option to directly access and open a specific case from this location.\\n\\nUpdate Billing\\n\\nClients billing information can be changed from their profile \\n\\nGo to the clients module from the left menu bar\\n\\nGo to client > ellipses > edit profile\\n\\nSwitch to billings tab\\n\\nChoose the payment method you would like to add\\n\\nWhen multiple payment methods are on file, there will be an option to set as primary. The payment method thats is set as primary is the one that will be billed.\\n\\nClient Ellipsis functions (⋮)\\n\\nThere are additional functionalities available for each client that you provide support you will find under the ellipsis.\\n\\nEdit profile. In the edit profile section, you have the ability to modify various client information including address, phone number, email, tags, and add notes. It also allows you to view the existing membership status (if applicable), update billing details, and upload any relevant files for that specific client.\\n\\nApprove membership. After you create a client either an Individual or a group they are put into a submitted status. No transactions will happen until the client or group is approved.  Clients that are approved already transactions will automatically go through if a change in membership happens.\\n\\nOnce approved, clients will receive a receipt and a welcome email (if a.\\n\\nOnce declined, clients will receive email with notes (if any provided)\\n\\nNOTE: If a client is approved 7 days after the enrollment date the client will NOT be charged.  A subscription will be created and the client will be charged on the next payment date (monthly, quarterly, yearly).  Payment will have to be done manually through the “Add Transaction” found in the ellipsis for the first payment.\\n\\nDecline membership.  Once a client, whether an individual or a group, is created, they are initially placed in a submitted status. In the event that you decide not to include this client in your offerings or services for any reason, you have the option to decline them. However, you can always reinstate them by modifying the membership whenever necessary.\\n\\nModify membership. The modify membership section is only visible once membership is in approved status. This provides a comprehensive explanation of the membership, including fees, benefit dates, and options to either complete or cancel and add an end date. Here, you can view all currently active memberships as well as past inactive memberships. Additionally, you have the flexibility to change or update a membership by specifying a new start date for the desired benefit. \\n\\nTo add additional membership: \\n\\nGo to the clients module from the left menu bar\\n\\nFind the client you want to update membership for\\n\\nClick on ellipses > modify membership\\n\\nClick +Add on the modify membership popup\\n\\nSelect membership from the list\\n\\nClick on drop down to switch to Public/Private bundle (Private can only be chosen/seen by admin).\\n\\nAdd start date of new membership.\\n\\nSelect Continue.\\n\\nConfirm.\\n\\nTo cancel existing membership \\n\\nGo to the clients module from the left menu bar\\n\\nFind the client you want to update membership for\\n\\nGo to ellipses > modify membership\\n\\nClick cancel button next to the membership\\n\\nSelect date to cancel/complete membership\\n\\nAdd note (optional)\\n\\nConfirm\\n\\nChange membership start date. \\n\\nMembership start dates that have yet to begin can be changed. \\n\\nGo to the clients module from the left menu bar\\n\\nFind the client you want to update membership for\\n\\nGo to ellipses > edit profile\\n\\nMembership tab\\n\\nChoose the desired membership type and start date.\\n\\nChange membership end date. \\n\\nFor membership that have yet to end, membership end date can be changed. \\n\\nGo to the clients module from the left menu bar\\n\\nFind the client you want to update membership for\\n\\nGo to ellipses > modify membership\\n\\nClick on the drop down to view Active/Inactive memberships.\\n\\nClick complete and specify membership end date\\n\\nAdd Transaction. This is a manual method available to add a one-time transaction to a client for any of your offerings.\\n\\nGo to the clients module from the left menu bar\\n\\nFind the client you want to add transaction for\\n\\nEllipses > Add transaction\\n\\nSend Agreement. You can send a document to a client for their signature. This is particularly useful when you require the client to sign a document before approving their membership or enabling them to purchase services from your company.\\n\\nGo to the clients module from the left menu bar\\n\\nFind the client you want to send agreement to\\n\\nEllipses > Send agreement\\n\\nTo permanently delete a client/member please contact support@vitafyhealth.com\\n\\nClient status meaning\\n\\nSubmitted\\n\\nThe initial status when a client is created is referred to as the \"First Status.\" This status can be completely customized and altered as per your requirements.\\n\\nApproved\\n\\nA fully executed client refers to an individual who has completed all necessary steps, including signing documents, making payments, and filling out all required forms. Such clients meet the eligibility criteria and qualify to avail themselves of your services.\\n\\nCanceled\\n\\nA client who chooses not to renew their membership ahead of time or a client for whom you no longer wish to offer services.\\n\\nDeclined\\n\\nA client who wishes to terminate their current membership or does not desire to continue with their existing membership.\\n\\nActive\\n\\nA client who currently holds an active membership  Their membership could be canceled, but the end date is in the future.\\n\\nInactive\\n\\nA client without an active membership, including any prior enrollments that are no longer active.\\n\\nNOTE:  If there are any missing items or if you require access to something mentioned above, please feel free to contact Vitafy support at support@vitafyhealth.com for any inquiries.\\n\\nActivate account for client login \\n\\nTo send invite to clients so they can activate their Vitafy account:\\n\\nGo to the clients module from the left menu bar\\n\\nFind the client you want to send invite to activate account\\n\\nGo to ellipses > Send Invite\\n\\nIf they misplaced the first activation email, another invite can be sent to activate the account\\n\\nThe Activate Account link in the invite pre populates the clients sign up page with their email address but is editable (We suggest to add unique username for clients using same email under multiple profiles i.e. primary member and dependent members that have same email)\\n\\nPlease note that clients can only have accounts (can send invite to) when their profile has an approved enrollment.'),\n",
       " Document(metadata={'source': 'data/Leads Module ✓.docx'}, page_content='support@vitafyhealth.com | 1-866-4-Vitafy\\n\\nLeads Module\\n\\nSeptember, 2023\\n\\nOverview\\n\\nEfficiently oversee your leads and seamlessly transform them into clients right from the portal. Opting for the custom enrollment page with the Vitafy portal allows your clients to conveniently register for your services, while the leads module ensures tracking for a comprehensive overview of your client acquisition process.\\n\\nLeads Tracking \\n\\nLeads from the enrollment page will automatically update in the portal or leads can be created manually. \\n\\nLeads Conversion\\n\\nAll leads, despite of their status, can be converted to clients which will move them to the clients list. \\n\\nHow To\\n\\nView automated leads\\n\\nCreate leads manually\\n\\nChange leads status\\n\\nConvert leads to clients\\n\\nEdit or delete a lead\\n\\nAdd lead notes\\n\\nExport leads\\n\\nAutomated leads: \\n\\nWith a personalized enrollment page through Vitafy, the leads module ensures automatic updates for clients who have partially filled out the enrollment form. This feature allows for seamless tracking and management of partial leads, providing a comprehensive view of potential clients in the system.\\n\\nManually create leads:\\n\\nIn case you don’t have a customized enrollment page with Vitafy, you can manually enter your leads to track within the Vitafy portal. To manually create a lead: \\n\\nGoto +Add button on the top right > Choose Individual or Group\\n\\nThis allows you to record which individual/company client is referred by and what their lead status is.\\n\\nChange lead status:\\n\\nTo change lead status use the dropdown under the leads column and choose from the different status options:\\n\\nDeclined\\n\\nOn Hold\\n\\nIn Progress\\n\\nNew\\n\\nAttempted To Contact\\n\\nInactive\\n\\nPartial\\n\\nNote: Lead status cannot be modified for leads automatically imported from the enrollment page and can only be modified for leads added manually.\\n\\nConvert leads to clients: \\n\\nLeads can be filtered using the search bar by name, status or type. All client leads can be converted to clients. Locate the client you would like to convert:\\n\\nGoto the ellipses on the far right of the lead > choose Convert to Client.\\n\\nEdit/Delete leads:\\n\\nTo edit or delete an existing lead, use the ellipses on the far right of the client lead and choose edit or delete accordingly.\\n\\nNote: Automatic leads imported from the enrollment page cannot be deleted. \\n\\nLead notes: \\n\\nEnhance your client lead management by adding notes through the \"Add Note\" button located beside the specific lead you wish to annotate. This feature ensures that you can easily capture and organize essential information, providing a comprehensive and personalized approach to lead tracking.\\n\\nExport leads: \\n\\nTo export the list of leads, simply click the export button located in the top right corner.'),\n",
       " Document(metadata={'source': 'data/Activity Logs Module ✓.docx'}, page_content='support@vitafyhealth.com | 1-866-4-Vitafy\\n\\nActivity Logs Module\\n\\nSeptember, 2023\\n\\nOverview\\n\\nThe Activity Log serves as a comprehensive tool for monitoring all user actions within the platform. Gain insights into each action with detailed timestamps and user-specific activities for a thorough overview. \\n\\nFilter user activity\\n\\nUse the search bar to filter user activity by username, action, or time interval\\n\\nActivity log timestamps\\n\\nDetailed overview of user activities showcasing specific actions taken by each user along with corresponding timestamps.\\n\\nHow to\\n\\nFilter activity log\\n\\n\\nTo filter activity log using search bar:\\n\\nSearch using user or activity\\n\\nClick the filter button to filter by interval\\n\\nUse the arrow button beside the timestamp column to filter in ascending/descending order.'),\n",
       " Document(metadata={'source': 'data/Settings Module.docx'}, page_content='support@vitafyhealth.com | 1-866-4-Vitafy\\n\\nSettings Module\\n\\nSeptember, 2023\\n\\nOverview\\n\\nThe settings module is where you can manage admin user permissions, referring agents, services, memberships, additional offerings, email communications, and more. Your clients may be charged based on subscription basis using membership/additional offering and members may request for specific services.\\n\\nManage admin settings \\n\\nManage your profile information like business/support contact information, referring agent information and admin permissions in the portal using this module.\\n\\nManage services\\n\\nManage the services you offer from the settings module. User membership offerings to manage your client membership options, ancilliary offering for custom offerings and settings > services for specific services.\\n\\nHow To\\n\\nView/edit tenant’s (your organization) contact information\\n\\nManage referring agents\\n\\nManage client leads status\\n\\nManage admin permission within the portal\\n\\nManage services\\n\\nManage membership offerings\\n\\nManage custom/ancilliary offerings\\n\\nManage email templates\\n\\nTo modify tenant contact information go to Settings >Profile >Profile tab\\n\\nTo modify primary contact and support contact information go to Settings>Profile>Contacts.\\n\\nClick on Settings>Referrals and commission to:\\n\\nAdd a referring agent, click on +Add on the top right side of the page and fill out agent information including agent status from dropdown ( New, Active or Inactive) then click Save.\\n\\nClick on the ellipses on the far right of each agent name to Edit, Delete, Get Link (Shareable referral link for that agent), Send Invite to create portal account.\\n\\nClick on Settings>Profile>Profile>Status tab to:\\n\\nTo add a lead status, use the +Add button on the top right\\n\\nTo edit or delete existing lead status, use the ellipses on the far right of the status.\\n\\nYou can manage admin portal access permissions. Go to the Settings>Admins:\\n\\nUse the +Add on the top right side of the page to add Admin.\\n\\nClick on the ellipses on the right side of each Admin to edit information, set/edit permission (check or uncheck to edit access to modules then click save), delete or send invite (option only shown if account not created).\\n\\nGo to Settings>Profile >Services to view tenant services offered to members \\n\\nTo add a service click on +Add on the top right side of the page, fill out the information and click Save\\n\\nTo edit or delete a service click on the ellipses on the far right of the service.\\n\\nGo to Settings >Membership Offerings tab.\\n\\nClick on +Add on the top right side of the page to add a Membership type:\\n\\nChoose Category: Individual & Family OR Company & Group\\n\\nChoose Age range and Quantity (min and max number of members if any) can be set by typing manually or using the arrow buttons on the right hand side.\\n\\nSet Price.\\n\\nSet Billing Interval from dropdown: Bi-yearly, Monthly, One Time, Quarterly, Yearly.\\n\\nSet Billing Type from dropdown:\\n\\nBy Family\\n\\nGroup: all members in a group pay together\\n\\nIndividual: each individual in group charged separately\\n\\nAdd Registration Fee: One time registration fee\\n\\nChoose Visibility from dropdown:\\n\\nPublic: Shown on the public site and can be chosen as an option by anyone.\\n\\nPrivate: Can only be chosen as an option by admin.\\n\\nChoose Status:\\n\\nActive:  Can be chosen as an option\\n\\nInactive: Cannot be chosen as an option\\n\\nAdd Start and End Date.\\n\\nTo filter Offerings, use the search bar to filter by name or click on the arrows beside Name, Price and Visibility to arrange in ascending/descending order.\\n\\nTo edit or delete an offering click on the ellipses on the far right of the offering.\\n\\nTo view custom offerings and their prices click on Settings >Ancillary Offerings.\\n\\nTo add an offering click on the +Add on the top right side of the page and fill out the information including Offering Name, Price, Interval for Members and Non-Members, Visibility (Public or Private) , Start and End Date then click Save.\\n\\nTo filter Offerings, use the search bar to filter by name or click on the arrows beside Name, Non-Member Price, Member Price and Visibility to arrange in ascending/descending order.\\n\\nTo edit or delete an offering click on the ellipses on the far right of the offering.\\n\\nTo view communication templates click on Settings>Comms Templates.\\n\\nClick on +Add Email Template button on the top right corner to add pre-defined templates and click Save Changes.\\n\\nTo edit template content click on the default templates from the list, type Subject then type email content using the metadata buttons on the bottom of the page, click Save or to publish click Publish/Unpublish button on the top right.\\n\\nNOTE: To make sure clients are receiving email check the publication status on the top left corner beside the template name shown as gray box.\\n\\nTo delete a template click on the trash icon in the top right of the template box.'),\n",
       " Document(metadata={'source': 'data/Reports Module ✓.docx'}, page_content='support@vitafyhealth.com | 1-866-4-Vitafy\\n\\nReports Module\\n\\nDecember, 2023\\n\\nOverview\\n\\nAccess detailed reports derived from real-time data that ensure informed decision-making. Explore interactive reports based on user data, or tailor your reports to specific requirements by applying various filters. This versatility ensures you have the insights you need for effective decision support.\\n\\nReport dashboard\\n\\nAccess a dashboard featuring detailed sales, revenue, patient, members and visit reports specific to the services you provide, enabling you to retrieve essential data. \\n\\nReport by clients \\n\\nFilter reports to customize it according to your needs. This enables you to view data for specific clients or service memberships. \\n\\nHow To\\n\\nChange report interval\\n\\nDownload report\\n\\nFilter report and export\\n\\nChange report internal: \\n\\nAll the reports in the dashboard can be viewed at different time intervals. To change the interval for each chart in the dashboard use dropdown on the top right of the chart. The dropdown gives the option to view reports by:\\n\\nWeek\\n\\nMonth\\n\\nQuarter\\n\\nYear\\n\\nCustom date\\n\\nDownload report: \\n\\nEach report on the dashboard can be downloaded as an image or viewed in full-screen view. Goto ellipses on the top right of each chart and choose:\\n\\nDownload as Image\\n\\nView Full Screen\\n\\nFilter report:\\n\\nRetrieve reports for various client types, membership categories, membership dates, or membership statuses by navigating to the Reports > Clients tab. After applying your desired filters, export these customized reports effortlessly using the export button.'),\n",
       " Document(metadata={'source': 'data/Cases Module ✓.docx'}, page_content='support@vitafyhealth.com | 1-866-4-Vitafy\\n\\nCases Module\\n\\nSeptember, 2023\\n\\nOverview\\n\\nCases are defined as a centralized hub for tracking, documenting, and monitoring the progress of activities, as well as managing communication and collaboration among admins, clients, and other stakeholders. The system typically includes case tracking, document management, task management, reporting, and integration with other relevant systems or databases. Its primary purpose is to streamline and optimize advocacy efforts, improving efficiency, organization, and effectiveness in advocating for clients or causes.\\n\\nCase Tracking\\n\\nSystematically document and update information related to the case as it moves through various stages and milestones. This allows effective monitoring and recording of the progress and status of a particular case or matter.\\n\\nEasy Collaboration\\n\\nShare information and exchange ideas to work together towards common goals and objectives related to the case.\\n\\nHow To\\n\\nSet up a case\\n\\nChange Case Statuses\\n\\nCase Assignments\\n\\nInvite to case\\n\\nPatient Information\\n\\nService Information\\n\\nReferring Physician\\n\\nProvider Information and search\\n\\nNotes\\n\\nFiles\\n\\nSet up a case\\n\\nA case serves as a method to monitor and record the progress of a client as they navigate through each significant stage or milestone.\\n\\nTo add a new case: \\n\\nGo to the Cases module from the left menu bar\\n\\nClick on the +Add button\\n\\nSearch for a client that you want to create a case for\\n\\nClick next\\n\\nAdd service (Optional)\\n\\nClick Save\\n\\nPlease note that only cases that have been assigned to you will be shown by default under the cases module unless the checkbox for “Show all” cases is selected.\\n\\nCase Status\\n\\nThe case status serves as a high-level representation of the different milestones that a case goes through as it progresses through various stages of its life cycle.\\n\\nTo change case status:\\n\\nGo to the Cases module from the left menu bar\\n\\nClick on the drop down menu on the top right side of the case. There are six options:\\n\\nRequested\\n\\nAcknowledged\\n\\nIn Progress\\n\\nCompleted\\n\\nClosed\\n\\nDeleted\\n\\nPlease note that Closed and Deleted cases will not be listed by default, to view Closed/Deleted cases:\\n\\nGo to the Cases module from the left menu bar\\n\\nClick  the filter icon in the search bar\\n\\nAnd choose Closed or Deleted case status as needed to filter and find them\\n\\nCase Assignments:\\n\\nThe \"created by and assigned to\" section pertains to the information regarding the individual or entity responsible for creating and assigning the task or case.\\n\\nTo assign a case to an admin:\\n\\nGo to the Cases module from the left menu bar\\n\\nNavigate to the “Add Assigned To” link to search for the admin.  \\n\\nYou can edit and change the assignment as many times as you like.\\n\\nClicking the bell icon () will send an email notification to that admin who is assigned to the case.\\n\\nInvite to case\\n\\nYou can invite someone who does not have access to Vitafy to collaborate on a case with you. Doing so will grant them access to the complete case, enabling them to contribute notes and upload files to facilitate the progress of the case.\\n\\nTo invite a third party to the case:\\n\\nGo to the Cases module from the left menu bar\\n\\nNavigate to the case you want to invite someone to collaborate on\\n\\nClick on the mail icon\\n\\nEnter email address\\n\\nAdd a note (optional)\\n\\nClick save\\n\\nHistory of all Invitees will be shown on the history tab inside the mail icon  pop up\\n\\nPatient Information \\n\\nEach case includes a snapshot of all the information of the client for whom the case is for.\\n\\nService Information\\n\\nThe service name encompasses all the assistance and support that you offer to your esteemed customers. These services are provided without charge and are aimed at guiding clients through various processes.\\n\\nTo add service:\\n\\nGo to the Cases module from the left menu bar\\n\\nFind the case you want to update\\n\\nClick on one or many services you want to add for this case.\\n\\nIt automatically saves to a case\\n\\nClick the X in the upper right corner to exit\\n\\nReferring Physician\\n\\nA referring physician is a medical doctor who directs a patient to seek care from another physician or specialist for further diagnosis, treatment, or consultation. The referring physician evaluates the patient\\'s medical condition and determines that the expertise or specialized services of another healthcare provider are required.\\n\\nTo add referring physicians:\\n\\nGo to the Cases module from the left menu bar\\n\\nFind the case you want to update\\n\\nClick on Add Referring Physician\\n\\nSearch by NPI or Provider Name\\n\\nSelect physician from dropdown list\\n\\nIF physician is not listed you can add it manually\\n\\nOn bottom of the page Click here to add physician\\n\\nType in First and last name\\n\\nNPI\\n\\nSpecialty\\n\\nAdd Facility information (optional)\\n\\nClick save\\n\\nProvider Information and search\\n\\nThe provider section refers to the healthcare professional or entity that you are engaging with or collaborating with to advance the case until its completion. This selection is made by conducting a search below, where you can explore and evaluate various providers before making a decision.\\n\\nTo search for providers:\\n\\nGo to the Cases module from the left menu bar\\n\\nFind the case you want to update\\n\\nGo to provide search\\n\\nEither search by city, state, or zip\\n\\nChoose mile radius\\n\\nClick search\\n\\nNotes\\n\\nIn this section, you have the ability to maintain a record of notes, progress, and milestones pertaining to the case. It allows you to communicate with the client, admins, or any invitees associated with the specific case that is being actively worked on.\\n\\nTo add notes:\\n\\nGo to the Cases module from the left menu bar\\n\\nFind the case you want to update\\n\\nType your notes in the text box and click Submit\\n\\nTo tag specific users/clients\\n\\nIn the note use the @ and start typing the name of client or admin user and/or any other people associated.\\n\\nSelect from dropdown\\n\\nThey will be notified by email with a link view, respond or upload a file in the note.\\n\\nNotes can be edited or deleted by clicking the edit and trash button respectively. (Can be seen when hovering over notes).\\n\\nEdit history can be seen by clicking the history icon () on the right side of the note.\\n\\nThe eyeball can be crossed out or not depending on accessibility to view; anything directly related to the client (tagged) can be seen by them by default, to allow access to view notes uncross the eye icon.\\n\\nFiles\\n\\nWithin this section, you have the option to include any files relevant to the case that you wish to retain. Files of various types can be uploaded and stored here. Additionally, clients are also able to upload any necessary files pertaining to the case.\\n\\nTo upload files:\\n\\nGo to the Cases module from the left menu bar\\n\\nFind the case you want to update\\n\\nClick on the files tab next to notes\\n\\nClick Upload files.\\n\\nThere are four options to choose from: computer, profile, files (module on the left bar), url.\\n\\nYou can drag and drop files within the box or click to browse.\\n\\nClick upload\\n\\nClick on the ellipses on the right side of the file to: Add to clients profile, download, share (enter email address and note), rename and delete. \\n\\nNOTE:  If there are any missing items or if you require access to something mentioned above, please feel free to contact Vitafy support at support@vitafyhealth.com for any inquiries.'),\n",
       " Document(metadata={'source': 'data/Clients - Comms Module ✓.docx'}, page_content='support@vitafyhealth.com | 1-866-4-Vitafy\\n\\nBillings Module\\n\\nOctober, 2023\\n\\nAll the notifications sent by the system to the email/number on file can be viewed here along with time stamps of mail sent delivered and opened. In the event you miss or lose an email, you can search for it here. \\n\\nHow To\\n\\nView and search for emails received while using the portal\\n\\nTo view any communication in the portal click on the Comms module, this shows the email information and content. \\n\\nUse the search bar to search for specific emails.'),\n",
       " Document(metadata={'source': 'data/Clients - Billings Module ✓.docx'}, page_content='support@vitafyhealth.com | 1-866-4-VITAFY | (866) 484-8239\\n\\nBillings Module\\n\\nOctober, 2023\\n\\nThis module has information about client transactions including recurring memberships or one-time payments. Transaction type is shown in the description column, if the transaction is for a recurring membership, the dates covered will be shown in the pay period column. Transaction status (succeeded or failed) and notes can also be viewed in their respective columns. \\n\\nHow To\\n\\nView transactions details\\n\\nView/print/email receipt\\n\\nAdd transaction\\n\\nView Failed transactions\\n\\nQuick View function (+)\\n\\nThe purpose of this view is to provide a convenient overview of recurring memberships and non-recurring offerings for each client transaction. \\n\\nClick on the + sign on the left-hand side of transactions to get a quick view of transaction type and amount\\n\\nView/email receipt: \\n\\nReceipts include information such as receipt ID, date/time of the transaction, type of transaction (recurring membership/non-recurring offering/custom offering charges), and the full amount of the transaction. \\n\\nGoto ⋮ on the far right of the transaction:\\n\\nOption to view receipt\\n\\nReceipt will open in a new tab and can be printed by using the  icon on the top right corner\\n\\nOption to email receipt\\n\\nA copy of the receipt will be emailed to the email address on file\\n\\nBuy Membership: Use the “Buy membership” button on the top bar \\n\\nList of all membership options available to you will be shown \\n\\nYou can then choose which membership you would like to add from the options listed along with the start date of when you would like for it to begin.\\n\\nFailed transactions\\n\\nFailed transactions are transactions that did not go through due to issues in the form of the payment method selected for that transaction.'),\n",
       " Document(metadata={'source': 'data/Virtual Visits Module ✓.docx'}, page_content='support@vitafyhealth.com | 1-866-4-Vitafy\\n\\nVirtual Visits Module\\n\\nDecember,, 2023\\n\\nOverview\\n\\nEffortlessly manage, update, and participate in virtual visits through our user-friendly portal. This comprehensive module serves as a centralized hub for all your virtual visit information. Seamlessly schedule virtual visits directly within the portal and extend secure invitations to other parties, fostering collaborative engagement.\\n\\nEfficient communication \\n\\nVirtual visits help you directly connect with your clients so you can understand their needs and provide real-time collaboration. \\n\\nFile share\\n\\nFiles can be shared by all participants in the virtual visit. Files shared during the virtual visit will be stored along with participant information and time.\\n\\nHow To\\n\\nAdd a virtual visit\\n\\nStart a scheduled virtual visit\\n\\nGet a shareable link for the virtual visit\\n\\nView virtual visit appointment details\\n\\nView shared virtual visit files\\n\\nAdd Virtual Visit: \\n\\nYou can add a virtual visit by using the +Add button on the top right to select client, date, time, and guests (other admins). \\n\\nStart a scheduled virtual visit call: \\n\\nTo start a scheduled virtual visit, use the ellipses on the far right of the client appointment and click start.  \\n\\nGet Shareable Link: \\n\\nTo get a shareable link to a virtual visit, use the ellipses on the far right of the client appointment and choose a copy meeting link that is shareable to other guests in the virtual visit.\\n\\nView appointment details:  \\n\\nView appointment details to view virtual visit appointment details, use the + sign on the left side of that appointment, and navigate using the patient details, meeting details, and files tab.\\n\\nView virtual visit files: \\n\\nTo view shared virtual visit files, use the + sign on the left side of that appointment and navigate using the files tab.'),\n",
       " Document(metadata={'source': 'data/wec-undp-jtf-nepal-resources-publications-electoral-provisions-in-constitution.pdf'}, page_content='(UNOFFICIAL ENGLISH TRANSLATION)\\n\\nELECTORAL PROVISIONS IN THE CONSTITUTION OF NEPAL\\n\\n&\\n\\nSOME RELEVANT INFORMATION\\n\\nForeword\\n\\nThe Constitution of Nepal has established the an independent constitutional body and has placed it in a dignified position. The Commission has been entrusted with the responsibilities of operating, supervising, directing and controlling the elections of the President, Vice-President, Federal Parliament, State Assembly and members of Local Level. Collecting voters’ list for the purpose of election and conducting referendum on the matters of national importance and registration and regulation of political parties are also within the purview of the Commission.\\n\\nElection\\n\\nCommission\\n\\nas\\n\\nThe Constitution has declared the country as a federal democratic republic and restructured it into Federal, State and Local levels. Structures like legislature, executive and judiciary or judicial committee have been provisioned for the operation of the State affairs from the local level. Periodic elections have been ensured accepting the supremacy of the adult franchise. The legislatures at all levels have been made more inclusive ensuring representation of various classes and communities of the country in the system of governance.\\n\\nThe image of the Commission remains high only if it could perform the responsibilities entrusted by the Constitution with full professional competence in a dignified manner as per expectation of citizens. For this, it is necessary for the Commission and its staff and those directly or indirectly engaged in election to have an updated knowledge on operation and management of elections. In this connection, this handbook has been prepared and published to make available the necessary information to the Commission and the staff thereof and individuals who are interested in the matters of elections, the formation of Election Commission, its functions, duties and powers of the Commission as envisaged by the Constitution; the\\n\\nelectoral systems adopted for various elections to be conducted by the Commission; the election of the President and Vice-President; formation of the Local level, State Assembly, the Federal Parliament; registration of political party and so on.\\n\\nI am fully confident that the present handbook prepared in question & answer format titled as ‘’Electoral Provisions in the Constitution of Nepal and Some Relevant Information’’ will be equally useful for the staff engaged in the Commission and offices thereunder, the voter’s education workers, political parties, voters, students, teachers, and other stakeholders.\\n\\nThe Commission always welcomes the verbal and written suggestions to be received from all stakeholders and well-wishers having interest on matter of elections in order to make the handbook more useful and informative. I would like to specially appreciate the efforts of Basudev Guragain, Joint Secretary and Deshbandhu Adhikari, Under Secretary of the Commission to bring this handbook in the present form.\\n\\nFinally, on behalf of Commission, I would like to express my sincere thanks to the officials of the Commission, secretary and all other employees of the Commission who are directly or indirectly involved in preparing this handbook.\\n\\nDr. Ayodhee Prasad Yadav\\n\\nApril, 2016\\n\\nChief Election Commissioner Election Commission, Nepal\\n\\nAcknowledgement\\n\\nThe Electoral Support Project is pleased to present English translation of ‘’Electoral Provisions in the Constitution of Nepal and Some Relevant Information’’ which was originally published in Nepali by the Election Commission of Nepal in April 2016. The Handbook in Nepali was well received by a wide range of Nepalese readers. It is because various electoral provisions reflected in the Constitution of Nepal (2015) were presented in question and answer form in simple and clear terms. Having received positive feedback from various stakeholders, the Election Commission now intends to publish it in other local languages for the benefit of people of Nepal.\\n\\nThis Handbook in English is published for the use of international community who are directly or indirectly involved in strengthening democratic governance in Nepal. This also could be an informative document for organizations and people outside Nepal for example, officials of Electoral Management Bodies, civic & voter educators, lawyers, academia, development partners and other electoral stakeholders at international level.\\n\\nFinally, on behalf of the Electoral Support Project, I would like to express my sincere thanks to Krishna Man Pradhan, Executive Director of Nepal Law Society, Navaraj Dhakal, Joint Secretary of the ECN, Kundan Das Shrestha, Deputy Project Manager and Mukunda Raj Pandeya, Training Specialist of UNDP Electoral Support Project for their contribution in translation/editing and Rochan Kadariya for designing of the Handbook.\\n\\nAndres del Castillo\\n\\nAugust, 2016\\n\\nChief Technical Advisor/Project Manager Electoral Support Project, UNDP Nepal\\n\\nACRONYMS\\n\\nAV\\n\\nBC\\n\\nAlternative Vote\\n\\nBV\\n\\nBorda Count\\n\\nFPTP\\n\\nBlock Vote\\n\\nList PR\\n\\nFirst Past the Post\\n\\nLV\\n\\nList Proportional Representation\\n\\nMMP\\n\\nLimited Vote\\n\\nPBV\\n\\nMixed Member Proportional\\n\\nPR\\n\\nParty Block Vote\\n\\nSNTV\\n\\nProportional Representation\\n\\nSTV\\n\\nSingle Non-Transferable Vote\\n\\nTRS\\n\\nSingle Transferable Vote\\n\\nTwo-Round System\\n\\nQUESTIONS-ANSWERS\\n\\n1. On which date was the Constitution of Nepal promulgated?\\n\\n\\n\\nThe Constitution of Nepal was promulgated on Sunday, the 20\\n\\nth\\n\\nof September, 2015 (Asoj 3, 2072). 2. What subjects concerning election have been dealt within the preamble to the Constitution?\\n\\n\\n\\nAdult franchise and periodic election have been categorically stated in the preamble to the Constitution.\\n\\n3. What is democracy?\\n\\n\\n\\n\\n\\nThe prevalence of supremacy of popular will in overall affairs of the state and operation of the State affairs based on peoples’ will is democracy.\\n\\nIn democracy, even the head of the state is directly or indirectly elected through popular will. Democracy has various forms. Representative democracy has been accepted all over the world.\\n\\n4. What is an election?\\n\\n\\n\\n\\n\\nIt is not possible for all citizens to directly take part in the system of governance.\\n\\n\\n\\nThey are involved in the system of governance through their representatives who are elected through their secret ballot.\\n\\nThe rule and procedure of selection of representatives of peoples is election.\\n\\n1\\n\\n\\n\\nIt is necessary to have a free, fair and credible election procedure and process.\\n\\n5. What is an electoral system?\\n\\nThe Electoral System Families\\n\\nPlurality/Majority\\n\\nMixed\\n\\nProportional Representation\\n\\nOther\\n\\nFPTP TRS AV BV PBV\\n\\nLIST PR\\n\\nSTV\\n\\nPARALLEL\\n\\nMMP\\n\\nSNTV\\n\\nLV\\n\\nBC\\n\\n\\n\\n\\n\\nThe representatives of peoples are elected through their secret ballot based on adult franchise. It is necessary to convert the votes into seats. The rule of converting “votes into seats” is electoral system.\\n\\n\\n\\nThere are altogether 12 electoral systems within the four major electoral system families namely: plurality/ majority, proportional representation, mixed and others.\\n\\nAll electoral systems have their own features. Because of the special features of each of these systems, there appear different results in the number of representation and its form even though the number of votes remain the same.\\n\\n2\\n\\n\\n\\n\\n\\nIn order to achieve peace, stability and prosperity and to address special circumstances of political change or specific issues recognized by the state most of the countries in the world have chosen new electoral system instead of the electoral system being used in the past.\\n\\nAfter the people’s movement of 2005/2006, we (Nepal) have opted for the mixed electoral system instead of the plurality/majority electoral system in order to manage the political conflict and to address the religious, cultural and social diversity of the country. The elections of the Constituent Assembly held in 2008 and 2013 were held adopting the mixed electoral system.\\n\\n6. What are the provisions in the Constitution on electoral system?\\n\\n\\n\\n\\n\\nThe Constitution have provided various forms of electoral systems for the election of Local Level, State Assembly, Federal Parliament, President and Vice- President.\\n\\n\\n\\nThe Constitution of Nepal has adopted the supremacy of the adult franchise and the principle of inclusive representation.\\n\\n\\n\\nThe Constitution provisioned first past the post system for the election of Local Level, and the mixed electoral system of first past the post and proportional representation for the election of State Assembly and House of Representatives.\\n\\n\\n\\nIt is provisioned that the President, Vice-President and members of the National Assembly are to be elected through an Electoral College.\\n\\nAt the Local Level, representatives are elected through\\n\\n3\\n\\n\\n\\nthe secret ballot based on the adult franchise. The elected representatives will elect office-bearers from among themselves. To ensure the representation of particular class or community, there are provisions to elect among candidates from those class or community only.\\n\\nProvisions of election through an Electoral College comprising of the representatives elected on the basis of adult franchise has been made for the election of the President, Vice-President and members of National Assembly and there is also a provision of nomination of members on the recommendations of the government for the National Assembly.\\n\\n7. What is understood by an Electoral College?\\n\\n\\n\\n\\n\\nThe group of persons elected through general voters for election of the President, Vice-President or other persons holding important position is called the Electoral College.\\n\\nIn case of Nepal, provisions have been made that the election of the President, Vice-President and members of the National Assembly would be held through the Electoral College.\\n\\n8. What is mixed electoral system?\\n\\n\\n\\n\\n\\nThe use of two different electoral systems at the same time is known as mixed electoral system.\\n\\n\\n\\nThis system has mixed the merits of plurality/ majority or other electoral systems and proportional representation electoral system.\\n\\nThe mixed family of electoral system comprises of two\\n\\n4\\n\\n\\n\\nsystems: mixed member proportional and parallel systems.\\n\\n\\n\\nNepal has adopted the parallel system.\\n\\n\\n\\nIn the parallel system, the candidates are selected through plurality /majority and list-based proportional electoral systems. The results derived from both systems are not affected by each other.\\n\\n\\n\\nIn Nepal, the first past the post electoral system within plurality/majority electoral system and list-based proportional electoral system within the proportional electoral system are practiced.\\n\\n\\n\\nThe parallel system was used in the elections of the Constituent Assembly Members in Nepal.\\n\\nThe Constitution has adopted this system for the election of the House of Representatives and the State Assembly.\\n\\n9. What type of electoral system is the first past the post system?\\n\\n\\n\\n\\n\\nThis is one of the systems of the plurality/majority electoral family.\\n\\n\\n\\nThis is the oldest system amongst the electoral systems prevailing all over the world.\\n\\n\\n\\nIn this system, the candidate who secures the highest valid votes will be elected.\\n\\n\\n\\nSingle member electoral constituency and candidate- centric ballot paper are used in this system.\\n\\n\\n\\nIn this system, a voter casts one vote to one candidate.\\n\\nThe representatives will have accountability in terms\\n\\n5\\n\\n\\n\\nof geographical constituency. Popular candidates will be elected. It is more likely to form single party government. The opposition would be strong. These are the merits of this system.\\n\\nIt has some demerits as well. This system discourages the representation of fringe parties. There will be no balance between the votes secured and seats allocated. Votes go wasted. Sometimes minority may rule over majority. There will be no proportional representation. It does not ensure representation of women, marginalized and backward communities.\\n\\n10. What is the two-round electoral system?\\n\\n\\n\\n\\n\\nThis is the electoral system where election could be held in two rounds. If no candidate or party could secure majority of the total votes in the first round of election then competition is held between the first and second candidates who secure the highest number of votes in the first round of election.\\n\\n\\n\\nThis system is used for the election of President in many countries.\\n\\n\\n\\nThe Constitution of Nepal has adopted this system for the elections of the President and Vice-President.\\n\\n\\n\\nSince this system requires majority even in the second round. It is provisioned that after the second round, the candidate who secures highest vote out of the total votes cast is elected.\\n\\n\\n\\nThe voters will have opportunity to cast votes for two times in this electoral system.\\n\\nThis system increases the winning of popular party or candidate.\\n\\n6\\n\\n11. What is the proportional electoral system?\\n\\n\\n\\n\\n\\nThe system of allocation of seats on the basis of the votes secured by political parties is the proportional electoral system.\\n\\n\\n\\nSince multi-member electoral constituencies are mandatory for this electoral system, entire country is regarded to be one electoral constituency or constituencies are created based on State.\\n\\n\\n\\nSome of the countries have set minimum threshold required for representation.\\n\\n\\n\\nWithin proportional electoral system, there are two systems: List-based proportional and single transferable voting. Again, there are three types of lists: closed, open and free within list-based proportional system.\\n\\nIn the context of Nepal, the close list system within the proportional representation system has been adopted for the election of House of Representatives and State Assembly. 12. What is a closed-list?\\n\\n\\n\\n\\n\\nPolitical parties submit the list of candidates to the election management body (the Election Commission in case of Nepal).\\n\\n\\n\\nOnce the final list is prepared, it can not be changed.\\n\\n\\n\\nThat is why it is called closed list.\\n\\n\\n\\nPolitical parries select the winning candidates based on the number of seats secured by them.\\n\\nThe formula such as Sainte-Laguë and modified Sainte- Laguë have been used to allocate seats to be obtained by political parties. In the election of the Constituent 7\\n\\nAssembly, the modified Sainte-Laguë formula was used (The method is to divide the votes by odd numbers 1.4, 3, 5, 7…… and so on and allocate the seat to the one with the highest remainder).\\n\\n13. What provision has been made in the Constitution with regard to formation of the Election Commission?\\n\\n\\n\\n\\n\\nThe Election Commission is a Constitutional Body. Articles 245, 246 and 247 of the Constitution has provisioned about the Election Commission.\\n\\n\\n\\nThere will be one Chief Election Commissioner and four Election Commissioners in the Commission. The Chief Election Commissioner shall act as the Chief of the Commission.\\n\\n\\n\\nAppointment of the Chief Election Commissioner and Election Commissioners shall be made by the President on the recommendation of the Constitutional Council upon parliamentary hearing.\\n\\n\\n\\nThe term of office of the Chief Election Commissioner and Election Commissioners shall be of six years.\\n\\nThe Chief Election Commissioner and Election Commissioners are not eligible for reappointment.\\n\\nHowever, a person working as Election Commissioner may be appointed to the office of Chief Election Commissioner.\\n\\n14. What are the qualifications for the appointment to the office of Chief Election Commissioner/Election Commissioner?\\n\\nThe following qualifications are necessary to be appointed as Chief Election Commissioner/Election Commissioner:-\\n\\n8\\n\\n\\n\\n\\n\\nHolding a bachelor’s degree university;\\n\\nfrom a recognized\\n\\n\\n\\nHaving attained the age of 45 years;\\n\\n\\n\\nNot being a member of any political party at the time of the appointment; and\\n\\nBeing of high moral character.\\n\\n15. On what\\n\\nElection Commissioner and Election Commissioners relieved from the office?\\n\\ncircumstances\\n\\nare\\n\\nChief\\n\\n\\n\\n\\n\\nHaving submitted written resignation to the President;\\n\\n\\n\\nHaving attained the age of 65 years;\\n\\n\\n\\nHaving been impeached by the parliament by passing the impeachment motion pursuant to Article 101;\\n\\n\\n\\nHaving been dismissed by the President on the recommendation of the Constitutional Council for being unable to perform works of the office due to physical or mental ill-health;\\n\\nIf he or she dies 16. What are the main\\n\\nfunctions of the Election\\n\\nCommission?\\n\\n\\n\\n\\n\\nThe following are the major functions of the Election Commission:-\\n\\n\\n\\nTo conduct, supervise, direct and control the elections for the President, Vice President, Federal Parliament, State Assemblies and Local Bodies.\\n\\n\\n\\nTo prepare voters’ list for the purpose of election\\n\\nTo conduct referendum on the subjects of national 9\\n\\n\\n\\nimportance\\n\\n\\n\\nTo decide on the question of qualification of any candidate that arises after the filing of candidacy for the election of President, Vice-President, member of Federal Parliament, member of State Assembly and member of Local Levels but before the result of the election is declared;\\n\\nTo register parties and to regulate them pursuant to Articles 269, 270, 271, 272 of Part 29 of the Constitution 17. Who are the voters for the election of the President\\n\\nand Vice-President?\\n\\n\\n\\n\\n\\nArticle 62 of the Constitution provides for election of the President.\\n\\n\\n\\nThere shall be an Electoral College comprising of the members of Federal Parliament (House of Representatives and National Assembly) and members of State Assembly for the election of the President and Vice-President.\\n\\n\\n\\nThe Constitution states that lack of election of State Assembly in any State shall not be the sole ground to stop the formation of the Electoral College for the election of the President.\\n\\n\\n\\nMembers of the Electoral College shall elect the President and Vice-President through a secret ballot.\\n\\nThe weightage of the vote of member of Federal Parliament and of the State Assembly would be different as per the Federal Law.\\n\\n10\\n\\n18. What is the procedure of election of the President and Vice-President?\\n\\n\\n\\n\\n\\nThe President and Vice-President will be elected by absolute majority of the then existing members of the Electoral College.\\n\\n\\n\\nIn case any candidate could not secure absolute majority of the total votes in the first round, second round election shall be held between the two candidates securing the highest number of votes in the first round of election and the candidate securing more than fifty percent of the total votes shall be elected.\\n\\nIn case none of the candidates is able to secure more than fifty percent of the total votes even in the second round, third round of election shall be held. In such election, the candidate who secures majority of the valid casted votes shall be elected as President and Vice-President.\\n\\n19. What are the qualifications to become President and Vice-President?\\n\\n\\n\\n\\n\\nQualified for being a member of the Federal Parliament;\\n\\n\\n\\nHaving attained at least the age of 45 years; and (The qualifications required for being a member of the Federal Not disqualified by any law. Parliament is given in Question No. 23 of this handbook)\\n\\n20. What are other main provisions relating to President and Vice-President?\\n\\n\\n\\nThe term of office of the President and Vice-President shall be of five years.\\n\\n11\\n\\n\\n\\n\\n\\nPersons who has served as President for two terms shall not be eligible for the candidate of Presidential election.\\n\\nThe election of President and Vice-President shall be held ensuring representation of different gender or community.\\n\\n21. What is Federal Parliament?\\n\\n\\n\\n\\n\\nArticle 83 of the Constitution has provisioned about the Federal Parliament.\\n\\nThere shall be one Federal Parliament comprising of two houses named as House of Representatives and National Assembly, which shall be called as the Federal Parliament.\\n\\n22. How many members are there Parliament?\\n\\n22. How many members are there Parliament?\\n\\n\\n\\n\\n\\nThe Federal Parliament shall be bicameral.\\n\\nThere shall be a total of 334 members in the Federal Parliament, out of which the House of Representatives will have 275 members and the National Assembly will have 59 members.\\n\\n23. What types of qualifications are required to become a member of Federal Parliament?\\n\\nAs per the Constitution, the following qualifications shall have to be met to become a member of the Federal ● Parliament:-\\n\\n\\n\\nNepali citizen;\\n\\nHaving attained the age of 25 years in case of the House of Representatives and 35 years in case of the National\\n\\n12\\n\\n\\n\\nAssembly;\\n\\n\\n\\nNot convicted in any criminal offence involving moral turpitude;\\n\\n\\n\\nNot disqualified by any Federal Law;\\n\\nNot holding any office of profit.\\n\\n24. How is the House of Representatives formed?\\n\\n\\n\\n\\n\\nArticle 84 of the Constitution has provisioned about the formation of House of Representatives.\\n\\nThe House of Representatives shall consist of 275 - members to be elected as follows: -\\n\\n\\n\\nOne hundred sixty-five members are elected through the first past the post electoral system, with one member from each of the 165 electoral constituencies delimited based on population and geographic convenience and specialty;\\n\\n\\n\\nOne hundred ten members to be elected from political parties through a proportional representation electoral system that considers the whole country as one single electoral constituency;\\n\\nIn this way, 60% of the members of the House of Representatives will be elected through the first past the post and 40% members shall be elected through the proportional electoral system.\\n\\n25. What are the groups to be included and matters to be taken into account while filing candidacy by political party in an election under the proportional electoral system in order to make the House of Representatives inclusive?\\n\\n13\\n\\n\\n\\nWhile filing candidacy for the election to be held as per the proportional electoral system, political party shall have to prepare the close-list having ensured representation of the following eight groups based on population. Similarly, while filing candidacy, balance between geography and States must be taken into account and representation of the persons with - disability shall also have to be made:-\\n\\n\\n\\nWomen;\\n\\n\\n\\nDalit;\\n\\n\\n\\nIndigenous people;\\n\\n\\n\\nKhas Arya (Chhetri, Brahmin, Thakuri, Sanyasi- Dasnami community);\\n\\n\\n\\nMadhesi;\\n\\n\\n\\nTharu;\\n\\n\\n\\nMuslim;\\n\\nBackward region.\\n\\n26. What is the term of the office of the House of Representatives?\\n\\n\\n\\n\\n\\nThe term of the office of the House of Representatives shall be of five years.\\n\\n\\n\\nThe term of office may be extended not exceeding one year in case of state of emergency. ipso facto In case of extension of the term of the office, it shall be ended upon the completion of six months from the date of revocation of the state of emergency situation.\\n\\n14\\n\\n27. What provision has the Constitution made as to fulfillment of vacant office of any member while the term of office of the House of Representatives still remains?\\n\\n\\n\\nIn case the seat of any member of the House of Representatives falls vacant during the period when the remaining term of office of the House of Representatives is more than six months, such seat shall be fulfilled by the same procedure by which electoral system such seat was fulfilled, for the remaining period.\\n\\n28. In how many electoral constituencies may one candidate file candidacy in an election under the first past the post electoral system to be conducted for the members of the House of Representatives?\\n\\n\\n\\n\\n\\nA candidate may file candidacy from only one of the electoral constituencies in an election under the first past the post electoral system for the members of the House of Representatives.\\n\\nCandidacy is not allowed for more than one electoral constituency.\\n\\n29. How is the National Assembly formed?\\n\\nThe Constitution has provisioned the National Assembly ● shall be formed comprising of the following members:-\\n\\n\\n\\nFifty six members – eight from each State. Among the eight members at least three have to be women, one Dalit, and one member with a disability or from a minority group from each State.\\n\\nThree persons including one woman, nominated by the President on the recommendation of Government of Nepal;\\n\\n15\\n\\n\\n\\nThere shall be altogether 59 (fifty nine) members in the National Assembly.\\n\\n30. Who are the voters for the election of members of National Assembly?\\n\\n\\n\\n\\n\\nAn Electoral College shall be formed to elect the members of the National Assembly.\\n\\n\\n\\nThe members of the Electoral College shall comprise of members of the State Assembly, the Chairpersons and Vice-Chairpersons of the Village Bodies and Mayors and Deputy Mayors of Municipalities.\\n\\nThe weightage of the vote of members of the State Assembly, the Chairpersons and Vice-Chairpersons of the Village Bodies and Mayors and Deputy Mayors of Municipalities shall differ as per the Federal Law. 31. What is the term of office of members of the National\\n\\nAssembly?\\n\\n\\n\\n\\n\\nThe National Assembly is a Permanent House. The term of office of its members is six years.\\n\\n\\n\\nBeing a Permanent House, the term of all members shall not expire at one time, rather it expires on a rotational basis whereby one-third of the members are replaced in every two years.\\n\\n\\n\\nTherefore, one third of the members of National Assembly are elected in every two years.\\n\\nFor the first time, a lottery system is adopted to decide the first one-third to retire in two years, the second one- third to retire in four years and the remaining one-third to retire in six years.\\n\\n16\\n\\n32. How is the vacant office of member of the National Assembly fulfilled?\\n\\n\\n\\nIn case any seat becomes vacant in the National Assembly, such seat shall be fulfilled, for the remaining period, in the same manner of election or nomination by which the seat was fulfilled earlier.\\n\\n33. What type of provision has been made as to women’s representation on the Federal Parliament?\\n\\n\\n\\n\\n\\nAt least one third of the total number of members elected from each political party to the Federal Parliament (the collective form of the House of Representatives and National Assembly) shall be women.\\n\\n\\n\\nSimilarly, one out of the three members to be nominated by the President has to be woman.\\n\\nAs such, out of total 334 members of the Federal Parliament, at least one third members or 112 members have to be women.\\n\\n34. How is the representation of women ensured in the Federal Parliament?\\n\\n\\n\\nIn case one third women could not be elected from a political party in the election to the House of Representatives through the first past the post and in the election to the National Assembly, such party shall have to ensure one third women representation in Federal House by ensuring enough women candidates are elected the close-list of proportional representation for the election to the House of Representatives.\\n\\nfrom\\n\\n17\\n\\n35. What are the provisions (made in the Constitution) to ensure gender inclusion and multi-party participation in the leading positions of the House?\\n\\nin the The Constitution to ascertain gender inclusion and multi-party ● participation in the leading positions of the House:-\\n\\nfollowing provisions have been made\\n\\n\\n\\nEither of the Speaker or Deputy-Speaker of the House of Representative must be woman;\\n\\n\\n\\nEither of the Chairperson or Deputy-Chairperson of the National Assembly must be woman;\\n\\nThe Speaker and Deputy-Speaker of the House of Representatives must be elected from different political parties (except in case when there is representation of only one party in the House of Representatives or in case candidacy from only one party is filed)\\n\\n36. What is the State Assembly?\\n\\n\\n\\nThe State legislature formed to formulate State laws and carry out legislative functions is the State Assembly. Such State Assembly shall be unicameral.\\n\\n37. How is the State Assembly formed?\\n\\n\\n\\n\\n\\nThe mixed electoral system has been applied in case of formation of the State Assembly as well.\\n\\nOut of the total members in a State Assembly, sixty percent shall be elected through the first past the post and 40 percent shall be elected through proportional representation electoral system.\\n\\n38. What is the total number of members in the State Assembly?\\n\\n18\\n\\nEach State Assembly shall have the members as follows:-\\n\\n\\n\\nThe members double in number of the members to be elected to the House of Representatives from the concerned State through the first past the post electoral system.\\n\\nThe number of members elected in such a manner shall be regarded as 60 percent and remaining 40 percent shall be elected through the proportional electoral For example: In case 30 members are elected to the House of system. Representatives from any State, double of that number, or 60 members, shall be elected through the first past the post in that State (which number is regarded as 60%), and 40 persons (or 40%) shall be elected from the proportional electoral system; thereby total number of members will be 100.\\n\\n39. What are the qualifications required to become a member of State Assembly?\\n\\n\\n\\n\\n\\nNepali citizen;\\n\\n\\n\\nOne must be a voter of the concerned State;\\n\\n\\n\\nHaving attained the age of 25 years;\\n\\n\\n\\nNot convicted in any criminal offence involving moral turpitude;\\n\\n\\n\\nNot disqualified by any Federal Law;\\n\\nNot holding any office of profit.\\n\\n40. What is the total number of members in seven States Assemblies?\\n\\n\\n\\nThe number of members to the State Assembly is directly linked to the number of members of the House 19\\n\\n\\n\\nof Representatives to be elected through the first past the post.\\n\\n\\n\\nDouble of the number of members to be elected to the House of Representatives through the first past the post shall be regarded as 60 percent for the purpose of the State Assembly.\\n\\n\\n\\nAs a total of 165 members elected to the House of Representatives from the seven States, the State Assembly shall have double of that number or 330 members elected through the first past the post. This number is 60 percent of the total number of members in the States.\\n\\n\\n\\nRemaining 40 percent or 220 members shall be elected from the proportional electoral system.\\n\\n\\n\\nTherefore, there shall be a total of 550 members in the State Assembly of seven States.\\n\\nAs the electoral constituencies are yet to be delineated, it cannot be presently stated which State will have how many members. 41. What are the groups to be included and matters to be taken into account while filing candidacy by political party in an election under the proportional electoral system in order to make the State Assembly inclusive?\\n\\n\\n\\n\\n\\nWhile filing candidacy by political party for the election to be held as per the proportional electoral system, the closed list shall be prepared with the representation of various nine groups based on population.\\n\\nThis group shall include the various eight groups specified for the House of Representatives (as referred to in Question No. 25) and minority groups.\\n\\n20\\n\\n\\n\\nWhile filing candidacy, attention has to be paid to geography and State balance and provision has to be made for representation of the persons with disability.\\n\\n42. What are the provisions for women’s participation in the State Assembly?\\n\\n\\n\\n\\n\\nThe provision which the Constitution has made for representation of women to the House of Representatives has also been made for the State Assembly.\\n\\n\\n\\nTherefore, at least one third of the total number of members to be elected from each political party representing the State Assembly shall have to be women.\\n\\n\\n\\nAccordingly, out of 550 members in the seven States, at least 184 members shall be women.\\n\\nIn case one third women could not be elected from a political party in the election to the State Assembly through the first past the post, such party shall have to ensure one third women representation by electing enough women candidates from the close-list of proportional representation for the election to the State Assembly.\\n\\n43. What is the term of office of the State Assembly?\\n\\n\\n\\n\\n\\nThe term of office of the State Assembly shall be of five years.\\n\\nIn case the state of emergency is declared in the concerned State or in case of special order prevailing in the State, the term of office of the State Assembly may be extended for a period of not exceeding one year as per State Law.\\n\\n21\\n\\n\\n\\nIn case the term of office is extended in such a manner, it shall be terminated after expiry of six months from the date of revocation of the state of emergency. 44. What are the provisions (made in the Constitution) inclusion and multi-party to ensure gender participation in the leading positions of the State Assembly?\\n\\n\\n\\n\\n\\nEither of the Speaker or Deputy-Speaker of the State Assembly must be woman;\\n\\n\\n\\nThe Speaker and Deputy-Speaker must be elected from different political parties (except in case there is representation of only one party in the State Assembly or in case the candidacy is filed by only one party)\\n\\nAs such, gender inclusion and multi-party participation has been ensured in the State Assembly just like in the case of Federal Parliament\\n\\n45. What are the bodies under the Local Level?\\n\\n\\n\\n\\n\\nLocal Level comprises of Village Body, Municipality and District Assembly.\\n\\n\\n\\nThe Village Body and Municipality are geographical and administrative units.\\n\\n\\n\\nThere shall be local legislature for legislative functions of these bodies.\\n\\n\\n\\nThe local legislature shall be called Village Assembly and Municipal Assembly.\\n\\nFor executive functions, there shall be a local executives - which are Village Executive and Municipal Executive.\\n\\n22\\n\\n46. How is the Village Assembly formed?\\n\\n\\n\\n\\n\\nThe Ward Committee is the lowest level of the Village Body.\\n\\n\\n\\nEach Ward Committee shall have a Ward Chair and four ward members, of which at least two shall be women.\\n\\n\\n\\nFor the formation of the Village Assembly, the voters of each Ward elect one Ward Chairperson, four members, and Chairperson and Vice-Chairperson of the Village Executive using secret ballot based on adult franchise through the first past the post system.\\n\\n\\n\\nex-officio The Chairperson and Vice-Chairperson of the Village Executive shall be the Chairperson and Vice- Chairperson of the Village Assembly\\n\\nThe two persons elected by Village Assembly members from the Dalit community and marginalized group for Village Executive shall also be the member of Village Assembly.\\n\\nFor example: as per this provision, if there are nine Wards in any Village Body, the number of members of the Village Assembly shall be 49.\\n\\nVillage Assembly\\n\\nChair : 1\\n\\nVice-Chair : 1\\n\\nWard Chair : 1 x 9\\n\\nWard Members : 4* x 9\\n\\nPersons from Dalit or Minority Community : 2\\n\\nNote: Each Ward should represent at least 2 Women\\n\\n23\\n\\n47. How is the Municipal Assembly formed?\\n\\n\\n\\n\\n\\nThe process of formation of Village Assembly and Municipal Assembly is similar.\\n\\n\\n\\nA Ward Committee shall be formed comprising of a Ward Chairperson and four Ward Members including at least two women.\\n\\n\\n\\nFor the formation of Municipal Assembly, voters of each Ward of the Municipality elect one Ward Chairperson, four Ward Members and Mayor and Deputy Mayor of the Municipal Executive.\\n\\nex-officio\\n\\n\\n\\nThe Mayor and Deputy Mayor of the Municipal Executive shall be the Chairperson and Vice-Chairperson of the Municipal Assembly.\\n\\nThe three persons belonging to Dalit or minority who are elected by members of Municipal Assembly shall also be the members of the Municipal Assembly.\\n\\nFor example: as per this provision, if there are eleven Wards in any Municipality, the number of members of the Municipality Assembly shall be 60.\\n\\nMunicipal Assembly\\n\\nChair : 1\\n\\nVice-Chair : 1\\n\\nWard Chair : 1 x 11\\n\\nWard Members : 4* x 11\\n\\nPersons from Dalit or Minority Community : 3\\n\\nNote: Each Ward should represent at least 2 Women\\n\\n24\\n\\n48. How is the District Assembly formed?\\n\\n\\n\\n\\n\\nThe District Assembly is formed to forge coordination between the Village Bodies and Municipalities within the district; to balance development and construction work of the district; and to forge coordination between the Federal and the State level Government offices and Village Bodies and Municipalities in the district.\\n\\nThe District Assembly is comprised of the Chairperson and Vice Chairperson of every Village Executive and the Mayor and Deputy Mayor of every Municipal Executive within the district.\\n\\nComposition of District Assembly\\n\\nDistrict Coordination Committee\\n\\nNumber\\n\\nVillage Assembly Chairpersons\\n\\nChief\\n\\n1\\n\\nMunicipality Mayors\\n\\nDeputy Chief\\n\\n(at least 3)\\n\\n1\\n\\nVillage Assembly Vice-Chairpersons\\n\\nFemale\\n\\n3\\n\\nMunicipality Deputy Mayors\\n\\n(at least 1)\\n\\nDalit or Minority Community\\n\\n1 Maximum 9 Members\\n\\n49. What are the provisions with regard to the District Coordination Committee?\\n\\n\\n\\nThe District Assembly shall elect the District Coordination Committee comprising of nine Members including one Chief, one Deputy Chief, at least three women and at least one Dalit or minority from the Village and Municipal Assemblies in order to carry out\\n\\n25\\n\\n\\n\\nall functions required to be discharged by the District Assembly.\\n\\n\\n\\nThe members of the Village Assembly and Municipal the District file candidacy Assembly may Coordination Committee.\\n\\nfor\\n\\n\\n\\nThe office of the member of the Village Assembly and Municipal Assembly who gets elected to the District Coordination Committee shall be\\n\\nipso facto\\n\\nfall vacant.\\n\\nThe Constitution does not provide way out for the fulfillment of the position that falls vacant in such a manner.\\n\\n50. How is the Judicial Committee in the Village Body and Municipality formed?\\n\\n\\n\\n\\n\\nThere shall be a three-member Judicial Committee under the coordination of the Vice-Chairperson in the case of a Village Body and Deputy Mayor in the case of a Municipality, in order to settle disputes under their respective jurisdictions.\\n\\nOther two members of the Judicial Committee are elected by the members of the Village Assembly or the Municipal Assembly from amongst themselves, as the case may be.\\n\\n51. What is the minimum representation of women in the Ward Level Local Legislature?\\n\\n\\n\\n\\n\\nOut of five members (one Ward Chairperson and four members) in the Ward Committee of the Village Body or Municipality of the Local Level, there shall be at least two women members.\\n\\nRepresentation of at least 40% of women has been\\n\\n26\\n\\nensured at the Ward level.\\n\\n52. What is the term of the office of Village Assembly and Municipal Assembly?\\n\\n\\n\\n\\n\\nThe term of office of the Village Assembly and Municipal Assembly shall be of five years from the date of election.\\n\\nThe election of the next Village Assembly and Municipal Assembly shall be completed within six months from the date of completion of the term of office.\\n\\n53. How is Local Executive formed?\\n\\n\\n\\n\\n\\nThe executive powers of Local Level shall be vested in the Village Executive and Municipal Executive.\\n\\n\\n\\nThese bodies are entrusted with the responsibilities of general direction, control and operation of the system of governance in their respective areas.\\n\\n\\n\\nThere shall be the members elected from local voters and elected by local legislature (Village Assembly and Municipal Assembly) in the Village Executive and Municipal Executive.\\n\\nAdopting adult franchise for the election of the executive heads of Local Level, the Constitution has accorded supremacy to the popular votes.\\n\\n54. Who are the office-bearers in the Village Executive?\\n\\nThe Village Executive shall have the following officials:-\\n\\n\\n\\nOne Chairperson;\\n\\n\\n\\nOne Vice-Chairperson;\\n\\nOne Ward Chairperson elected from each Ward of a 27\\n\\n\\n\\nVillage Body;\\n\\n\\n\\nFour women members elected by the Village Assembly members from among themselves;\\n\\n\\n\\nTwo members elected by the Village Assembly members from Dalit or minority communities;\\n\\nIn this way, if a Village Body has nine Wards, the number of members of the Village Executive will be 17. Number\\n\\nElected Member\\n\\nChairperson\\n\\n1\\n\\nVice-Chairperson (Assuming 9 Wards) Ward Chairpersons\\n\\n1\\n\\n9\\n\\nFemale Total Members Dalit or Minority Community\\n\\n4 17 2\\n\\n55. Who are the office-bearers in the Municipal Executive?\\n\\nThe Municipal Executive shall have the following officials:-\\n\\n\\n\\nOne Mayor;\\n\\n\\n\\nOne Deputy-Mayor;\\n\\n\\n\\nOne Ward Chairperson elected from each Ward of a Municipality;\\n\\n\\n\\nFive women members elected by the Municipal Assembly members from among themselves;\\n\\nThree members elected by the Municipal Assembly members from Dalit or minority communities;\\n\\n28\\n\\n\\n\\nIn this way, if a Municipality having 11 Wards, the number of members of the Municipal Executive will be 21. Number\\n\\nElected Member\\n\\nMayor\\n\\n1\\n\\nDeputy-Mayor (Assuming 11 Wards) Ward Chairpersons\\n\\n1\\n\\n11\\n\\nFemale Total Members Dalit or Minority Community\\n\\n5\\n\\n21 3\\n\\n56. What is the term of the office of the Local Executive and for how many times may one stand as candidate?\\n\\n\\n\\n\\n\\nThe term of the office of the Local Executive shall be of five years.\\n\\n\\n\\nIn case the office of the Chairperson or Vice-Chairperson of the Village Executive and of the Mayor or Deputy- Mayor of the Municipal Executive falls vacant with the remaining term of office more than one year, such vacant office shall be fulfilled through a by-election.\\n\\nThe person who has been elected to the office of Chairperson of the Village Executive and of the Mayor of the Municipal Executive for two terms shall not be eligible to become candidate again in the election of Village Executive and Municipal Executive.\\n\\n57. What are the provisions to ensure that the Local Executives are inclusive?\\n\\n29\\n\\n\\n\\n\\n\\ninclusive, to make Local Executive In order representation of women, Dalit or minority has been ensured.\\n\\n\\n\\nFour and five women members shall be elected by the Village Assembly or Municipal Assembly respectively.\\n\\nFor representation of Dalit or minority communities, the Village Assembly or Municipal Assembly shall elect two members in the Village Executive and three members in the Municipal Executive respectively. 58. What are the provisions (in the Constitution) for conducting the election of Local Body as per the existing set up?\\n\\n\\n\\n\\n\\nArticle 303 of the Constitution states that the currently existing Local Bodies shall remain until the number and area of Local Body is determined as per this Constitution.\\n\\n\\n\\nAt present, there are 3,157 Village Development Committees and 217 Municipalities in the country.\\n\\nThe Constitution provides that the election of officials of these bodies will be held as per the laws and elected officials will hold their respective positions until the election of Local Level is held as per this Constitution.\\n\\n59. How many times does a voter cast vote to how many officials in the election of Local Body as per the existing provision?\\n\\n\\n\\nIn the election, one voter shall cast his/her vote to elect one Ward Chairperson, four Ward Members including at least one Woman, Chairperson and Vice-Chairperson of the Village Body or Mayor and Deputy Mayor of Municipality - thereby altogether for election of seven representatives.\\n\\n30\\n\\n60. What are the provisions for the delineation of electoral constituency?\\n\\nThe Constitution provides that Government of Nepal may constitute an Electoral Constituency Delineation Commission to determine electoral constituencies for the purpose of election to the members of the Federal Parliament and members of the State Assemblies. The Commission shall have the following Chairperson and member:-\\n\\nChairperson\\n\\nA retired Judge of the Supreme Court\\n\\nMember\\n\\nOne Geographer\\n\\nMember\\n\\nOne sociologist or demographer\\n\\nMember\\n\\nOne administration expert or jurist\\n\\nMember-secretary\\n\\nGazetted special class officer of the Government of Nepal\\n\\n61. What are the bases of delineation of electoral constituency?\\n\\nThe following are the bases of delineation of electoral ● constituency:-\\n\\nWhile determining electoral constituencies pursuant to Article 286 of the Constitution, the Electoral Constituency Delineation Commission shall, subject to sub-clause (a) of clause (1) of Article 84, determine the constituencies having regard to population as the main and geography as secondary basis of representation as (Sub-clause (a) of clause (1) of Article 84 has been per the Federal Law. mentioned in Question No. 24 of this handbook).\\n\\n\\n\\nFor each of the district within a State, there shall be at 31\\n\\n\\n\\nleast one electoral constituency;\\n\\nWhile constituencies, considerations must be made for population and geographical appropriateness, population density of the region, geographical specificity, administrative and transportation convenience, community and cultural aspects of the constituencies.\\n\\ndelineating\\n\\nelectoral\\n\\n62. When the electoral constituencies reviewed and what are other provisions in this regard?\\n\\n\\n\\n\\n\\nReview of the electoral constituencies is conducted in every 20 years.\\n\\nIt is also stated that no question may be raised in any court with regard to delineation of electoral constituencies or its review.\\n\\n63. What are the provisions for the annual report of Constitutional Body?\\n\\n\\n\\n\\n\\nA Constitutional Body has to submit its annual report to the President.\\n\\n\\n\\nThe President shall forward the report to the Federal Parliament through the Prime Minister.\\n\\nIt is also provided that a Constitutional Body may submit separate report on its functions carried out in each State to the Head of State.\\n\\n64. What are the provisions in the Constitution with regard to monitoring and direction of functioning of Constitutional Bodies?\\n\\n\\n\\nArticle 293 of the Constitution provides that the Chief and other office-bearers of a Constitutional Body shall\\n\\n32\\n\\n\\n\\nbe responsible and accountable to the Parliament.\\n\\nThe Committees in the House of Representatives may monitor and evaluate the functions and reports of the Constitutional Bodies including the Election Commission - other than National Human Rights Commission - and issue directive and furnish suggestions.\\n\\n65. Against which of the office-bearers may the motion of impeachment be introduced as per the Constitution of Nepal?\\n\\nArticle 101 of the Constitution of Nepal provides for impeachment. As per the article, impeachment motion ● may be introduced against the following office-holders:-\\n\\n\\n\\nPresident, Vice-President;\\n\\n\\n\\nChief Justice of Nepal;\\n\\n\\n\\nJustice of Supreme Court;\\n\\n\\n\\nMember of the Judicial Council;\\n\\nChief or office-bearer of a Constitutional Body. 66. On what grounds may an impeachment motion be introduced against the Chief Justice of Nepal, a justice of Supreme Court, a member of the Judicial Council, Chief or office-bearer of a Constitutional Body?\\n\\nAn impeachment motion may be introduced in any of the ● following circumstances:-\\n\\n\\n\\nSerious violation of the Constitution and law;\\n\\n\\n\\nLack of working competency;\\n\\n\\n\\nHaving gross misconduct;\\n\\nFailure to discharge duty of office honestly ;\\n\\n33\\n\\n\\n\\nUnable to discharge duty of the office due to serious violation of code of conduct.\\n\\n67. What is the process of introducing the motion of impeachment against the Chief Justice of Nepal, a justice of Supreme Court, a member of the Judicial Council, Chief or office-bearer of a Constitutional Body?\\n\\n\\n\\n\\n\\nAt least three members of the House of Representatives certify Impeachment Recommendation Committee stating that a notice, information or complaint filed against any of the aforesaid office-bearers is admissible.\\n\\nand\\n\\nintroduce\\n\\nto\\n\\nthe\\n\\n\\n\\nThere shall be an Eleven-member Impeachment the House of Recommendation Committee Representatives of making recommendation after inquiring into whether there exist the ground and reason for moving a motion of impeachment against any person in case of whom the complaint is admissible.\\n\\nin\\n\\nfor\\n\\nthe purpose\\n\\nRecommendation Impeachment In Committee submits recommendation to the House of Representatives for initiation of the impeachment upon conducting inquiry on the complaint, one fourth of the total number of the then members of the House of Representatives may move a motion of impeachment.\\n\\ncase\\n\\nthe\\n\\n68. What\\n\\nfor adopting a motion of impeachment? What are the other related provisions?\\n\\nis required\\n\\n\\n\\nTwo third majority of the then existing members in the House of Representatives is required for passing of the impeachment motion submitted to the House of Representatives.\\n\\n34\\n\\n\\n\\n\\n\\nThe person accused of impeachment shall be provided with an opportunity of submitting his/her explanation.\\n\\n\\n\\nOnce the impeachment proceeding is initiated such office-bearer shall not be allowed to discharge the functions of his/her office until such proceedings are over.\\n\\nAfter the impeachment motion is passed, such office -holder shall be removed from the office.\\n\\n69. What does the Constitution provide as to the formation of Constitutional Bench?\\n\\n\\n\\n\\n\\nArticle 137 of Constitutional Bench.\\n\\nthe Constitution provides\\n\\nThe Constitution provides that the Constitutional Bench comprises of the Chief Justice and other four justices designated by the Chief Justice on the recommendation of the Judicial Council. 70. Which types of the electoral disputes does the\\n\\nConstitutional Bench try and decide?\\n\\n\\n\\nThe Constitutional Bench shall conduct initial proceedings and decide cases relating to election of the Federal Parliament or State Assembly and disqualification of the members of the Federal Parliament or of the State Assembly, in addition to other cases determined by law.\\n\\n71. What are the provisions in the Constitution as to the formation, registration and operation of a political party?\\n\\n\\n\\nThe right to open political party has been guaranteed as right to civil liberty.\\n\\nfor\\n\\n35\\n\\n\\n\\n\\n\\nThe persons with commitment to common political thought, philosophy, and programs may form and operate political party.\\n\\n\\n\\nA political party may propagate and publicize its thought, philosophy, and programs for soliciting support of general public.\\n\\n\\n\\nThere is prohibition on banning political party.\\n\\nA political party has to be registered with the Election Commission having fulfilled the procedures set by the law.\\n\\n72. What are the conditions to be fulfilled by political party while filing application for registration?\\n\\n\\n\\n\\n\\nA political party shall have to submit the statute of the party, manifesto, and other documents prescribed by Federal Law.\\n\\n\\n\\nThe statute and by-laws of political party must be democratic.\\n\\n\\n\\nThere must be the provision in the statute of political party that election of each of the officials of Federal and State level (of the party) will be held at least once in every five years. Provided that in case no election could be held within the period of five years due to special circumstance, the statute may provide that the election may be held within six months after the five years.\\n\\n\\n\\nThe Executive Committees of various levels of the party must have inclusive participation reflecting the diversity of Nepal as envisaged in the Constitution.\\n\\nThe name, objective, symbol or flag of the party must not undermine the religious and communal integrity of the country or must not be of divisive nature.\\n\\n36\\n\\n73. What are the provisions for getting a political party registered for the purpose of recognition for election?\\n\\n\\n\\n\\n\\nA political party willing to seek recognition for the purpose of election shall have to get its name registered with the Election Commission having fulfilled the necessary procedures.\\n\\n\\n\\nA political party shall have to submit the statute of the party, manifesto and annual audit report.\\n\\nWhile filing application for registration of the party, in addition to the matters referred to above, the terms and conditions referred in Question No. 72 of this handbook, also have to be fulfilled.\\n\\n37\\n\\n»\\n\\n»\\n\\n»\\n\\n»\\n\\n»\\n\\nSOME INFORMATION ON VOTERS LIST\\n\\nThere are five Regional Election Offices in Morang, Kathmandu, Kaski, Banke and Kailali and 70 District Election Offices in the remaining districts under the Commission.\\n\\nThe Regional Election Offices and the District Election Offices play supportive and coordinating roles in all activities relating to elections including voters registration, review of polling stations, contact and coordination with political parties at district level and operation of electoral and voter education programs.\\n\\nCollection and updating of voters list for the purpose of election is one of the main functions of the Commission. The functions of voters’ registration are carried out in the Regional Election Offices and the District Election Offices throughout the year.\\n\\nSubmission of Nepali Citizenship Certificate is mandatory in order to be registered in the voters list. If the permanent address stated in the Citizenship Certificate and current residence are different, the evidence showing the cause of the difference in address (migration certificate, marriage registration or any other evidence) required to be submitted.\\n\\nOne should attend 18 years of age to be eligible for casting vote. However, the Commission collects name (bio-metric data) from the age of 16 years, who have obtained Citizenship Certificate. This registration automatically updates voters list when s/he attends18 years.\\n\\n39\\n\\n»\\n\\n»\\n\\n»\\n\\n»\\n\\n»\\n\\n»\\n\\n40\\n\\nWhile registering in the voters list, photograph and thumb impressions of the voters are also collected. Therefore, concerned person himself/herself has to be present.\\n\\nFor easy access of voter registration, a voter registration desk has been opened in all District Administration Offices and designated Area Administration Offices. This has helped to get registered in the voters list immediately after obtaining Citizenship Certificate.\\n\\nVoter registration are also carried out from time to time by deputing ECN staff through an integrated mobile camp. Based on the office records, Special Programmes are also launched in the areas where high number of voters have yet to be registered and in the areas with settlements of Dalit, marginalized communities and in the backward regions.\\n\\nThe acts of collecting and updating details of voters list for preparing final voters list are fully based on information technology. Therefore, in case a person with his/her name registered in one place but wishes his/her name to be transferred to another place, he/she does not need to have his/her photograph to be taken or thumb-impressions to be recorded again. The name may easily be transferred by filling designated form with specified details.\\n\\nA person who is living temporarily in one place may also get registered his/her name as voter of his/her permanent residence by being present in person in the Regional Election Office or the District Election Office located in the district where he/she is currently living. The Commission will transfer information to the concerned District Election Office of his/her permanent residence.\\n\\nHowever, in case somebody is found registered twice, the latest registration will be maintained and the name from\\n\\n»\\n\\n»\\n\\n»\\n\\nthe earlier location shall be erased.\\n\\nThe final voter list contains important details of voter including colour photograph, voter number, name, gender, address, date of birth, name of father/mother, name of husband in case of married woman and name of polling station.\\n\\nThe voter may check his/her details visiting the concerned Regional Election Office or District Election Office or by logging-in the website of the Commission: www.election.gov.np.\\n\\nThe voters the identification of the voter easier in the Election Day and it has significantly assisted in conducting the election in free, fair and credible manner.\\n\\nlist with photographs has made\\n\\n41\\n\\n»\\n\\n»\\n\\n»\\n\\n»\\n\\n»\\n\\n»\\n\\n»\\n\\n»\\n\\n»\\n\\n»\\n\\n»\\n\\nSOME INFORMATION & SOME REQUESTS\\n\\nThe right to choose a representative of one’s choice is the fundamental right of citizen.\\n\\nLet us register in the voters list in order to choose own favorite candidate through voting.\\n\\nA person, who is not registered in the voters list is neither eligible to present candidacy in elections nor to cast vote.\\n\\nIt is mandatory to have name registered in the voters list either for candidacy in any election or to cast vote to a candidate of one’s choice. Hence, let us secure own right (voting) by registering name in the voters list.\\n\\nThe history of election began in Nepal with an election of Local Body.\\n\\nThe election of Kathmandu Municipality was held on 29 Jestha 2004 B.S. (11 June 1947) for the first time in Nepal.\\n\\nNepalese Women obtained right to vote in the election of the Kathmandu Municipality held in 2010 B.S. (1953).\\n\\nThe very first elected woman people’s representative in the country was Sadhana Devi Pradhan. She was elected as the Ward Chairperson of Ward No 8 in the election of the Kathmandu Municipality held in 2010 B.S. (1953).\\n\\nThe first Chief Election Commissioner of Nepal was Subarna Sumsher Rana.\\n\\nThe first Woman Election Commissioner of Nepal was Usha Nepal.\\n\\nThe First Parliamentary Election of Nepal was held in 7\\n\\n43\\n\\n»\\n\\n»\\n\\n»\\n\\n»\\n\\n»\\n\\n»\\n\\n»\\n\\n»\\n\\n»\\n\\n»\\n\\n»\\n\\n»\\n\\n»\\n\\n»\\n\\n44\\n\\nFalgun 2015 B.S. (18 February 1958).\\n\\nThe National Referendum was held in 20 Baishak 2037 B.S. (2 May 1980)\\n\\nIn order to conduct National Referendum, Bhagawati Prasad Singh was appointed as Chairperson of the National Election Commission formed in 2036 B.S. (1979).\\n\\nFree, fair and credible election: Our Vision, Our Mission.\\n\\nFree, fair and credible election is the mission of all elections.\\n\\nYour vote is your right, your vote is your choice.\\n\\nThe ballot is stronger than the bullet.\\n\\nLearn from the voters.\\n\\nExercise your right to vote, shape tomorrow by voting today.\\n\\nYour vote is a invaluable.\\n\\nThe roll right, the poll right.\\n\\nFree and fair election: Pride of nations.\\n\\nWho do not vote, have no right to complain.\\n\\nIn election one voter one vote and one vote one value.\\n\\nYour vote is your voice- be heard.\\n\\nHave you registered yourself in Voters List?\\n\\nIf not, please get registered and ensure your voting right.\\n\\nPublished by\\n\\nElection Commission, Nepal Kantipath, Kathmandu, Nepal Phone: +977-1-4228663 Fax: +977-1-4221227 E-mail: info@election.gov.np\\n\\nSupported by\\n\\nElectoral Support Project, Nepal\\n\\nEuropean Union\\n\\nThis publication is the product of the Election Commission, Nepal. This publication\\n\\nhas been produced with financial assistance from the European Union, DFID,\\n\\nDenmark, Norway and UNDP. The supporting donors are not responsible for contents\\n\\nof the publication.'),\n",
       " Document(metadata={'source': 'data/Calendar Module ✓.docx'}, page_content=\"support@vitafyhealth.com | 1-866-4-Vitafy\\n\\nCalendar Module\\n\\nSeptember, 2023\\n\\nOverview\\n\\nThe calendar module provides a dynamic platform for overseeing events like appointments and virtual visits for your clients and internal tasks and scheduling for people within your organization. Customize your view by day, week, or month, and seamlessly integrate other employee or client event calendars into your own for comprehensive management.\\n\\nEvent scheduling and reminders \\n\\nSchedule events for your clients so they receive notifications for upcoming appointments or activities which ensures they don't miss important events.\\n\\nCollaborative sharing\\n\\nWith a feature to view the calendars of other admins and clients, the calendar module helps you efficiently view your coworkers’ schedules, tasks and your clients’ appointments.\\n\\nHow To\\n\\nView employee schedules\\n\\nUpdate employee task or schedule\\n\\nSchedule appointments\\n\\nSchedule a virtual visit\\n\\nFilter calendar view\\n\\nView employee schedule/calendar: \\n\\nThe calendar module facilitates collaboration by allowing co-workers to view each other’s calendars. To view employee schedules simply use the search bar on the bottom left to search by admin name or email or choose from the dropdown menu. \\n\\nYou can view multiple calendars at once or use the x to deselect. \\n\\nUpdate employee task/schedule: \\n\\nFacilitating transparent and efficient communication within the organization is made seamless through the capability to access employee schedules and tasks. \\n\\nGoto +Add an Event button in the top right corner\\n\\nChoose Schedule to incorporate administrative schedules, promoting awareness of each team member's availability.\\n\\nChoose Task to include an internal task description, along with the specified date and time.\\n\\nSchedule an appointment for your client:\\n\\nOur calendar enables you to easily add appointments, ensuring that your commitments are organized and accessible at a glance to you and all appointment participants. To schedule an appointment:\\n\\nGoto +Add an Event button in the top right corner > Choose Appointment\\n\\nThe prompt allows you to add an appointment description, date, time, and any additional admins as required to set up an appointment for the patient of your choice.\\n\\nThis will send reminders to all participants to the email on file.\\n\\nYou can schedule an appointment using the appointments module as well. \\n\\nSchedule a virtual visit with your client: \\n\\nEffortlessly integrate virtual visit appointments into your and clients’ calendars, ensuring streamlined management and easy accessibility of your telehealth services. To schedule a virtual visit:\\n\\nGoto +Add an Event button in the top right corner > Choose virtual visit.\\n\\nThe prompt allows you to add an appointment description, date, time, and any additional admins as required to set up an appointment for the patient of your choice.\\n\\nThis will send reminders to all participants to the email on file.\\n\\nYou can schedule a virtual visit using the virtual visits module as well. \\n\\nFilter calendar view:\\n\\nIf you would like to view particular appointments, use the search bar on the top left of the calendar to filter by client name or email. \"),\n",
       " Document(metadata={'source': 'data/Files Module ✓.docx'}, page_content=\"support@vitafyhealth.com | 1-866-4-Vitafy\\n\\nFiles Module\\n\\nSeptember, 2023\\n\\nOverview\\n\\nThe file module serves as a centralized repository for all your company's documents, links, and files, providing a comprehensive resource for organizational use. Depending on your plan, this module offers DocuSign integration that streamlines the agreement document-signing process.\\n\\nManage client files \\n\\nUpload new files or add tags, rename, and download existing files to manage all your documents efficiently. \\n\\nDocuSign integration\\n\\nSend and sign documents from within the portal using DocuSign. Please note that additional charges may apply for this premium functionality\\n\\nHow To\\n\\nUpload a new document\\n\\nModify existing documents\\n\\nDownload/Delete documents\\n\\nSend documents for e-signature\\n\\nView signed documents\\n\\nUpload documents:\\n\\nThe Files module has two tabs: documents with all documents and esignatures with documents signed using docusign. To upload documents Goto the documents tab > use +Upload button on the top right corner and follow the prompt as desired. \\n\\nModify existing documents:\\n\\nExisting documents can be renamed and tags can be added for efficient organization of all client files and documents. \\n\\nFind the file using the search bar, use the ellipses in the corresponding file, and choose the option to Rename or Add Tags accordingly. \\n\\nDownload / Delete documents: \\n\\nFind the file using the search bar, use the ellipses in the corresponding file, and choose the option to Download or Delete accordingly. \\n\\nSend documents for e-signature:\\n\\nView signed documents:\\n\\nSigned documents can be viewed in eSignatures tab. These documents can be renamed, tagged, downloaded, or deleted using the same steps. \"),\n",
       " Document(metadata={'source': 'data/ Billings Module ✓.docx'}, page_content=\"support@vitafyhealth.com | 1-866-4-Vitafy\\n\\nBillings Module\\n\\nOctober, 2023\\n\\nOverview\\n\\nManaging client billing and service requests is a seamless process with our system. Clients can be billed through a subscription model with the option to access additional services or memberships, and members can request specific services as needed. The billings module allows you to handle transaction statuses and receipts and provides a clear view of upcoming and failed transactions through dedicated tabs.\\n\\n Within the settings module, you can conveniently manage custom service offerings.\\n\\nIntegrated Billings\\n\\nBill clients for memberships or one time transactions straight from within the portal. The portal gives you the option for multiple payment methods including credit/debit, bank transfer and cash. \\n\\nManage Transactions\\n\\nScheduled transactions can be put on hold or canceled from the upcoming tab using the ellipses. Transactions can be refunded from within the portal as well.\\n\\nHow To\\n\\nView all client transactions\\n\\nView/email receipt\\n\\nFilter transaction\\n\\nAdd a transaction / offering\\n\\nIssue a refund\\n\\nView upcoming transactions\\n\\nHold/cancel upcoming transactions\\n\\nView Failed transactions\\n\\nTransactions \\n\\nThis tab has all the information about client transactions including recurring memberships or one-time payments. Transaction type is shown in the description column, if the transaction is for a recurring membership, the dates covered will be shown in the pay period column. Transaction status (succeeded or failed) can also be viewed here. \\n\\nQuick View function (+)\\n\\nThe purpose of this view is to provide a convenient overview of recurring memberships and non-recurring offerings for each client transaction. \\n\\nClick on the + sign on the left-hand side of transactions to get a quick view of client transactions.\\n\\nView/email receipt: \\n\\nReceipts include information such as receipt ID, date/time of the transaction, type of transaction (recurring membership/non-recurring offering/custom offering charges), and the full amount of the transaction. \\n\\nReceipts for each transaction can be viewed and emailed to clients. \\n\\nGo to ⋮ on the far right of the transaction.\\n\\nOption to add notes to the transaction\\n\\nOption to view receipt\\n\\nReceipt will open in a new tab and can be printed by using the  icon on the top right corner\\n\\nOption to email receipt\\n\\nBy clicking confirm, the receipt will be emailed directly to the client.\\n\\nFilter transactions\\n\\nTransactions can be filtered based on clients’ names, transaction start/end date, or transaction offering type. \\n\\nTransactions can be looked up using the search bar to type the client's name, or by using one or multiple filters.\\n\\nUse the  filter icon to filter by:\\n\\nClient First Name\\n\\nClient Last Name\\n\\nTransaction Start Date i.e. membership start date\\n\\nTransaction End Date i.e. membership/pay period end date\\n\\nOffering i.e. one-time transactions\\n\\nAdd a one-time transaction\\n\\nOfferings are non-recurring transactions that can be added for patients with or without an approved membership. \\n\\nClick on the +Add button on the top right\\n\\nSelect a patient from the drop-down\\n\\nSelect an offering\\n\\nOfferings options can be updated by admins in the settings > ancillary offering\\n\\nCustom one-time offerings can be selected by choosing the “Others” option and adding a custom price. (Option to add a note)\\n\\nSelect from payment options:\\n\\nUse the card on file for the selected patient\\n\\nAdd Credit/Debit card\\n\\nBank Transfer\\n\\nCash\\n\\nThis can also be done from the clients module using ⋮ > Add transaction\\n\\nIssue a refund\\n\\nTransactions that have successfully been charged can be refunded back to the original form of payment.\\n\\nUse the ellipses ⋮  on the far right of the transaction you want to refund and choose the refund option.\\n\\nUpcoming transactions\\n\\nThis tab lists clients who are enrolled in recurring memberships and provides details on upcoming transaction charges depending on membership start date and amount. \\n\\nQuick View function (+)\\n\\nThe purpose of this view is to provide a convenient overview of upcoming recurring memberships and non-recurring offerings.\\n\\nClick on the + sign on the left-hand side of transactions to get a quick view of upcoming transaction details.\\n\\nHold/Cancel upcoming transactions\\n\\nUpcoming transactions can be put on hold. This will stop the transaction from being charged to the payment method on file until it has been reactivated. Upcoming recurring charges can be canceled for that particular time period, however, to stop these charges indefinitely, the patient’s membership needs to be canceled by using the clients module. \\n\\nGo to the upcoming transactions tab and use the ellipses ⋮ on the far right of the transaction:\\n\\nChoose  on  hold option. Once put on hold, memberships can be reactivated by choosing the  Activate option\\n\\nChoosethe Cancel option to cancel the particular upcoming transaction (does not cancel all following transactions for that membership).\\n\\nFailed transactions\\n\\nFailed transactions are transactions that did not go through due to issues in the form of the payment method selected for that transaction. It can be viewed using the failed transaction tab. \\n\\nNOTE:  If there are any missing items or if you require access to something mentioned above, please feel free to contact Vitafy support at support@vitafyhealth.com for any inquiries.\"),\n",
       " Document(metadata={'source': 'data/Clients - Clients Module ✓.docx'}, page_content='support@vitafyhealth.com | 1-866-4-Vitafy\\n\\nClients Module\\n\\nNovember 28th, 2023\\n\\nThere are two distinct types of clients: Individuals and Groups. Individuals refer to individual customers, as well as families or retail customers. On the other hand, Groups comprise employers, companies, or associations.\\n\\nThis module has information about clients, groups, and their dependent/group members with options to view membership information and status. As a client, you can edit your, your group members, and dependents’ information, buy additional services and manage dependents/group members.  \\n\\nHow To\\n\\nEdit client details\\n\\nBuy more\\n\\nAdd dependent\\n\\nAdd Group member\\n\\nDependent login\\n\\nRemove dependent\\n\\nWhat is client status\\n\\nEdit profile: Goto Ellipsis ⋮  > Edit profile\\n\\nIn the edit profile section, you have the ability to modify various client information including address, phone number, email, tags, and add notes. It also allows you to view the existing membership status (if applicable), update billing details, and upload any relevant files for that specific client.\\n\\nBuy Membership: Use the “Buy membership” button on the top bar OR  Goto Ellipses ⋮ > Buy Membership\\n\\nYou can view existing active/inactive memberships using the dropdown on the top right. To add to your existing membership, use the +Add button on the top right. You can choose which membership you would like to add from the options listed along with the start date of when you would like for it to begin.\\n\\nAdd Dependent (optional - permission required):\\n\\n A dependent is an individual associated with the primary or main contact, which can include a spouse, child, or any other person connected to the primary client.\\n\\nGoto Ellipses ⋮ > Add Dependent\\n\\nThe form will default to Dependent\\n\\nComplete the form including:\\n\\nPersonal information\\n\\nBundle\\n\\nBilling\\n\\nFiles\\n\\nMembers can now be seen by clicking the + to the left of the primary member’s name. (Click the - to shrink back to group).\\n\\nNOTE: Group members may also add dependents.\\n\\nAdd someone to a Group \\n\\nAn individual that is associated with the group or company that takes part in your company.\\n\\nGoto Ellipses > Add Member\\n\\nThe form will default to Group Member\\n\\nComplete the form including:\\n\\nPersonal information\\n\\nBundle\\n\\nBilling\\n\\nFiles\\n\\nMembers can now be seen by clicking the + to the left of the group name. (Click the - to shrink back to group).\\n\\nDependent/Group member Login: Goto Ellipses > Send Invite\\n\\nDependents and group members can set up a login as well. As a primary member/group admin, you can send login invites to your dependents/group members. \\n\\nTo permanently remove a dependent please contact support@vitafyhealth.com\\n\\nClient status meaning\\n\\nSubmitted\\n\\nThe initial status when a client is created is referred to as the \"First Status.\" This status can be completely customized and altered as per your requirements.\\n\\nApproved\\n\\nA fully executed client refers to an individual who has completed all necessary steps, including signing documents, making payments, and filling out all required forms. Such clients meet the eligibility criteria and qualify to avail themselves of your services.\\n\\nCanceled\\n\\nA client who chooses not to renew their membership ahead of time or a client for whom you no longer wish to offer services.\\n\\nDeclined\\n\\nA client who wishes to terminate their current membership or does not desire to continue with their existing membership.\\n\\nActive\\n\\nA client who currently holds an active membership  Their membership could be canceled, but the end date is in the future.\\n\\nInactive\\n\\nA client without an active membership, including any prior enrollments that are no longer active.\\n\\nNOTE:  If there are any missing items or if you require access to something mentioned above, please feel free to contact Vitafy support at support@vitafyhealth.com for any inquiries.')]"
      ]
     },
     "execution_count": 231,
     "metadata": {},
     "output_type": "execute_result"
    }
   ],
   "source": [
    "docs"
   ]
  },
  {
   "cell_type": "code",
   "execution_count": 232,
   "metadata": {},
   "outputs": [
    {
     "name": "stdout",
     "output_type": "stream",
     "text": [
      "17\n"
     ]
    }
   ],
   "source": [
    "print(len(docs))"
   ]
  },
  {
   "cell_type": "code",
   "execution_count": 233,
   "metadata": {},
   "outputs": [
    {
     "name": "stdout",
     "output_type": "stream",
     "text": [
      "support@vitafyhealth.com | 1-866-4-Vitafy\n",
      "\n",
      "Appointments Module\n",
      "\n",
      "September, 2023\n",
      "\n",
      "Overview\n",
      "\n",
      "Streamlin\n",
      "{'source': 'data/Appointments Module ✓.docx'}\n"
     ]
    }
   ],
   "source": [
    "print(docs[0].page_content[0:100])\n",
    "print(docs[0].metadata)"
   ]
  },
  {
   "cell_type": "code",
   "execution_count": 234,
   "metadata": {},
   "outputs": [
    {
     "data": {
      "text/plain": [
       "OpenAIEmbeddings(client=<openai.resources.embeddings.Embeddings object at 0x322162510>, async_client=<openai.resources.embeddings.AsyncEmbeddings object at 0x15e764740>, model='text-embedding-ada-002', dimensions=None, deployment='text-embedding-ada-002', openai_api_version=None, openai_api_base=None, openai_api_type=None, openai_proxy=None, embedding_ctx_length=8191, openai_api_key=SecretStr('**********'), openai_organization=None, allowed_special=None, disallowed_special=None, chunk_size=1000, max_retries=2, request_timeout=None, headers=None, tiktoken_enabled=True, tiktoken_model_name=None, show_progress_bar=False, model_kwargs={}, skip_empty=False, default_headers=None, default_query=None, retry_min_seconds=4, retry_max_seconds=20, http_client=None, http_async_client=None, check_embedding_ctx_length=True)"
      ]
     },
     "execution_count": 234,
     "metadata": {},
     "output_type": "execute_result"
    }
   ],
   "source": [
    "\n",
    "os.environ[\"HUGGINGFACEHUB_API_TOKEN\"]=\"HUGGINGFACEHUB_API_TOKEN\"\n",
    "embeddings = OpenAIEmbeddings(\n",
    "    model=\"text-embedding-ada-002\",  #response time is 9s  #infloat/e5-base-V2 has 3.53sec response time.\n",
    ")\n",
    "embeddings"
   ]
  },
  {
   "cell_type": "code",
   "execution_count": 235,
   "metadata": {},
   "outputs": [],
   "source": [
    "import getpass\n",
    "import os\n",
    "import time\n",
    "from pinecone import Pinecone, ServerlessSpec\n",
    "\n",
    "if not os.getenv(\"PINECONE_API_KEY\"):\n",
    "    os.environ[\"PINECONE_API_KEY\"] = getpass.getpass(\"Enter your Pinecone API key: \")\n",
    "\n",
    "pinecone_api_key = os.environ.get(\"PINECONE_API_KEY\")\n",
    "\n",
    "pc = Pinecone(api_key=pinecone_api_key)\n",
    "import time\n",
    "\n",
    "index_name = \"test-2\"  # change if desired\n",
    "\n",
    "existing_indexes = [index_info[\"name\"] for index_info in pc.list_indexes()]\n",
    "\n",
    "if index_name not in existing_indexes:\n",
    "    pc.create_index(\n",
    "        name=index_name,\n",
    "        dimension=3072,\n",
    "        metric=\"cosine\",\n",
    "        spec=ServerlessSpec(cloud=\"aws\", region=\"us-east-1\"),\n",
    "    )\n",
    "    while not pc.describe_index(index_name).status[\"ready\"]:\n",
    "        time.sleep(1)\n",
    "\n",
    "index = pc.Index(index_name)\n",
    "#pc.list_indexes()"
   ]
  },
  {
   "cell_type": "code",
   "execution_count": 236,
   "metadata": {},
   "outputs": [],
   "source": [
    "chunk_size = 500 \n",
    "chunk_overlap = 50  \n",
    "\n",
    "text_splitter = RecursiveCharacterTextSplitter(chunk_size=chunk_size, chunk_overlap=chunk_overlap)\n",
    "\n",
    "split_docs = text_splitter.split_documents(docs)"
   ]
  },
  {
   "cell_type": "code",
   "execution_count": 237,
   "metadata": {},
   "outputs": [],
   "source": [
    "# index_name = \"test-2\"\n",
    "# #vectorstore = PineconeVectorStore(index_name=index_name, embedding=embeddings)\n",
    "# vectorstore = PineconeVectorStore.from_documents(split_docs, embeddings, index_name=index_name)\n",
    "# retriever = vectorstore.as_retriever()"
   ]
  },
  {
   "cell_type": "markdown",
   "metadata": {},
   "source": [
    "## Common ID Prefixes"
   ]
  },
  {
   "cell_type": "code",
   "execution_count": 238,
   "metadata": {},
   "outputs": [],
   "source": [
    "# import os\n",
    "\n",
    "# # Generate a sequential document prefix like doc-1, doc-2, etc.\n",
    "# def generate_prefix(doc_counter):\n",
    "#     return f\"doc-{doc_counter}\"\n",
    "\n",
    "# # Load documents from a directory\n",
    "# def load_docs(directory):\n",
    "#     loader = DirectoryLoader(directory)\n",
    "#     docs = loader.load()\n",
    "#     if docs:  # Ensure docs are loaded properly\n",
    "#         return docs\n",
    "#     else:\n",
    "#         raise ValueError(\"No documents were loaded from the directory.\")\n",
    "\n",
    "# def upload_documents_with_prefix(directory, vectorstore, index):\n",
    "#     docs = load_docs(directory)  \n",
    "\n",
    "#     if not docs:\n",
    "#         raise ValueError(\"No documents found in the directory.\")\n",
    "\n",
    "#     # Add counter for document IDs\n",
    "#     doc_counter = 1\n",
    "\n",
    "#     for doc in docs:\n",
    "#         document_name = os.path.basename(doc.metadata[\"source\"])\n",
    "#         parent_prefix = generate_prefix(doc_counter)  # Sequential prefix like doc-1, doc-2\n",
    "        \n",
    "#         # Print the document name and the generated ID (e.g., id-1, id-2)\n",
    "#         print(f\"Uploading document '{document_name}' with prefix: {parent_prefix} and ID: id-{doc_counter}\")\n",
    "\n",
    "#         split_docs = text_splitter.split_documents([doc])\n",
    "\n",
    "#         vectors = []\n",
    "#         for i, chunk in enumerate(split_docs):\n",
    "#             chunk_id = f\"id-{doc_counter}_{parent_prefix}_chunk_{i+1}\"  # Add \"id-X\" and \"doc-X\" prefix\n",
    "#             chunk_vector = embeddings.embed_documents([chunk.page_content])[0]\n",
    "\n",
    "#             # Store the actual page content in metadata instead of chunk number\n",
    "#             metadata = {\n",
    "#                 \"source\": doc.metadata[\"source\"],\n",
    "#                 \"page_content\": chunk.page_content  # Store the content of the document\n",
    "#             }\n",
    "\n",
    "#             vectors.append({\"id\": chunk_id, \"values\": chunk_vector, \"metadata\": metadata})\n",
    "        \n",
    "#         # Upload the vectors to Pinecone\n",
    "#         index.upsert(vectors=vectors)\n",
    "\n",
    "#         # Increment the document counter for the next document\n",
    "#         doc_counter += 1\n",
    "\n",
    "# directory = 'data'\n",
    "\n",
    "# # Assuming `vectorstore` and `index` are already initialized\n",
    "# vectorstore = PineconeVectorStore(index_name=index_name, embedding=embeddings)\n",
    "\n",
    "# # Upload documents with prefix and print ID\n",
    "# upload_documents_with_prefix(directory, vectorstore, index)\n"
   ]
  },
  {
   "cell_type": "markdown",
   "metadata": {},
   "source": [
    "## List of the IDs of all records\n"
   ]
  },
  {
   "cell_type": "code",
   "execution_count": 239,
   "metadata": {},
   "outputs": [],
   "source": [
    "# from pinecone.grpc import PineconeGRPC as Pinecone\n",
    "\n",
    "# index = pc.Index(\"test-2\")\n",
    "# ids = index.list(namespace='')\n",
    "\n",
    "# for ids in index.list(namespace=''):\n",
    "#     print(ids)\n",
    "    \n",
    "# #['doc1#v1#chunk1', 'doc1#v1#chunk2', 'doc1#v1#chunk3']"
   ]
  },
  {
   "cell_type": "code",
   "execution_count": 240,
   "metadata": {},
   "outputs": [],
   "source": [
    "# import os\n",
    "\n",
    "\n",
    "# from PyPDF2 import PdfReader  # For reading PDF files\n",
    "# import docx \n",
    "# index_name = \"test-2\"\n",
    "# directory = 'data'\n",
    "# # 1. Upload data from 'data' directory\n",
    "# # Function to read text from different file types\n",
    "# def read_document(file_path):\n",
    "#     if file_path.endswith('.txt'):\n",
    "#         with open(file_path, 'r', encoding='utf-8') as file:\n",
    "#             return file.read()\n",
    "#     elif file_path.endswith('.pdf'):\n",
    "#         with open(file_path, 'rb') as file:\n",
    "#             reader = PdfReader(file)\n",
    "#             return \"\\n\".join(page.extract_text() for page in reader.pages if page.extract_text())\n",
    "#     elif file_path.endswith('.docx'):\n",
    "#         doc = docx.Document(file_path)\n",
    "#         return \"\\n\".join(paragraph.text for paragraph in doc.paragraphs)\n",
    "#     else:\n",
    "#         return None  # Unsupported file type\n",
    "        \n",
    "# # 1. Upload data from 'data' directory\n",
    "# for filename in os.listdir(directory):\n",
    "#     file_path = os.path.join(directory, filename)\n",
    "    \n",
    "#     # Read the content of the document based on its type\n",
    "#     document_text = read_document(file_path)\n",
    "    \n",
    "#     if document_text:  # Only proceed if the document was read successfully\n",
    "#         # 2. Generate embedding for the document\n",
    "#         vector = embeddings.embed_documents([document_text])[0]  # Use embed_documents for document embeddings\n",
    "\n",
    "        \n",
    "#         # 3. Generate a unique vector ID (using the filename without extension)\n",
    "#         #vector_id = os.path.splitext(filename)[0]  # Unique ID based on filename\n",
    "        \n",
    "#         vector_id = str(uuid.uuid4())  # Generate a unique UUID\n",
    "\n",
    "        \n",
    "#         # Prepare metadata (optional)\n",
    "#         metadata = {\n",
    "#             \"source\": filename,\n",
    "#             \"page_content\": document_text[:100]  # Store first 100 characters as a preview (optional)\n",
    "#         }\n",
    "        \n",
    "#         # Upsert the vector into Pinecone\n",
    "#         index.upsert(vectors=[(vector_id, vector)], metadata=metadata)\n",
    "\n",
    "#         # 4. Print vector ID and document name\n",
    "#         print(f\"Uploaded Document - Vector ID: {vector_id}, Document Name: {filename}\")\n",
    "\n",
    "# print(\"All documents uploaded successfully!\")\n"
   ]
  },
  {
   "cell_type": "code",
   "execution_count": 241,
   "metadata": {},
   "outputs": [
    {
     "name": "stdout",
     "output_type": "stream",
     "text": [
      "Uploaded Document - Vector ID: 271d58b9-cbe2-4467-a5b4-0b5d4e0386c2, Document Name: Appointments Module ✓.docx\n",
      "Uploaded Document - Vector ID: b1703c71-35e0-43a8-bfee-c49116118965, Document Name: Comms Module ✓.docx\n",
      "Uploaded Document - Vector ID: 4d956c40-7bb1-4fee-9273-72c46a9e9c13, Document Name: Clients - Cases Module ✓.docx\n",
      "Uploaded Document - Vector ID: 051837e7-85ae-4e96-9560-c59b68487f56, Document Name: Clients Module ✓.docx\n",
      "Uploaded Document - Vector ID: ca790f90-ce84-408b-8bd9-775d03c4edf2, Document Name: Leads Module ✓.docx\n",
      "Uploaded Document - Vector ID: 5c37bcb1-0dfd-4858-8461-66909adad8a3, Document Name: Activity Logs Module ✓.docx\n",
      "Uploaded Document - Vector ID: 7aebcb93-8915-4772-b236-cded60a8ae58, Document Name: Settings Module.docx\n",
      "Uploaded Document - Vector ID: 2b9091c3-a2ae-4493-adc3-29768431e860, Document Name: Reports Module ✓.docx\n",
      "Uploaded Document - Vector ID: a4f96c99-86d5-4a89-929a-bd80856e3f31, Document Name: Cases Module ✓.docx\n",
      "Uploaded Document - Vector ID: 7302eeb2-8573-4094-b807-e41772222946, Document Name: Clients - Comms Module ✓.docx\n",
      "Uploaded Document - Vector ID: 15740f2b-fc92-4e24-bff2-45b07af7836f, Document Name: Clients - Billings Module ✓.docx\n",
      "Uploaded Document - Vector ID: a8ff15b7-4353-434e-a300-6b4a34463507, Document Name: Virtual Visits Module ✓.docx\n",
      "Uploaded Document - Vector ID: 3db7c16b-a763-429b-bcc0-c0ece03dccc5, Document Name: wec-undp-jtf-nepal-resources-publications-electoral-provisions-in-constitution.pdf\n",
      "Uploaded Document - Vector ID: 4e5430be-3f13-42d3-8ac8-b5d09c99d91b, Document Name: Calendar Module ✓.docx\n",
      "Uploaded Document - Vector ID: a2495eb7-4cd1-401f-ac36-6da9dfa6c813, Document Name: Files Module ✓.docx\n",
      "Uploaded Document - Vector ID: 1ba95ad5-5266-453d-8871-690fcb8f6d9d, Document Name:  Billings Module ✓.docx\n",
      "Uploaded Document - Vector ID: 7bd79849-acfd-4700-96d2-f06e03c0a302, Document Name: Clients - Clients Module ✓.docx\n",
      "All documents uploaded successfully!\n"
     ]
    }
   ],
   "source": [
    "import os\n",
    "import uuid\n",
    "from PyPDF2 import PdfReader  # For reading PDF files\n",
    "import docx\n",
    "\n",
    "\n",
    "directory = 'data'\n",
    "\n",
    "# Function to read text from different file types\n",
    "def read_document(file_path):\n",
    "    if file_path.endswith('.txt'):\n",
    "        with open(file_path, 'r', encoding='utf-8') as file:\n",
    "            return file.read()\n",
    "    elif file_path.endswith('.pdf'):\n",
    "        with open(file_path, 'rb') as file:\n",
    "            reader = PdfReader(file)\n",
    "            return \"\\n\".join(page.extract_text() for page in reader.pages if page.extract_text())\n",
    "    elif file_path.endswith('.docx'):\n",
    "        doc = docx.Document(file_path)\n",
    "        return \"\\n\".join(paragraph.text for paragraph in doc.paragraphs)\n",
    "    else:\n",
    "        return None  # Unsupported file type\n",
    "\n",
    "# Upload documents and store metadata including source and text\n",
    "def upload_documents(directory, embeddings, index):\n",
    "    for filename in os.listdir(directory):\n",
    "        file_path = os.path.join(directory, filename)\n",
    "        \n",
    "        # Read the content of the document based on its type\n",
    "        document_text = read_document(file_path)\n",
    "        \n",
    "        if document_text:  # Only proceed if the document was read successfully\n",
    "            # 1. Generate embedding for the document\n",
    "            vector = embeddings.embed_documents([document_text])[0]  # Use embed_documents for document embeddings\n",
    "\n",
    "            # 2. Generate a unique vector ID (UUID)\n",
    "            vector_id = str(uuid.uuid4())  # Generate a unique UUID\n",
    "            \n",
    "            # 3. Prepare metadata (source and content preview)\n",
    "            metadata = {\n",
    "                \"source\": filename,  # The document name as source\n",
    "                \"page_content\": document_text[:100]  # Store first 100 characters as a preview of the document\n",
    "            }\n",
    "            \n",
    "            # 4. Upsert the vector into Pinecone with metadata\n",
    "            #index.upsert(vectors=[(vector_id, vector)], metadata=metadata)\n",
    "            index.upsert(vectors=[(vector_id, vector, metadata)])  # Make sure to include metadata here\n",
    "\n",
    "            # 5. Print vector ID and document name\n",
    "            print(f\"Uploaded Document - Vector ID: {vector_id}, Document Name: {filename}\")\n",
    "\n",
    "    print(\"All documents uploaded successfully!\")\n",
    "\n",
    "# Call the function to upload documents from the directory\n",
    "upload_documents(directory, embeddings, index)\n"
   ]
  },
  {
   "cell_type": "code",
   "execution_count": 242,
   "metadata": {},
   "outputs": [],
   "source": [
    "# # Document (vector) ID to delete\n",
    "# document_id = \"d07fbd0a-927d-4fe3-8ddc-2769bc0c91e5\"\n",
    "\n",
    "# # Delete the document from the index by its ID\n",
    "# index.delete(ids=[document_id])\n",
    "\n",
    "# print(f\"Document with ID {document_id} has been deleted.\")\n"
   ]
  },
  {
   "cell_type": "code",
   "execution_count": 243,
   "metadata": {},
   "outputs": [],
   "source": [
    "keyword = \"\"\" forecasting on the future values (any 50 word)\"\"\""
   ]
  },
  {
   "cell_type": "code",
   "execution_count": 244,
   "metadata": {},
   "outputs": [
    {
     "name": "stdout",
     "output_type": "stream",
     "text": [
      "interrupted by weather or other circumstance. It is generally accepted to be a fair\n",
      "\n",
      "and accurate method of setting a target score, as it attempts to predict what\n",
      "\n",
      "of five points in the cumulative ranking and will be ranked accordingly.\n",
      "\n",
      "of five points in the cumulative ranking and will be ranked accordingly.\n",
      "\n",
      "interrupted by weather or other circumstance. It is generally accepted to be a fair\n",
      "\n",
      "and accurate method of setting a target score, as it attempts to predict what\n"
     ]
    }
   ],
   "source": [
    "def format_docs(docs):\n",
    "    return \"\\n\\n\".join(doc.page_content for doc in docs)\n",
    "\n",
    "retrieved_docs = retriever.invoke(\"\"\"forecasting on the future values (any 50 word) \"\"\")\n",
    "print(format_docs(retrieved_docs))"
   ]
  },
  {
   "cell_type": "code",
   "execution_count": 245,
   "metadata": {},
   "outputs": [
    {
     "data": {
      "text/plain": [
       "{'query': ' forecasting on the future values (any 50 word)',\n",
       " 'result': 'Forecasting future values involves analyzing historical data and trends to make informed predictions about future events or performance. This process often uses statistical methods, machine learning algorithms, or expert judgment to anticipate upcoming outcomes, helping businesses and individuals make strategic decisions and plan effectively for the future.'}"
      ]
     },
     "execution_count": 245,
     "metadata": {},
     "output_type": "execute_result"
    }
   ],
   "source": [
    "llm = ChatOpenAI(\n",
    "    model=\"gpt-4o\",\n",
    "    temperature=1.0,\n",
    ")\n",
    "\n",
    "qa = RetrievalQA.from_chain_type(\n",
    "    llm=llm,\n",
    "    #chain_type=\"stuff\",\n",
    "    retriever=vectorstore.as_retriever(),\n",
    "\n",
    ")\n",
    "qa.invoke(keyword)"
   ]
  },
  {
   "cell_type": "code",
   "execution_count": null,
   "metadata": {},
   "outputs": [],
   "source": []
  },
  {
   "cell_type": "code",
   "execution_count": 246,
   "metadata": {},
   "outputs": [],
   "source": [
    "# custom_rag_template = PromptTemplate.from_template(template)\n",
    "\n",
    "\n",
    "# # Create the parallel chain\n",
    "# My_rag_chain = RunnableParallel(\n",
    "#     {\n",
    "#         \"context\": retriever | format_docs,  # Retriever retrieves context and formats it\n",
    "#         \"question\": RunnablePassthrough()    # Pass the question directly\n",
    "#     }\n",
    "# ) | custom_rag_template | llm | StrOutputParser()\n",
    "\n",
    "# # Now pass the keyword (string) directly to the chain\n",
    "# keyword = \"summarize ai paper\"\n",
    "# response = My_rag_chain.invoke(keyword)  # Just pass the keyword, not a dictionary\n",
    "# print(\"Response from chain:\", response)\n"
   ]
  },
  {
   "cell_type": "code",
   "execution_count": 247,
   "metadata": {},
   "outputs": [],
   "source": [
    "# custom_rag_template = PromptTemplate.from_template(template)\n",
    "\n",
    "# # Create the parallel chain\n",
    "# My_rag_chain = RunnableParallel(\n",
    "#     {\n",
    "#         \"context\": retriever | format_docs,\n",
    "#         \"question\": RunnablePassthrough()\n",
    "#     }\n",
    "# ) | custom_rag_template | llm | StrOutputParser()\n",
    "\n",
    "# ## My chain : Retriever(Pinecone) | custom_rag_template(prompt) | llm | StrOutputParser()"
   ]
  },
  {
   "cell_type": "code",
   "execution_count": 248,
   "metadata": {},
   "outputs": [],
   "source": [
    "# My_rag_chain.invoke(keyword)\n",
    "# #print(\"Chat with your Documents:\")\n",
    "# print(My_rag_chain.invoke(keyword))"
   ]
  },
  {
   "cell_type": "code",
   "execution_count": 249,
   "metadata": {},
   "outputs": [],
   "source": [
    "# # Specify the vector ID of the document you want to delete\n",
    "# vector_id_to_delete = \"0820821f-2edf-44da-a27e-afb85963b010\" \n",
    "\n",
    "# # Perform the delete operation\n",
    "# index.delete(ids=[vector_id_to_delete])\n",
    "\n",
    "# print(f\"Document with Vector ID: {vector_id_to_delete} has been deleted successfully.\")"
   ]
  },
  {
   "cell_type": "markdown",
   "metadata": {},
   "source": [
    "## Metadata Filtering"
   ]
  },
  {
   "cell_type": "code",
   "execution_count": 250,
   "metadata": {},
   "outputs": [],
   "source": [
    "\n",
    "\n",
    "# # Define the metadata filter for deletion\n",
    "# metadata_filter = {\"source\": \"/Users/user/Downloads/colab/data/Settings Module.docx\"}\n",
    "\n",
    "# # Delete documents matching the metadata filter\n",
    "# deleted_count = vectorstore.delete(filter=metadata_filter)\n",
    "\n",
    "# print(f\"Deleted {deleted_count} documents matching the filter.\")"
   ]
  },
  {
   "cell_type": "markdown",
   "metadata": {},
   "source": [
    "## Delete by Common ID Prefixes"
   ]
  },
  {
   "cell_type": "code",
   "execution_count": 251,
   "metadata": {},
   "outputs": [],
   "source": [
    "# def delete_document_by_id(document_id, index):\n",
    "#     try:\n",
    "#         # Delete the document chunks associated with the document_id (e.g., \"id-2\")\n",
    "#         index.delete(ids=[document_id])\n",
    "\n",
    "#         # Print success message\n",
    "#         print(f\"Document with ID '{document_id}' deleted successfully.\")\n",
    "    \n",
    "#     except Exception as e:\n",
    "#         print(f\"An error occurred while deleting the document: {str(e)}\")\n",
    "        \n",
    "\n",
    "# delete_document_by_id(\"id-1\", index)\n"
   ]
  },
  {
   "cell_type": "code",
   "execution_count": 252,
   "metadata": {},
   "outputs": [],
   "source": [
    "#index.delete(ids=[\"id-1\"])"
   ]
  },
  {
   "cell_type": "code",
   "execution_count": 253,
   "metadata": {},
   "outputs": [],
   "source": [
    "# for ids in index.list(prefix='doc-1#'):\n",
    "#     print(ids)"
   ]
  },
  {
   "cell_type": "code",
   "execution_count": 254,
   "metadata": {},
   "outputs": [
    {
     "name": "stdout",
     "output_type": "stream",
     "text": [
      "Click on ellipses > modify membership\n",
      "\n",
      "Click +Add on the modify membership popup\n",
      "\n",
      "Select membership from the list\n",
      "\n",
      "Select membership from the list\n",
      "\n",
      "Click on drop down to switch to Public/Private bundle (Private can only be chosen/seen by admin).\n",
      "\n",
      "Add start date of new membership.\n",
      "\n",
      "Select Continue.\n",
      "\n",
      "Confirm.\n",
      "\n",
      "To add additional membership: \n",
      "\n",
      "Go to the clients module from the left menu bar\n",
      "\n",
      "Find the client you want to update membership for\n",
      "\n",
      "Click on ellipses > modify membership\n",
      "\n",
      "Go to the clients module from the left menu bar\n",
      "\n",
      "Find the client you want to update membership for\n",
      "\n",
      "Go to ellipses > edit profile\n",
      "\n",
      "Membership tab\n",
      "\n",
      "Choose the desired membership type and start date.\n"
     ]
    }
   ],
   "source": [
    "def format_docs(docs):\n",
    "    return \"\\n\\n\".join(doc.page_content for doc in docs)\n",
    "\n",
    "retrieved_docs = retriever.invoke(\"\"\"how to create a membership \"\"\")\n",
    "print(format_docs(retrieved_docs))"
   ]
  },
  {
   "cell_type": "code",
   "execution_count": 255,
   "metadata": {},
   "outputs": [
    {
     "name": "stderr",
     "output_type": "stream",
     "text": [
      "Found document with no `text` key. Skipping.\n",
      "Found document with no `text` key. Skipping.\n",
      "Found document with no `text` key. Skipping.\n"
     ]
    },
    {
     "data": {
      "text/plain": [
       "{'query': 'tell me about comms modules',\n",
       " 'result': 'The Comms Module, launched in September 2023, allows efficient monitoring of all incoming and outgoing email communications within the portal. This module ensures seamless communication by promptly notifying clients, administrators, agents, and advocates via email as per their specific needs and roles. Here’s an overview of its main features:\\n\\n### Inbox and Outbox:\\n- **Inbox**: Displays all emails received by users from the portal, such as tagged notes and appointment reminders.\\n- **Outbox**: Displays all emails sent from the portal, including activation emails, receipts, event reminders, and tagged notes.\\n\\n### Consistent Communication:\\n- Ensure direct and seamless communication with the ability to track all interactions.\\n- Manage email templates conveniently through the settings module to take control of your messaging.\\n\\n### How to Use:\\n- **Browse and Filter Emails**: Use the module to view any notifications or communications sent to or from your account. There is a search bar to look for specific emails.\\n- **Manage Email Templates**: You can add or update email templates by navigating to the settings module and selecting the comms template option.\\n\\nFor any further assistance or questions, you can always reach out to support at support@vitafyhealth.com or call 1-866-4-Vitafy.'}"
      ]
     },
     "execution_count": 255,
     "metadata": {},
     "output_type": "execute_result"
    }
   ],
   "source": [
    "qa.invoke(\"tell me about comms modules\")"
   ]
  },
  {
   "cell_type": "code",
   "execution_count": 260,
   "metadata": {},
   "outputs": [
    {
     "name": "stdout",
     "output_type": "stream",
     "text": [
      "An Electoral College is a group of persons elected through general voters for the purpose of electing the President, Vice-President, or other individuals holding important positions. In Nepal, the Constitution has made provisions for the election of the President, Vice-President, and members of the National Assembly to be conducted through an Electoral College.\n"
     ]
    }
   ],
   "source": [
    "template = \"\"\"You are an expert LLM assistant specialized in answering questions based solely on the information provided in the uploaded documents (PDF, DOCX, or TXT formats). Use only the information from the documents to respond accurately and clearly to each question.\n",
    "\n",
    "Guidelines:\n",
    "1. Provide concise and informative answers.\n",
    "2. If the answer is not found in the uploaded documents, state, \"The answer is not specifically mentioned in the provided documents.\"\n",
    "3. Avoid using outside knowledge or assumptions. Stick strictly to the content in the documents.\n",
    "4. Maintain a professional and helpful tone thinking you are giving service to the customer for their documents.\n",
    "5. Answer for normal conversation questions like \"Hi\", \"Hey\", \"Hello\", \"How are you?\", and many others with the answer: \"Hello, How can I assist you?\".\n",
    "6. If the question is on \"summarize\" or \"summarization\", then summarize the documents to (1/4)th the size of the original documents.\n",
    "\n",
    "Question: {question}\n",
    "\n",
    "Context: {context}\n",
    "\n",
    "Answer:\n",
    "\"\"\"\n",
    "\n",
    "prompt = template.format(question=keyword, context=format_docs(retrieved_docs))\n",
    "\n",
    "# Create the LLM\n",
    "llm = ChatOpenAI(\n",
    "    model=\"gpt-4o\",\n",
    "    temperature=1.0,\n",
    ")\n",
    "\n",
    "# Set up the retrieval QA with custom response for missing answers\n",
    "qa = RetrievalQA.from_chain_type(\n",
    "    llm=llm,\n",
    "    retriever=vectorstore.as_retriever(),\n",
    "    return_source_documents=True  # Ensures that source documents are returned\n",
    ")\n",
    "\n",
    "# Wrapper function to handle missing answers\n",
    "def get_answer(keyword):\n",
    "    response = qa.invoke(keyword)\n",
    "    \n",
    "    # Check if the response contains valid data\n",
    "    result = response.get('result', '')\n",
    "    if \"The answer is not specifically mentioned\" in result or not result.strip():\n",
    "        return \"Precise answer not found in documents, try another prompt.\"\n",
    "    else:\n",
    "        return result\n",
    "\n",
    "# Test the response with the keyword query\n",
    "\n",
    "final_answer = get_answer(\"7. What is understood by an Electoral College?\")\n",
    "print(final_answer)"
   ]
  },
  {
   "cell_type": "code",
   "execution_count": 257,
   "metadata": {},
   "outputs": [
    {
     "data": {
      "text/plain": [
       "{\n",
       "    \"name\": \"test-2\",\n",
       "    \"dimension\": 1536,\n",
       "    \"metric\": \"dotproduct\",\n",
       "    \"host\": \"test-2-5vwf04k.svc.aped-4627-b74a.pinecone.io\",\n",
       "    \"spec\": {\n",
       "        \"serverless\": {\n",
       "            \"cloud\": \"aws\",\n",
       "            \"region\": \"us-east-1\"\n",
       "        }\n",
       "    },\n",
       "    \"status\": {\n",
       "        \"ready\": true,\n",
       "        \"state\": \"Ready\"\n",
       "    },\n",
       "    \"deletion_protection\": \"disabled\"\n",
       "}"
      ]
     },
     "execution_count": 257,
     "metadata": {},
     "output_type": "execute_result"
    }
   ],
   "source": [
    "pc.describe_index(\"test-2\")\n"
   ]
  },
  {
   "cell_type": "code",
   "execution_count": 259,
   "metadata": {},
   "outputs": [
    {
     "name": "stdout",
     "output_type": "stream",
     "text": [
      "Document with ID 3db7c16b-a763-429b-bcc0-c0ece03dccc5 has been deleted.\n"
     ]
    }
   ],
   "source": [
    "# Document (vector) ID to delete\n",
    "document_id = \"3db7c16b-a763-429b-bcc0-c0ece03dccc5\"\n",
    "\n",
    "# Delete the document from the index by its ID\n",
    "index.delete(ids=[document_id])\n",
    "\n",
    "print(f\"Document with ID {document_id} has been deleted.\")\n"
   ]
  },
  {
   "cell_type": "code",
   "execution_count": null,
   "metadata": {},
   "outputs": [],
   "source": []
  },
  {
   "cell_type": "code",
   "execution_count": null,
   "metadata": {},
   "outputs": [],
   "source": []
  },
  {
   "cell_type": "code",
   "execution_count": null,
   "metadata": {},
   "outputs": [],
   "source": []
  },
  {
   "cell_type": "code",
   "execution_count": null,
   "metadata": {},
   "outputs": [],
   "source": []
  }
 ],
 "metadata": {
  "kernelspec": {
   "display_name": "Python 3",
   "language": "python",
   "name": "python3"
  },
  "language_info": {
   "codemirror_mode": {
    "name": "ipython",
    "version": 3
   },
   "file_extension": ".py",
   "mimetype": "text/x-python",
   "name": "python",
   "nbconvert_exporter": "python",
   "pygments_lexer": "ipython3",
   "version": "3.12.3"
  }
 },
 "nbformat": 4,
 "nbformat_minor": 2
}
