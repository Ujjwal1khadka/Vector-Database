{
 "cells": [
  {
   "cell_type": "markdown",
   "metadata": {},
   "source": [
    "## Installing the Pinecone and LangChain libraries required for the Chatbot"
   ]
  },
  {
   "cell_type": "code",
   "execution_count": 120,
   "metadata": {},
   "outputs": [
    {
     "name": "stdout",
     "output_type": "stream",
     "text": [
      "Requirement already satisfied: langchain_community in /Users/user/.pyenv/versions/3.12.3/lib/python3.12/site-packages (0.2.15)\n",
      "Requirement already satisfied: langchain_pinecone in /Users/user/.pyenv/versions/3.12.3/lib/python3.12/site-packages (0.1.3)\n",
      "Requirement already satisfied: langchain_openai in /Users/user/.pyenv/versions/3.12.3/lib/python3.12/site-packages (0.1.23)\n",
      "Requirement already satisfied: unstructured in /Users/user/.pyenv/versions/3.12.3/lib/python3.12/site-packages (0.15.7)\n",
      "Requirement already satisfied: langchain-text-splitters in /Users/user/.pyenv/versions/3.12.3/lib/python3.12/site-packages (0.2.2)\n",
      "Requirement already satisfied: pinecone-text in /Users/user/.pyenv/versions/3.12.3/lib/python3.12/site-packages (0.9.0)\n",
      "Requirement already satisfied: PyYAML>=5.3 in /Users/user/.pyenv/versions/3.12.3/lib/python3.12/site-packages (from langchain_community) (6.0.1)\n",
      "Requirement already satisfied: SQLAlchemy<3,>=1.4 in /Users/user/.pyenv/versions/3.12.3/lib/python3.12/site-packages (from langchain_community) (2.0.31)\n",
      "Requirement already satisfied: aiohttp<4.0.0,>=3.8.3 in /Users/user/.pyenv/versions/3.12.3/lib/python3.12/site-packages (from langchain_community) (3.9.5)\n",
      "Requirement already satisfied: dataclasses-json<0.7,>=0.5.7 in /Users/user/.pyenv/versions/3.12.3/lib/python3.12/site-packages (from langchain_community) (0.6.7)\n",
      "Requirement already satisfied: langchain<0.3.0,>=0.2.15 in /Users/user/.pyenv/versions/3.12.3/lib/python3.12/site-packages (from langchain_community) (0.2.16)\n",
      "Requirement already satisfied: langchain-core<0.3.0,>=0.2.37 in /Users/user/.pyenv/versions/3.12.3/lib/python3.12/site-packages (from langchain_community) (0.2.38)\n",
      "Requirement already satisfied: langsmith<0.2.0,>=0.1.0 in /Users/user/.pyenv/versions/3.12.3/lib/python3.12/site-packages (from langchain_community) (0.1.108)\n",
      "Requirement already satisfied: numpy<2.0.0,>=1.26.0 in /Users/user/.pyenv/versions/3.12.3/lib/python3.12/site-packages (from langchain_community) (1.26.4)\n",
      "Requirement already satisfied: requests<3,>=2 in /Users/user/.pyenv/versions/3.12.3/lib/python3.12/site-packages (from langchain_community) (2.32.3)\n",
      "Requirement already satisfied: tenacity!=8.4.0,<9.0.0,>=8.1.0 in /Users/user/.pyenv/versions/3.12.3/lib/python3.12/site-packages (from langchain_community) (8.5.0)\n",
      "Requirement already satisfied: pinecone-client<6.0.0,>=5.0.0 in /Users/user/.pyenv/versions/3.12.3/lib/python3.12/site-packages (from langchain_pinecone) (5.0.1)\n",
      "Requirement already satisfied: openai<2.0.0,>=1.40.0 in /Users/user/.pyenv/versions/3.12.3/lib/python3.12/site-packages (from langchain_openai) (1.44.1)\n",
      "Requirement already satisfied: tiktoken<1,>=0.7 in /Users/user/.pyenv/versions/3.12.3/lib/python3.12/site-packages (from langchain_openai) (0.7.0)\n",
      "Requirement already satisfied: chardet in /Users/user/.pyenv/versions/3.12.3/lib/python3.12/site-packages (from unstructured) (5.2.0)\n",
      "Requirement already satisfied: filetype in /Users/user/.pyenv/versions/3.12.3/lib/python3.12/site-packages (from unstructured) (1.2.0)\n",
      "Requirement already satisfied: python-magic in /Users/user/.pyenv/versions/3.12.3/lib/python3.12/site-packages (from unstructured) (0.4.27)\n",
      "Requirement already satisfied: lxml in /Users/user/.pyenv/versions/3.12.3/lib/python3.12/site-packages (from unstructured) (5.2.2)\n",
      "Requirement already satisfied: nltk in /Users/user/.pyenv/versions/3.12.3/lib/python3.12/site-packages (from unstructured) (3.9.1)\n",
      "Requirement already satisfied: tabulate in /Users/user/.pyenv/versions/3.12.3/lib/python3.12/site-packages (from unstructured) (0.9.0)\n",
      "Requirement already satisfied: beautifulsoup4 in /Users/user/.pyenv/versions/3.12.3/lib/python3.12/site-packages (from unstructured) (4.12.3)\n",
      "Requirement already satisfied: emoji in /Users/user/.pyenv/versions/3.12.3/lib/python3.12/site-packages (from unstructured) (2.12.1)\n",
      "Requirement already satisfied: python-iso639 in /Users/user/.pyenv/versions/3.12.3/lib/python3.12/site-packages (from unstructured) (2024.4.27)\n",
      "Requirement already satisfied: langdetect in /Users/user/.pyenv/versions/3.12.3/lib/python3.12/site-packages (from unstructured) (1.0.9)\n",
      "Requirement already satisfied: rapidfuzz in /Users/user/.pyenv/versions/3.12.3/lib/python3.12/site-packages (from unstructured) (3.9.6)\n",
      "Requirement already satisfied: backoff in /Users/user/.pyenv/versions/3.12.3/lib/python3.12/site-packages (from unstructured) (2.2.1)\n",
      "Requirement already satisfied: typing-extensions in /Users/user/.pyenv/versions/3.12.3/lib/python3.12/site-packages (from unstructured) (4.12.2)\n",
      "Requirement already satisfied: unstructured-client in /Users/user/.pyenv/versions/3.12.3/lib/python3.12/site-packages (from unstructured) (0.25.5)\n",
      "Requirement already satisfied: wrapt in /Users/user/.pyenv/versions/3.12.3/lib/python3.12/site-packages (from unstructured) (1.16.0)\n",
      "Requirement already satisfied: tqdm in /Users/user/.pyenv/versions/3.12.3/lib/python3.12/site-packages (from unstructured) (4.66.4)\n",
      "Requirement already satisfied: psutil in /Users/user/.pyenv/versions/3.12.3/lib/python3.12/site-packages (from unstructured) (5.8.0)\n",
      "Requirement already satisfied: mmh3<5.0.0,>=4.1.0 in /Users/user/.pyenv/versions/3.12.3/lib/python3.12/site-packages (from pinecone-text) (4.1.0)\n",
      "Requirement already satisfied: python-dotenv<2.0.0,>=1.0.1 in /Users/user/.pyenv/versions/3.12.3/lib/python3.12/site-packages (from pinecone-text) (1.0.1)\n",
      "Requirement already satisfied: types-requests<3.0.0,>=2.25.0 in /Users/user/.pyenv/versions/3.12.3/lib/python3.12/site-packages (from pinecone-text) (2.32.0.20240907)\n",
      "Requirement already satisfied: wget<4.0,>=3.2 in /Users/user/.pyenv/versions/3.12.3/lib/python3.12/site-packages (from pinecone-text) (3.2)\n",
      "Requirement already satisfied: aiosignal>=1.1.2 in /Users/user/.pyenv/versions/3.12.3/lib/python3.12/site-packages (from aiohttp<4.0.0,>=3.8.3->langchain_community) (1.3.1)\n",
      "Requirement already satisfied: attrs>=17.3.0 in /Users/user/.pyenv/versions/3.12.3/lib/python3.12/site-packages (from aiohttp<4.0.0,>=3.8.3->langchain_community) (23.2.0)\n",
      "Requirement already satisfied: frozenlist>=1.1.1 in /Users/user/.pyenv/versions/3.12.3/lib/python3.12/site-packages (from aiohttp<4.0.0,>=3.8.3->langchain_community) (1.4.1)\n",
      "Requirement already satisfied: multidict<7.0,>=4.5 in /Users/user/.pyenv/versions/3.12.3/lib/python3.12/site-packages (from aiohttp<4.0.0,>=3.8.3->langchain_community) (6.0.5)\n",
      "Requirement already satisfied: yarl<2.0,>=1.0 in /Users/user/.pyenv/versions/3.12.3/lib/python3.12/site-packages (from aiohttp<4.0.0,>=3.8.3->langchain_community) (1.9.4)\n",
      "Requirement already satisfied: marshmallow<4.0.0,>=3.18.0 in /Users/user/.pyenv/versions/3.12.3/lib/python3.12/site-packages (from dataclasses-json<0.7,>=0.5.7->langchain_community) (3.21.3)\n",
      "Requirement already satisfied: typing-inspect<1,>=0.4.0 in /Users/user/.pyenv/versions/3.12.3/lib/python3.12/site-packages (from dataclasses-json<0.7,>=0.5.7->langchain_community) (0.9.0)\n",
      "Requirement already satisfied: pydantic<3,>=1 in /Users/user/.pyenv/versions/3.12.3/lib/python3.12/site-packages (from langchain<0.3.0,>=0.2.15->langchain_community) (2.8.2)\n",
      "Requirement already satisfied: jsonpatch<2.0,>=1.33 in /Users/user/.pyenv/versions/3.12.3/lib/python3.12/site-packages (from langchain-core<0.3.0,>=0.2.37->langchain_community) (1.33)\n",
      "Requirement already satisfied: packaging<25,>=23.2 in /Users/user/.pyenv/versions/3.12.3/lib/python3.12/site-packages (from langchain-core<0.3.0,>=0.2.37->langchain_community) (23.2)\n",
      "Requirement already satisfied: httpx<1,>=0.23.0 in /Users/user/.pyenv/versions/3.12.3/lib/python3.12/site-packages (from langsmith<0.2.0,>=0.1.0->langchain_community) (0.27.0)\n",
      "Requirement already satisfied: orjson<4.0.0,>=3.9.14 in /Users/user/.pyenv/versions/3.12.3/lib/python3.12/site-packages (from langsmith<0.2.0,>=0.1.0->langchain_community) (3.10.6)\n",
      "Requirement already satisfied: click in /Users/user/.pyenv/versions/3.12.3/lib/python3.12/site-packages (from nltk->unstructured) (8.1.7)\n",
      "Requirement already satisfied: joblib in /Users/user/.pyenv/versions/3.12.3/lib/python3.12/site-packages (from nltk->unstructured) (1.4.2)\n",
      "Requirement already satisfied: regex>=2021.8.3 in /Users/user/.pyenv/versions/3.12.3/lib/python3.12/site-packages (from nltk->unstructured) (2024.7.24)\n",
      "Requirement already satisfied: anyio<5,>=3.5.0 in /Users/user/.pyenv/versions/3.12.3/lib/python3.12/site-packages (from openai<2.0.0,>=1.40.0->langchain_openai) (4.4.0)\n",
      "Requirement already satisfied: distro<2,>=1.7.0 in /Users/user/.pyenv/versions/3.12.3/lib/python3.12/site-packages (from openai<2.0.0,>=1.40.0->langchain_openai) (1.9.0)\n",
      "Requirement already satisfied: jiter<1,>=0.4.0 in /Users/user/.pyenv/versions/3.12.3/lib/python3.12/site-packages (from openai<2.0.0,>=1.40.0->langchain_openai) (0.5.0)\n",
      "Requirement already satisfied: sniffio in /Users/user/.pyenv/versions/3.12.3/lib/python3.12/site-packages (from openai<2.0.0,>=1.40.0->langchain_openai) (1.3.1)\n",
      "Requirement already satisfied: certifi>=2019.11.17 in /Users/user/.pyenv/versions/3.12.3/lib/python3.12/site-packages (from pinecone-client<6.0.0,>=5.0.0->langchain_pinecone) (2024.7.4)\n",
      "Requirement already satisfied: pinecone-plugin-inference<2.0.0,>=1.0.3 in /Users/user/.pyenv/versions/3.12.3/lib/python3.12/site-packages (from pinecone-client<6.0.0,>=5.0.0->langchain_pinecone) (1.0.3)\n",
      "Requirement already satisfied: pinecone-plugin-interface<0.0.8,>=0.0.7 in /Users/user/.pyenv/versions/3.12.3/lib/python3.12/site-packages (from pinecone-client<6.0.0,>=5.0.0->langchain_pinecone) (0.0.7)\n",
      "Requirement already satisfied: urllib3>=1.26.5 in /Users/user/.pyenv/versions/3.12.3/lib/python3.12/site-packages (from pinecone-client<6.0.0,>=5.0.0->langchain_pinecone) (2.2.2)\n",
      "Requirement already satisfied: charset-normalizer<4,>=2 in /Users/user/.pyenv/versions/3.12.3/lib/python3.12/site-packages (from requests<3,>=2->langchain_community) (3.3.2)\n",
      "Requirement already satisfied: idna<4,>=2.5 in /Users/user/.pyenv/versions/3.12.3/lib/python3.12/site-packages (from requests<3,>=2->langchain_community) (3.7)\n",
      "Requirement already satisfied: soupsieve>1.2 in /Users/user/.pyenv/versions/3.12.3/lib/python3.12/site-packages (from beautifulsoup4->unstructured) (2.5)\n",
      "Requirement already satisfied: six in /Users/user/.pyenv/versions/3.12.3/lib/python3.12/site-packages (from langdetect->unstructured) (1.16.0)\n",
      "Requirement already satisfied: deepdiff>=6.0 in /Users/user/.pyenv/versions/3.12.3/lib/python3.12/site-packages (from unstructured-client->unstructured) (7.0.1)\n",
      "Requirement already satisfied: jsonpath-python>=1.0.6 in /Users/user/.pyenv/versions/3.12.3/lib/python3.12/site-packages (from unstructured-client->unstructured) (1.0.6)\n",
      "Requirement already satisfied: mypy-extensions>=1.0.0 in /Users/user/.pyenv/versions/3.12.3/lib/python3.12/site-packages (from unstructured-client->unstructured) (1.0.0)\n",
      "Requirement already satisfied: nest-asyncio>=1.6.0 in /Users/user/.pyenv/versions/3.12.3/lib/python3.12/site-packages (from unstructured-client->unstructured) (1.6.0)\n",
      "Requirement already satisfied: pypdf>=4.0 in /Users/user/.pyenv/versions/3.12.3/lib/python3.12/site-packages (from unstructured-client->unstructured) (4.3.1)\n",
      "Requirement already satisfied: python-dateutil>=2.8.2 in /Users/user/.pyenv/versions/3.12.3/lib/python3.12/site-packages (from unstructured-client->unstructured) (2.9.0.post0)\n",
      "Requirement already satisfied: requests-toolbelt>=1.0.0 in /Users/user/.pyenv/versions/3.12.3/lib/python3.12/site-packages (from unstructured-client->unstructured) (1.0.0)\n",
      "Requirement already satisfied: ordered-set<4.2.0,>=4.1.0 in /Users/user/.pyenv/versions/3.12.3/lib/python3.12/site-packages (from deepdiff>=6.0->unstructured-client->unstructured) (4.1.0)\n",
      "Requirement already satisfied: httpcore==1.* in /Users/user/.pyenv/versions/3.12.3/lib/python3.12/site-packages (from httpx<1,>=0.23.0->langsmith<0.2.0,>=0.1.0->langchain_community) (1.0.5)\n",
      "Requirement already satisfied: h11<0.15,>=0.13 in /Users/user/.pyenv/versions/3.12.3/lib/python3.12/site-packages (from httpcore==1.*->httpx<1,>=0.23.0->langsmith<0.2.0,>=0.1.0->langchain_community) (0.14.0)\n",
      "Requirement already satisfied: jsonpointer>=1.9 in /Users/user/.pyenv/versions/3.12.3/lib/python3.12/site-packages (from jsonpatch<2.0,>=1.33->langchain-core<0.3.0,>=0.2.37->langchain_community) (3.0.0)\n",
      "Requirement already satisfied: annotated-types>=0.4.0 in /Users/user/.pyenv/versions/3.12.3/lib/python3.12/site-packages (from pydantic<3,>=1->langchain<0.3.0,>=0.2.15->langchain_community) (0.7.0)\n",
      "Requirement already satisfied: pydantic-core==2.20.1 in /Users/user/.pyenv/versions/3.12.3/lib/python3.12/site-packages (from pydantic<3,>=1->langchain<0.3.0,>=0.2.15->langchain_community) (2.20.1)\n"
     ]
    }
   ],
   "source": [
    "!pip install \\\n",
    "  langchain_community \\\n",
    "  langchain_pinecone \\\n",
    "  langchain_openai \\\n",
    "  unstructured \\\n",
    "  langchain-text-splitters \\\n",
    "  pinecone-text"
   ]
  },
  {
   "cell_type": "markdown",
   "metadata": {},
   "source": [
    "## Importing the Langchain and Pinecone Modules from the libraries"
   ]
  },
  {
   "cell_type": "code",
   "execution_count": 121,
   "metadata": {},
   "outputs": [],
   "source": [
    "from langchain_pinecone import PineconeVectorStore\n",
    "from pinecone import ServerlessSpec\n",
    "from pinecone.grpc import PineconeGRPC as Pinecone\n",
    "from langchain_openai import OpenAIEmbeddings\n",
    "from langchain_pinecone import PineconeVectorStore\n",
    "from langchain_community.document_loaders import DirectoryLoader\n",
    "from langchain_text_splitters import RecursiveCharacterTextSplitter\n",
    "from langchain_openai import ChatOpenAI\n",
    "from langchain.chains import RetrievalQA\n",
    "from tqdm.auto import tqdm\n",
    "import pinecone\n",
    "import os\n",
    "import glob"
   ]
  },
  {
   "cell_type": "markdown",
   "metadata": {},
   "source": [
    "## Loading the Documents"
   ]
  },
  {
   "cell_type": "code",
   "execution_count": 122,
   "metadata": {},
   "outputs": [
    {
     "name": "stdout",
     "output_type": "stream",
     "text": [
      "Files in 'data' directory: ['Appointments Module ✓.docx', 'Comms Module ✓.docx', 'Clients - Cases Module ✓.docx', 'Clients Module ✓.docx', 'Leads Module ✓.docx', 'Activity Logs Module ✓.docx', 'Settings Module.docx', 'Reports Module ✓.docx', 'Cases Module ✓.docx', 'Clients - Comms Module ✓.docx', 'Clients - Billings Module ✓.docx', 'c.pdf', 'Virtual Visits Module ✓.docx', 'Calendar Module ✓.docx', 'Files Module ✓.docx', ' Billings Module ✓.docx', 'Clients - Clients Module ✓.docx']\n"
     ]
    }
   ],
   "source": [
    "# List all files in the 'data' directory\n",
    "print(\"Files in 'data' directory:\", os.listdir('data'))"
   ]
  },
  {
   "cell_type": "code",
   "execution_count": 123,
   "metadata": {},
   "outputs": [
    {
     "data": {
      "text/plain": [
       "17"
      ]
     },
     "execution_count": 123,
     "metadata": {},
     "output_type": "execute_result"
    }
   ],
   "source": [
    "directory = 'data'\n",
    "def load_docs(directory):\n",
    "  loader = DirectoryLoader(directory)\n",
    "  docs = loader.load()\n",
    "  return docs\n",
    "\n",
    "docs = load_docs(directory)\n",
    "len(docs)"
   ]
  },
  {
   "cell_type": "code",
   "execution_count": 124,
   "metadata": {},
   "outputs": [
    {
     "name": "stdout",
     "output_type": "stream",
     "text": [
      "Loaded 17 documents.\n"
     ]
    }
   ],
   "source": [
    "print(f\"Loaded {len(docs)} documents.\")\n"
   ]
  },
  {
   "cell_type": "markdown",
   "metadata": {},
   "source": [
    "## Natural Language ToolKit"
   ]
  },
  {
   "cell_type": "code",
   "execution_count": 125,
   "metadata": {},
   "outputs": [
    {
     "name": "stderr",
     "output_type": "stream",
     "text": [
      "[nltk_data] Downloading package punkt to /Users/user/nltk_data...\n",
      "[nltk_data]   Package punkt is already up-to-date!\n"
     ]
    },
    {
     "data": {
      "text/plain": [
       "True"
      ]
     },
     "execution_count": 125,
     "metadata": {},
     "output_type": "execute_result"
    }
   ],
   "source": [
    " import nltk\n",
    " nltk.download('punkt')"
   ]
  },
  {
   "cell_type": "markdown",
   "metadata": {},
   "source": [
    "## API Keys Verifications"
   ]
  },
  {
   "cell_type": "code",
   "execution_count": 126,
   "metadata": {},
   "outputs": [],
   "source": [
    "import os\n",
    "from dotenv import load_dotenv\n",
    "\n",
    "# Load environment variables from .env file\n",
    "load_dotenv()\n",
    "\n",
    "# Fetch API keys from environment variables\n",
    "openai_api_key = os.getenv('OPENAI_API_KEY')\n",
    "pinecone_api_key = os.getenv('PINECONE_API_KEY')\n",
    "\n",
    "# Set the environment variables\n",
    "if openai_api_key:\n",
    "    os.environ['OPENAI_API_KEY'] = openai_api_key\n",
    "if pinecone_api_key:\n",
    "    os.environ['PINECONE_API_KEY'] = pinecone_api_key\n",
    "\n",
    "#Verify that the keys are loaded\n",
    "#print(f\"OpenAI API Key: {os.environ.get('OPENAI_API_KEY')}\")\n",
    "#print(f\"Pinecone API Key: {os.environ.get('PINECONE_API_KEY')}\")"
   ]
  },
  {
   "cell_type": "markdown",
   "metadata": {},
   "source": [
    "## OpenAI Embeddings Model (Dense Vectors)"
   ]
  },
  {
   "cell_type": "code",
   "execution_count": 127,
   "metadata": {},
   "outputs": [],
   "source": [
    "# Split our documents into chunks\n",
    "\n",
    "os.environ[\"HUGGINGFACEHUB_API_TOKEN\"]=\"HUGGINGFACEHUB_API_TOKEN\"\n",
    "embeddings = OpenAIEmbeddings(\n",
    "    model=\"text-embedding-ada-002\",  #response time is 9s  #infloat/e5-base-V2 has 3.53sec response time.\n",
    ")\n",
    "embeddings\n",
    "\n",
    "index_name = \"test-2\"\n",
    "\n",
    "# Split our documents into chunks\n",
    "chunk_size = 1000  \n",
    "chunk_overlap = 200  \n",
    "\n",
    "# Initialize the text splitter with chunk size and chunk overlap\n",
    "text_splitter = RecursiveCharacterTextSplitter(chunk_size=chunk_size, chunk_overlap=chunk_overlap)\n",
    "\n",
    "# Split your documents into chunks\n",
    "split_docs = text_splitter.split_documents(docs)\n",
    "\n",
    "import pandas as pd\n",
    "df_dense = pd.DataFrame(split_docs)\n",
    "#df_dense.shape\n",
    "\n"
   ]
  },
  {
   "cell_type": "markdown",
   "metadata": {},
   "source": [
    "## BM25 (Sparse Vectors)"
   ]
  },
  {
   "cell_type": "code",
   "execution_count": 128,
   "metadata": {},
   "outputs": [
    {
     "name": "stdout",
     "output_type": "stream",
     "text": [
      "Index(['source'], dtype='object')\n"
     ]
    }
   ],
   "source": [
    "import pandas as pd\n",
    "from langchain.text_splitter import RecursiveCharacterTextSplitter\n",
    "\n",
    "# Assume you have the 'docs' variable which is your original list of documents\n",
    "\n",
    "# Initialize the RecursiveCharacterTextSplitter\n",
    "text_splitter = RecursiveCharacterTextSplitter(chunk_size=500, chunk_overlap=100)\n",
    "\n",
    "# Split the documents\n",
    "split_docs = text_splitter.split_documents(docs)\n",
    "\n",
    "# Extract metadata from each document\n",
    "metadata_list = [doc.metadata for doc in split_docs]\n",
    "\n",
    "# Convert the metadata into a pandas DataFrame\n",
    "df_metadata = pd.DataFrame(metadata_list)\n",
    "\n",
    "# Print the DataFrame to see the result\n",
    "#print(df_metadata)\n",
    "\n",
    "# Check the columns in the DataFrame\n",
    "print(df_metadata.columns)"
   ]
  },
  {
   "cell_type": "code",
   "execution_count": 129,
   "metadata": {},
   "outputs": [
    {
     "name": "stderr",
     "output_type": "stream",
     "text": [
      "100%|██████████| 404/404 [00:00<00:00, 7002.96it/s]\n"
     ]
    }
   ],
   "source": [
    "import pandas as pd\n",
    "from pinecone_text.sparse import BM25Encoder\n",
    "\n",
    "# Initialize the BM25Encoder\n",
    "bm25 = BM25Encoder()\n",
    "\n",
    "# Assuming df_metadata is your DataFrame containing the 'productDisplayName' column\n",
    "encode = df_metadata['source'].tolist()\n",
    "\n",
    "# Fit the BM25 model on the productDisplayNames\n",
    "bm25.fit(encode)\n",
    "\n",
    "# Create lists to store the results\n",
    "encoded_queries = []\n",
    "encoded_documents = []\n",
    "\n",
    "# Loop through each productDisplayName\n",
    "for name in encode:\n",
    "    query_encoding = bm25.encode_queries(name)\n",
    "    document_encoding = bm25.encode_documents(name)\n",
    "    \n",
    "    encoded_queries.append(query_encoding)\n",
    "    encoded_documents.append(document_encoding)\n",
    "\n",
    "# Optionally, you can convert the results into DataFrames for easier handling\n",
    "df_encoded_queries = pd.DataFrame(encoded_queries)\n",
    "df_encoded_documents = pd.DataFrame(encoded_documents)\n",
    "\n",
    "# Print the results\n",
    "#print(\"Encoded Queries:\")\n",
    "#print(df_encoded_queries.head())\n",
    "\n",
    "#print(\"Encoded Documents:\")\n",
    "#print(df_encoded_documents.head())"
   ]
  },
  {
   "cell_type": "markdown",
   "metadata": {},
   "source": [
    "## Pinecone Vector Store"
   ]
  },
  {
   "cell_type": "code",
   "execution_count": 132,
   "metadata": {},
   "outputs": [
    {
     "data": {
      "text/plain": [
       "<langchain_pinecone.vectorstores.PineconeVectorStore at 0x3277c23c0>"
      ]
     },
     "execution_count": 132,
     "metadata": {},
     "output_type": "execute_result"
    }
   ],
   "source": [
    "index_name = \"test-2\"\n",
    "vectorstore = PineconeVectorStore.from_documents(split_docs, embeddings, index_name=index_name)\n",
    "vectorstore"
   ]
  },
  {
   "cell_type": "code",
   "execution_count": 134,
   "metadata": {},
   "outputs": [],
   "source": [
    "upserts = [\n",
    "    {'id': 'id1', 'values': [0.1, 0.2, 0.3], 'metadata': {'key': 'value'}},\n",
    "    {'id': 'id2', 'values': [0.4, 0.5, 0.6], 'metadata': {'key': 'value'}}\n",
    "]"
   ]
  },
  {
   "cell_type": "code",
   "execution_count": 135,
   "metadata": {},
   "outputs": [
    {
     "ename": "AttributeError",
     "evalue": "'PineconeVectorStore' object has no attribute 'upsert'",
     "output_type": "error",
     "traceback": [
      "\u001b[0;31m---------------------------------------------------------------------------\u001b[0m",
      "\u001b[0;31mAttributeError\u001b[0m                            Traceback (most recent call last)",
      "Cell \u001b[0;32mIn[135], line 1\u001b[0m\n\u001b[0;32m----> 1\u001b[0m \u001b[43mvectorstore\u001b[49m\u001b[38;5;241;43m.\u001b[39;49m\u001b[43mupsert\u001b[49m(vectors\u001b[38;5;241m=\u001b[39mupserts)\n",
      "\u001b[0;31mAttributeError\u001b[0m: 'PineconeVectorStore' object has no attribute 'upsert'"
     ]
    }
   ],
   "source": [
    "vectorstore.upsert(vectors=upserts)"
   ]
  },
  {
   "cell_type": "code",
   "execution_count": null,
   "metadata": {},
   "outputs": [],
   "source": []
  },
  {
   "cell_type": "code",
   "execution_count": null,
   "metadata": {},
   "outputs": [],
   "source": []
  },
  {
   "cell_type": "markdown",
   "metadata": {},
   "source": [
    "## Searching for Similar Documents in Vector Store"
   ]
  },
  {
   "cell_type": "code",
   "execution_count": 90,
   "metadata": {},
   "outputs": [],
   "source": [
    "tenant_id = \"tenant_A\"  # This can be dynamically assigned based on your application logic\n",
    "\n",
    "query=\"Hi\"\n",
    "\n",
    "similar_docs = vectorstore.similarity_search(query, k=5, filter={\"tenant_id\": tenant_id})"
   ]
  },
  {
   "cell_type": "markdown",
   "metadata": {},
   "source": [
    "## Upsert"
   ]
  },
  {
   "cell_type": "markdown",
   "metadata": {},
   "source": []
  },
  {
   "cell_type": "code",
   "execution_count": null,
   "metadata": {},
   "outputs": [],
   "source": []
  },
  {
   "cell_type": "markdown",
   "metadata": {},
   "source": [
    "## Importing Chat Model as GPT-4o"
   ]
  },
  {
   "cell_type": "code",
   "execution_count": 49,
   "metadata": {},
   "outputs": [],
   "source": [
    "llm = ChatOpenAI(\n",
    "    model=\"gpt-4o\",\n",
    "    temperature=0.7\n",
    ")\n",
    "\n",
    "qa = RetrievalQA.from_chain_type(\n",
    "    llm=llm,\n",
    "    chain_type=\"map_reduce\",\n",
    "    retriever=vectorstore.as_retriever(),\n",
    "    return_source_documents=True  # This will return source documents in the response\n",
    "\n",
    ")\n",
    "\n",
    "#qa.invoke(query)"
   ]
  },
  {
   "cell_type": "code",
   "execution_count": 50,
   "metadata": {},
   "outputs": [
    {
     "name": "stdout",
     "output_type": "stream",
     "text": [
      "Response: Hello! How can I assist you today? (Source: [Document(metadata={'blobType': '', 'flowise_chatId': '46225d20-7c7b-4719-a6ba-7ed3e67fc794', 'loc.lines.from': 1.0, 'loc.lines.to': 5.0, 'loc.pageNumber': 96.0, 'pdf.info.CreationDate': \"D:20240524094432+02'00'\", 'pdf.info.Creator': 'Adobe InDesign 17.4 (Macintosh)', 'pdf.info.IsAcroFormPresent': False, 'pdf.info.IsXFAPresent': False, 'pdf.info.ModDate': \"D:20240524085908+01'00'\", 'pdf.info.PDFFormatVersion': '1.7', 'pdf.info.Producer': 'Adobe PDF Library 16.0.7', 'pdf.info.Trapped.name': 'False', 'pdf.metadata._metadata.dc:format': 'application/pdf', 'pdf.metadata._metadata.pdf:producer': 'Adobe PDF Library 16.0.7', 'pdf.metadata._metadata.pdf:trapped': 'False', 'pdf.metadata._metadata.xmp:createdate': '2024-05-24T09:44:32+02:00', 'pdf.metadata._metadata.xmp:creatortool': 'Adobe InDesign 17.4 (Macintosh)', 'pdf.metadata._metadata.xmp:metadatadate': '2024-05-24T08:59:08+01:00', 'pdf.metadata._metadata.xmp:modifydate': '2024-05-24T08:59:08+01:00', 'pdf.metadata._metadata.xmpmm:derivedfrom': 'xmp.iid:5df489d1-a8d5-45e8-b72f-80ea02f80b4dxmp.did:a3fe333c-d614-4976-8610-6d1cb3928ca1xmp.did:ee8a2535-000a-3143-891d-d629d496139edefault', 'pdf.metadata._metadata.xmpmm:documentid': 'xmp.id:dcf87626-e77c-460f-8b93-ff8780dd1ad1', 'pdf.metadata._metadata.xmpmm:history': 'convertedfrom application/x-indesign to application/pdfAdobe InDesign 17.4 (Macintosh)/2024-05-24T09:44:32+02:00', 'pdf.metadata._metadata.xmpmm:instanceid': 'uuid:b1cb0123-0b0b-491f-acd5-d0e465e6b1d6', 'pdf.metadata._metadata.xmpmm:originaldocumentid': 'xmp.did:ee8a2535-000a-3143-891d-d629d496139e', 'pdf.metadata._metadata.xmpmm:renditionclass': 'proof:pdf', 'pdf.totalPages': 96.0, 'pdf.version': '1.10.100', 'source': 'blob'}, page_content='World Health Organization\\nAvenue Appia 20\\n1211 Geneva\\nSwitzerland    \\nhttp://www.who.int'), Document(metadata={'source': 'data/Cases Module ✓.docx'}, page_content='in advocating for clients or causes.'), Document(metadata={'source': '/Users/user/Downloads/tutorials/Youtube-Tutorials/Langchain Chatbot/data/Cases Module ✓.docx'}, page_content='in advocating for clients or causes.'), Document(metadata={'source': 'data/Cases Module ✓.docx'}, page_content='in advocating for clients or causes.')])\n"
     ]
    }
   ],
   "source": [
    "# Post-process the output\n",
    "response = qa.invoke(query)\n",
    "result = response.get('result', 'No result found')\n",
    "source_documents = response.get('source_documents', 'No source documents available')\n",
    "source_info = response['source_documents']  \n",
    "print(f\"Response: {response['result']} (Source: {source_info})\")"
   ]
  },
  {
   "cell_type": "markdown",
   "metadata": {},
   "source": [
    "## Query and Response (with Pinecone and without Pinecone)"
   ]
  },
  {
   "cell_type": "code",
   "execution_count": 51,
   "metadata": {},
   "outputs": [
    {
     "name": "stdout",
     "output_type": "stream",
     "text": [
      "Response \n",
      "\n",
      "Chat with Pinecone:\n",
      "The specific election crimes in Nepal according to Chapter 2 of the Election Crimes and Punishment Act of 1990 are:\n",
      "\n",
      "a. To obtain a ballot and cast a vote in another’s name.\n",
      "\n",
      "b. To influence others through fear, terror, or intimidation.\n",
      "\n",
      "c. To indulge in character assassination of a candidate or his family members with an intention to influence the election or to influence voters.\n",
      "\n",
      "d. To campaign in a manner affecting the independence, sovereignty, and integrity of the nation, or to engage in publicity based on religion, caste, creed, language, or regionalism leading to communal disharmony.\n",
      "\n",
      "e. To offer any cash, goods, or gifts in exchange for votes.\n",
      "\n",
      "Chat with GPT-4o:\n",
      "In Nepal, election crimes are actions that violate the electoral laws and regulations designed to ensure free, fair, and transparent elections. Some specific election crimes in Nepal include:\n",
      "\n",
      "1. **Voter Fraud**: This includes activities like double voting, voting in someone else’s name, and other deceptive practices to manipulate the outcome of the election.\n",
      "\n",
      "2. **Bribery and Corruption**: Offering money, gifts, or other incentives to voters, election officials, or candidates to influence their actions or decisions is illegal.\n",
      "\n",
      "3. **Intimidation and Coercion**: Threatening or using force against voters, candidates, or election officials to influence their participation or choices in the electoral process.\n",
      "\n",
      "4. **Tampering with Election Materials**: This includes tampering with ballot papers, ballot boxes, voter lists, or other election-related documents and materials.\n",
      "\n",
      "5. **Impersonation**: Casting a vote or attempting to vote while posing as another registered voter.\n",
      "\n",
      "6. **Unauthorized Access**: Gaining unauthorized access to voting machines, election databases, or other election infrastructure.\n",
      "\n",
      "7. **Campaign Violations**: This includes campaigning during the prohibited \"silent period\" before the election, exceeding campaign spending limits, or violating rules about campaign materials and advertising.\n",
      "\n",
      "8. **False Information and Propaganda**: Spreading false information or propaganda aimed at misleading voters or discrediting candidates and political parties.\n",
      "\n",
      "9. **Interference with Election Officials**: Obstructing or interfering with the duties of election officials, such as polling officers and members of the Election Commission.\n",
      "\n",
      "10. **Violation of Electoral Code of Conduct**: Breaching specific guidelines set by the Election Commission of Nepal regarding the conduct of candidates, political parties, and election-related activities.\n",
      "\n",
      "11. **Non-compliance with Electoral Laws**: Any other actions that violate the Election Act or directives issued by the Election Commission of Nepal.\n",
      "\n",
      "The Election Commission of Nepal is responsible for overseeing and enforcing these laws, and violators can face penalties, including fines, imprisonment, or disqualification from the electoral process.\n"
     ]
    }
   ],
   "source": [
    "query = \"\"\"What are specific election crimes in Nepal?\"\"\"\n",
    "\n",
    "# Send each query to the LLM twice, first with relevant knowledge from Pincone \n",
    "# and then without any additional knowledge.\n",
    "print(\"Response \\n\")\n",
    "print(\"Chat with Pinecone:\")\n",
    "print(qa.invoke(query).get(\"result\"))\n",
    "print(\"\\nChat with GPT-4o:\")\n",
    "print(llm.invoke(query).content)"
   ]
  },
  {
   "cell_type": "code",
   "execution_count": 52,
   "metadata": {},
   "outputs": [],
   "source": [
    "# Function to delete documents by ids\n",
    "def delete_documents(ids):\n",
    "    vectorstore.delete(ids)\n",
    "    \n",
    "\n",
    "# Deleting documents with specific ids\n",
    "ids_to_delete = [\"id1\", \"id2\"]  # Replace with actual document ids\n",
    "delete_documents(ids_to_delete)    "
   ]
  },
  {
   "cell_type": "markdown",
   "metadata": {},
   "source": [
    "## Chaining Everything with a SequentialChain\n"
   ]
  },
  {
   "cell_type": "code",
   "execution_count": null,
   "metadata": {},
   "outputs": [],
   "source": []
  },
  {
   "cell_type": "code",
   "execution_count": null,
   "metadata": {},
   "outputs": [],
   "source": []
  },
  {
   "cell_type": "code",
   "execution_count": null,
   "metadata": {},
   "outputs": [],
   "source": []
  }
 ],
 "metadata": {
  "kernelspec": {
   "display_name": "Python 3",
   "language": "python",
   "name": "python3"
  },
  "language_info": {
   "codemirror_mode": {
    "name": "ipython",
    "version": 3
   },
   "file_extension": ".py",
   "mimetype": "text/x-python",
   "name": "python",
   "nbconvert_exporter": "python",
   "pygments_lexer": "ipython3",
   "version": "3.12.3"
  }
 },
 "nbformat": 4,
 "nbformat_minor": 2
}
