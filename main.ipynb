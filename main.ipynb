{
 "cells": [
  {
   "cell_type": "markdown",
   "metadata": {},
   "source": [
    "## Installing the Pinecone and LangChain libraries required for the Chatbot"
   ]
  },
  {
   "cell_type": "code",
   "execution_count": 49,
   "metadata": {},
   "outputs": [],
   "source": [
    "# !pip install \\\n",
    "#   langchain_community \\\n",
    "#   langchain_pinecone \\\n",
    "#   langchain_openai \\\n",
    "#   unstructured \\\n",
    "#   langchain-text-splitters \\\n",
    "#   pinecone-text"
   ]
  },
  {
   "cell_type": "markdown",
   "metadata": {},
   "source": [
    "## Importing the Langchain and Pinecone Modules from the libraries"
   ]
  },
  {
   "cell_type": "code",
   "execution_count": 50,
   "metadata": {},
   "outputs": [],
   "source": [
    "\n",
    "from langchain_pinecone import PineconeVectorStore\n",
    "from langchain_community.retrievers import (\n",
    "    PineconeHybridSearchRetriever)\n",
    "from pinecone.grpc import PineconeGRPC as Pinecone\n",
    "from langchain_openai import OpenAIEmbeddings\n",
    "from langchain_pinecone import PineconeVectorStore\n",
    "from langchain_community.document_loaders import DirectoryLoader\n",
    "from langchain_text_splitters import RecursiveCharacterTextSplitter\n",
    "from langchain_core.runnables import RunnableParallel, RunnablePassthrough\n",
    "from langchain_openai import ChatOpenAI\n",
    "from langchain.chains import RetrievalQA\n",
    "from langchain_openai import OpenAI\n",
    "from langchain_core.prompts import PromptTemplate\n",
    "from langchain_core.runnables import RunnablePassthrough\n",
    "from langchain_core.output_parsers import StrOutputParser\n",
    "from langchain.document_loaders import TextLoader\n",
    "from langchain_core.runnables import Runnable\n",
    "from pinecone import ServerlessSpec\n",
    "import pandas as pd\n",
    "import itertools\n",
    "from sentence_transformers import SentenceTransformer\n",
    "from tqdm.auto import tqdm\n",
    "from dotenv import load_dotenv\n",
    "import pinecone\n",
    "import uuid\n",
    "import os\n",
    "import glob\n",
    "import hashlib\n",
    "from tqdm.autonotebook import tqdm"
   ]
  },
  {
   "cell_type": "code",
   "execution_count": 51,
   "metadata": {},
   "outputs": [],
   "source": [
    "# List all files in the 'data' directory\n",
    "#print(\"Files in 'data' directory:\", os.listdir('data'))"
   ]
  },
  {
   "cell_type": "code",
   "execution_count": 52,
   "metadata": {},
   "outputs": [
    {
     "name": "stdout",
     "output_type": "stream",
     "text": [
      "3\n"
     ]
    }
   ],
   "source": [
    "directory = 'data'\n",
    "\n",
    "def load_docs(directory):\n",
    "    loader = DirectoryLoader(directory)\n",
    "    docs = loader.load()\n",
    "    return docs\n",
    "\n",
    "docs = load_docs(directory)\n",
    "print(len(docs))"
   ]
  },
  {
   "cell_type": "code",
   "execution_count": 53,
   "metadata": {},
   "outputs": [],
   "source": [
    "#print(f\"Loaded {len(docs)} documents.\")\n"
   ]
  },
  {
   "cell_type": "markdown",
   "metadata": {},
   "source": [
    "## Natural Language ToolKit"
   ]
  },
  {
   "cell_type": "code",
   "execution_count": 54,
   "metadata": {},
   "outputs": [],
   "source": [
    "#  import nltk\n",
    "#  nltk.download('punkt')"
   ]
  },
  {
   "cell_type": "markdown",
   "metadata": {},
   "source": [
    "## API Keys Verifications"
   ]
  },
  {
   "cell_type": "code",
   "execution_count": 55,
   "metadata": {},
   "outputs": [
    {
     "name": "stdout",
     "output_type": "stream",
     "text": [
      "Pinecone API Key: 3e7dee19-83b9-46f2-88b4-5a549d18f705\n"
     ]
    }
   ],
   "source": [
    "import os\n",
    "from dotenv import load_dotenv\n",
    "\n",
    "# Load environment variables from .env file\n",
    "load_dotenv()\n",
    "\n",
    "# Fetch API keys from environment variables\n",
    "openai_api_key = os.getenv('OPENAI_API_KEY')\n",
    "pinecone_api_key = os.getenv('PINECONE_API_KEY')\n",
    "\n",
    "# Set the environment variables\n",
    "if openai_api_key:\n",
    "    os.environ['OPENAI_API_KEY'] = openai_api_key\n",
    "if pinecone_api_key:\n",
    "    os.environ['PINECONE_API_KEY'] = pinecone_api_key\n",
    "\n",
    "#Verify that the keys are loaded\n",
    "#print(f\"OpenAI API Key: {os.environ.get('OPENAI_API_KEY')}\")\n",
    "print(f\"Pinecone API Key: {os.environ.get('PINECONE_API_KEY')}\")"
   ]
  },
  {
   "cell_type": "code",
   "execution_count": 56,
   "metadata": {},
   "outputs": [],
   "source": [
    "import getpass\n",
    "import os\n",
    "import time\n",
    "\n",
    "from pinecone import Pinecone, ServerlessSpec\n",
    "\n",
    "if not os.getenv(\"PINECONE_API_KEY\"):\n",
    "    os.environ[\"PINECONE_API_KEY\"] = getpass.getpass(\"Enter your Pinecone API key: \")\n",
    "\n",
    "pinecone_api_key = os.environ.get(\"PINECONE_API_KEY\")\n",
    "\n",
    "pc = Pinecone(api_key=pinecone_api_key)"
   ]
  },
  {
   "cell_type": "code",
   "execution_count": 57,
   "metadata": {},
   "outputs": [],
   "source": [
    "import time\n",
    "\n",
    "index_name = \"test-2\"  # change if desired\n",
    "\n",
    "existing_indexes = [index_info[\"name\"] for index_info in pc.list_indexes()]\n",
    "\n",
    "if index_name not in existing_indexes:\n",
    "    pc.create_index(\n",
    "        name=index_name,\n",
    "        dimension=3072,\n",
    "        metric=\"cosine\",\n",
    "        spec=ServerlessSpec(cloud=\"aws\", region=\"us-east-1\"),\n",
    "    )\n",
    "    while not pc.describe_index(index_name).status[\"ready\"]:\n",
    "        time.sleep(1)\n",
    "\n",
    "index = pc.Index(index_name)"
   ]
  },
  {
   "cell_type": "code",
   "execution_count": 59,
   "metadata": {},
   "outputs": [
    {
     "data": {
      "text/plain": [
       "OpenAIEmbeddings(client=<openai.resources.embeddings.Embeddings object at 0x329a37560>, async_client=<openai.resources.embeddings.AsyncEmbeddings object at 0x32424fda0>, model='text-embedding-ada-002', dimensions=None, deployment='text-embedding-ada-002', openai_api_version=None, openai_api_base=None, openai_api_type=None, openai_proxy=None, embedding_ctx_length=8191, openai_api_key=SecretStr('**********'), openai_organization=None, allowed_special=None, disallowed_special=None, chunk_size=1000, max_retries=2, request_timeout=None, headers=None, tiktoken_enabled=True, tiktoken_model_name=None, show_progress_bar=False, model_kwargs={}, skip_empty=False, default_headers=None, default_query=None, retry_min_seconds=4, retry_max_seconds=20, http_client=None, http_async_client=None, check_embedding_ctx_length=True)"
      ]
     },
     "execution_count": 59,
     "metadata": {},
     "output_type": "execute_result"
    }
   ],
   "source": [
    "os.environ[\"HUGGINGFACEHUB_API_TOKEN\"]=\"HUGGINGFACEHUB_API_TOKEN\"\n",
    "embeddings = OpenAIEmbeddings(\n",
    "    model=\"text-embedding-ada-002\",  #response time is 9s  #infloat/e5-base-V2 has 3.53sec response time.\n",
    ")\n",
    "embeddings"
   ]
  },
  {
   "cell_type": "code",
   "execution_count": 60,
   "metadata": {},
   "outputs": [],
   "source": [
    "from langchain_pinecone import PineconeVectorStore\n",
    "\n",
    "vectorstore = PineconeVectorStore(index=index, embedding=embeddings)"
   ]
  },
  {
   "cell_type": "code",
   "execution_count": 61,
   "metadata": {},
   "outputs": [],
   "source": [
    "# from uuid import uuid4\n",
    "\n",
    "# from langchain_core.documents import Document\n",
    "\n",
    "# document_1 = Document(\n",
    "#     page_content=\"I had chocalate chip pancakes and scrambled eggs for breakfast this morning.\",\n",
    "#     metadata={\"source\": \"tweet\"},\n",
    "# )\n",
    "\n",
    "# document_2 = Document(\n",
    "#     page_content=\"The weather forecast for tomorrow is cloudy and overcast, with a high of 62 degrees.\",\n",
    "#     metadata={\"source\": \"news\"},\n",
    "# )\n",
    "\n",
    "# document_3 = Document(\n",
    "#     page_content=\"Building an exciting new project with LangChain - come check it out!\",\n",
    "#     metadata={\"source\": \"tweet\"},\n",
    "# )\n",
    "\n",
    "# document_4 = Document(\n",
    "#     page_content=\"Robbers broke into the city bank and stole $1 million in cash.\",\n",
    "#     metadata={\"source\": \"news\"},\n",
    "# )\n",
    "\n",
    "# document_5 = Document(\n",
    "#     page_content=\"Wow! That was an amazing movie. I can't wait to see it again.\",\n",
    "#     metadata={\"source\": \"tweet\"},\n",
    "# )\n",
    "\n",
    "# document_6 = Document(\n",
    "#     page_content=\"Is the new iPhone worth the price? Read this review to find out.\",\n",
    "#     metadata={\"source\": \"website\"},\n",
    "# )\n",
    "\n",
    "# document_7 = Document(\n",
    "#     page_content=\"The top 10 soccer players in the world right now.\",\n",
    "#     metadata={\"source\": \"website\"},\n",
    "# )\n",
    "\n",
    "# document_8 = Document(\n",
    "#     page_content=\"LangGraph is the best framework for building stateful, agentic applications!\",\n",
    "#     metadata={\"source\": \"tweet\"},\n",
    "# )\n",
    "\n",
    "# document_9 = Document(\n",
    "#     page_content=\"The stock market is down 500 points today due to fears of a recession.\",\n",
    "#     metadata={\"source\": \"news\"},\n",
    "# )\n",
    "\n",
    "# document_10 = Document(\n",
    "#     page_content=\"I have a bad feeling I am going to get deleted :(\",\n",
    "#     metadata={\"source\": \"tweet\"},\n",
    "# )\n",
    "\n",
    "# documents = [\n",
    "#     document_1,\n",
    "#     document_2,\n",
    "#     document_3,\n",
    "#     document_4,\n",
    "#     document_5,\n",
    "#     document_6,\n",
    "#     document_7,\n",
    "#     document_8,\n",
    "#     document_9,\n",
    "#     document_10,\n",
    "# ]\n",
    "# uuids = [str(uuid4()) for _ in range(len(documents))]\n",
    "\n",
    "# vector_store.add_documents(documents=documents, ids=uuids)"
   ]
  },
  {
   "cell_type": "code",
   "execution_count": 69,
   "metadata": {},
   "outputs": [
    {
     "name": "stdout",
     "output_type": "stream",
     "text": [
      "Loaded 3 documents from 'data'.\n",
      "Generated Document IDs and their corresponding texts:\n",
      "ID: 3bde953d-119a-4cb1-8123-e90f58fc65f1, Source: Document.pdf, Text: Documentation on Talk to your ...\n",
      "ID: 5914d084-7bbc-451e-898d-036d635846aa, Source: Clients Module ✓.docx, Text: support@vitafyhealth.com | 1-8...\n",
      "ID: f5d01dc8-fcec-4c97-8e0a-53b0a0bce0db, Source: Retrieval Augmented Generation (RAG) for Everyone.docx, Text: Retrieval Augmented Generation...\n",
      "Documents added to Pinecone successfully!\n"
     ]
    }
   ],
   "source": [
    "import os\n",
    "from uuid import uuid4\n",
    "from langchain_core.documents import Document\n",
    "from langchain.document_loaders import DirectoryLoader\n",
    "from langchain.vectorstores import Pinecone  # Adjust according to your vector store setup\n",
    "\n",
    "\n",
    "import time\n",
    "\n",
    "index_name = \"test-2\"  # change if desired\n",
    "\n",
    "existing_indexes = [index_info[\"name\"] for index_info in pc.list_indexes()]\n",
    "\n",
    "if index_name not in existing_indexes:\n",
    "    pc.create_index(\n",
    "        name=index_name,\n",
    "        dimension=3072,\n",
    "        metric=\"cosine\",\n",
    "        spec=ServerlessSpec(cloud=\"aws\", region=\"us-east-1\"),\n",
    "    )\n",
    "    while not pc.describe_index(index_name).status[\"ready\"]:\n",
    "        time.sleep(1)\n",
    "\n",
    "index = pc.Index(index_name)\n",
    "\n",
    "# Directory containing your documents (e.g., text files, PDFs)\n",
    "directory = 'data'\n",
    "\n",
    "# Function to load documents from the specified directory\n",
    "def load_docs(directory):\n",
    "    loader = DirectoryLoader(directory)\n",
    "    docs = loader.load()\n",
    "    return docs\n",
    "\n",
    "# Load documents from the directory\n",
    "docs = load_docs(directory)\n",
    "print(f\"Loaded {len(docs)} documents from '{directory}'.\")\n",
    "\n",
    "# Prepare texts and metadata for each document\n",
    "texts = [doc.page_content for doc in docs]  # Assuming docs have a page_content attribute\n",
    "metadata = [{\"source\": os.path.basename(doc.metadata['source']), \"text\": doc.page_content} for doc in docs]\n",
    "\n",
    "# Generate unique IDs for each document using uuid4()\n",
    "ids = [str(uuid4()) for _ in range(len(texts))]\n",
    "\n",
    "# Print generated IDs along with document content and metadata\n",
    "print(\"Generated Document IDs and their corresponding texts:\")\n",
    "for doc_id, text, meta in zip(ids, texts, metadata):\n",
    "    print(f\"ID: {doc_id}, Source: {meta['source']}, Text: {text[:30]}...\")  # Print first 30 characters of text\n",
    "\n",
    "# Initialize your vector store (e.g., Pinecone)\n",
    "vector_store = Pinecone(index=index, embedding=embeddings, text_key=text)\n",
    "\n",
    "# Add texts to Pinecone with generated IDs and metadata\n",
    "#vector_store.add_documents(documents=texts, ids=ids, metadatas=metadata)\n",
    "\n",
    "print(\"Documents added to Pinecone successfully!\")"
   ]
  },
  {
   "cell_type": "code",
   "execution_count": null,
   "metadata": {},
   "outputs": [],
   "source": []
  },
  {
   "cell_type": "code",
   "execution_count": null,
   "metadata": {},
   "outputs": [],
   "source": [
    "# Example: Deleting a vector from Pinecone using its ID\n",
    "#vector_store.index.delete(ids=['5b85a555-54c1-4a32-b15f-a0c81a8709b8'])"
   ]
  },
  {
   "cell_type": "markdown",
   "metadata": {},
   "source": [
    "## OpenAI Embeddings Model (Dense Vectors)"
   ]
  },
  {
   "cell_type": "code",
   "execution_count": 13,
   "metadata": {},
   "outputs": [
    {
     "data": {
      "text/plain": [
       "OpenAIEmbeddings(client=<openai.resources.embeddings.Embeddings object at 0x326e2c6b0>, async_client=<openai.resources.embeddings.AsyncEmbeddings object at 0x326df8cb0>, model='text-embedding-ada-002', dimensions=None, deployment='text-embedding-ada-002', openai_api_version=None, openai_api_base=None, openai_api_type=None, openai_proxy=None, embedding_ctx_length=8191, openai_api_key=SecretStr('**********'), openai_organization=None, allowed_special=None, disallowed_special=None, chunk_size=1000, max_retries=2, request_timeout=None, headers=None, tiktoken_enabled=True, tiktoken_model_name=None, show_progress_bar=False, model_kwargs={}, skip_empty=False, default_headers=None, default_query=None, retry_min_seconds=4, retry_max_seconds=20, http_client=None, http_async_client=None, check_embedding_ctx_length=True)"
      ]
     },
     "execution_count": 13,
     "metadata": {},
     "output_type": "execute_result"
    }
   ],
   "source": [
    "os.environ[\"HUGGINGFACEHUB_API_TOKEN\"]=\"HUGGINGFACEHUB_API_TOKEN\"\n",
    "embeddings = OpenAIEmbeddings(\n",
    "    model=\"text-embedding-ada-002\",  #response time is 9s  #infloat/e5-base-V2 has 3.53sec response time.\n",
    ")\n",
    "embeddings"
   ]
  },
  {
   "cell_type": "markdown",
   "metadata": {},
   "source": [
    "## Pinecone Langchain Store"
   ]
  },
  {
   "cell_type": "code",
   "execution_count": 48,
   "metadata": {},
   "outputs": [],
   "source": [
    "#pc.list_indexes()\n"
   ]
  },
  {
   "cell_type": "markdown",
   "metadata": {},
   "source": [
    "## Upload & Genereate Docs Vector ID"
   ]
  },
  {
   "cell_type": "code",
   "execution_count": 49,
   "metadata": {},
   "outputs": [
    {
     "ename": "ForbiddenException",
     "evalue": "(403)\nReason: Forbidden\nHTTP response headers: HTTPHeaderDict({'Date': 'Thu, 19 Sep 2024 04:55:23 GMT', 'Content-Type': 'text/plain', 'Content-Length': '9', 'Connection': 'keep-alive', 'x-pinecone-auth-rejected-reason': 'Wrong API key', 'www-authenticate': 'Wrong API key', 'server': 'envoy'})\nHTTP response body: Forbidden\n",
     "output_type": "error",
     "traceback": [
      "\u001b[0;31m---------------------------------------------------------------------------\u001b[0m",
      "\u001b[0;31mForbiddenException\u001b[0m                        Traceback (most recent call last)",
      "Cell \u001b[0;32mIn[49], line 40\u001b[0m\n\u001b[1;32m     38\u001b[0m     batch \u001b[38;5;241m=\u001b[39m upsert_data[i:i \u001b[38;5;241m+\u001b[39m batch_size]\n\u001b[1;32m     39\u001b[0m     \u001b[38;5;66;03m# Upsert the batch to Pinecone\u001b[39;00m\n\u001b[0;32m---> 40\u001b[0m     \u001b[43mindex\u001b[49m\u001b[38;5;241;43m.\u001b[39;49m\u001b[43mupsert\u001b[49m\u001b[43m(\u001b[49m\u001b[43mvectors\u001b[49m\u001b[38;5;241;43m=\u001b[39;49m\u001b[43mbatch\u001b[49m\u001b[43m)\u001b[49m\n\u001b[1;32m     41\u001b[0m     \u001b[38;5;28mprint\u001b[39m(\u001b[38;5;124mf\u001b[39m\u001b[38;5;124m\"\u001b[39m\u001b[38;5;124mUpserted batch \u001b[39m\u001b[38;5;132;01m{\u001b[39;00mi\u001b[38;5;250m \u001b[39m\u001b[38;5;241m/\u001b[39m\u001b[38;5;241m/\u001b[39m\u001b[38;5;250m \u001b[39mbatch_size\u001b[38;5;250m \u001b[39m\u001b[38;5;241m+\u001b[39m\u001b[38;5;250m \u001b[39m\u001b[38;5;241m1\u001b[39m\u001b[38;5;132;01m}\u001b[39;00m\u001b[38;5;124m of \u001b[39m\u001b[38;5;132;01m{\u001b[39;00m\u001b[38;5;28mlen\u001b[39m(upsert_data)\u001b[38;5;250m \u001b[39m\u001b[38;5;241m/\u001b[39m\u001b[38;5;241m/\u001b[39m\u001b[38;5;250m \u001b[39mbatch_size\u001b[38;5;250m \u001b[39m\u001b[38;5;241m+\u001b[39m\u001b[38;5;250m \u001b[39m\u001b[38;5;241m1\u001b[39m\u001b[38;5;132;01m}\u001b[39;00m\u001b[38;5;124m\"\u001b[39m)\n\u001b[1;32m     43\u001b[0m \u001b[38;5;28mprint\u001b[39m(\u001b[38;5;124mf\u001b[39m\u001b[38;5;124m\"\u001b[39m\u001b[38;5;124mUpserted all \u001b[39m\u001b[38;5;132;01m{\u001b[39;00m\u001b[38;5;28mlen\u001b[39m(upsert_data)\u001b[38;5;132;01m}\u001b[39;00m\u001b[38;5;124m documents into Pinecone index \u001b[39m\u001b[38;5;124m'\u001b[39m\u001b[38;5;132;01m{\u001b[39;00mindex_name\u001b[38;5;132;01m}\u001b[39;00m\u001b[38;5;124m'\u001b[39m\u001b[38;5;124m.\u001b[39m\u001b[38;5;124m\"\u001b[39m)\n",
      "File \u001b[0;32m~/.pyenv/versions/3.12.3/lib/python3.12/site-packages/pinecone/utils/error_handling.py:11\u001b[0m, in \u001b[0;36mvalidate_and_convert_errors.<locals>.inner_func\u001b[0;34m(*args, **kwargs)\u001b[0m\n\u001b[1;32m      8\u001b[0m \u001b[38;5;129m@wraps\u001b[39m(func)\n\u001b[1;32m      9\u001b[0m \u001b[38;5;28;01mdef\u001b[39;00m \u001b[38;5;21minner_func\u001b[39m(\u001b[38;5;241m*\u001b[39margs, \u001b[38;5;241m*\u001b[39m\u001b[38;5;241m*\u001b[39mkwargs):\n\u001b[1;32m     10\u001b[0m     \u001b[38;5;28;01mtry\u001b[39;00m:\n\u001b[0;32m---> 11\u001b[0m         \u001b[38;5;28;01mreturn\u001b[39;00m \u001b[43mfunc\u001b[49m\u001b[43m(\u001b[49m\u001b[38;5;241;43m*\u001b[39;49m\u001b[43margs\u001b[49m\u001b[43m,\u001b[49m\u001b[43m \u001b[49m\u001b[38;5;241;43m*\u001b[39;49m\u001b[38;5;241;43m*\u001b[39;49m\u001b[43mkwargs\u001b[49m\u001b[43m)\u001b[49m\n\u001b[1;32m     12\u001b[0m     \u001b[38;5;28;01mexcept\u001b[39;00m MaxRetryError \u001b[38;5;28;01mas\u001b[39;00m e:\n\u001b[1;32m     13\u001b[0m         \u001b[38;5;28;01mif\u001b[39;00m \u001b[38;5;28misinstance\u001b[39m(e\u001b[38;5;241m.\u001b[39mreason, ProtocolError):\n",
      "File \u001b[0;32m~/.pyenv/versions/3.12.3/lib/python3.12/site-packages/pinecone/data/index.py:187\u001b[0m, in \u001b[0;36mIndex.upsert\u001b[0;34m(self, vectors, namespace, batch_size, show_progress, **kwargs)\u001b[0m\n\u001b[1;32m    180\u001b[0m     \u001b[38;5;28;01mraise\u001b[39;00m \u001b[38;5;167;01mValueError\u001b[39;00m(\n\u001b[1;32m    181\u001b[0m         \u001b[38;5;124m\"\u001b[39m\u001b[38;5;124masync_req is not supported when batch_size is provided.\u001b[39m\u001b[38;5;124m\"\u001b[39m\n\u001b[1;32m    182\u001b[0m         \u001b[38;5;124m\"\u001b[39m\u001b[38;5;124mTo upsert in parallel, please follow: \u001b[39m\u001b[38;5;124m\"\u001b[39m\n\u001b[1;32m    183\u001b[0m         \u001b[38;5;124m\"\u001b[39m\u001b[38;5;124mhttps://docs.pinecone.io/docs/insert-data#sending-upserts-in-parallel\u001b[39m\u001b[38;5;124m\"\u001b[39m\n\u001b[1;32m    184\u001b[0m     )\n\u001b[1;32m    186\u001b[0m \u001b[38;5;28;01mif\u001b[39;00m batch_size \u001b[38;5;129;01mis\u001b[39;00m \u001b[38;5;28;01mNone\u001b[39;00m:\n\u001b[0;32m--> 187\u001b[0m     \u001b[38;5;28;01mreturn\u001b[39;00m \u001b[38;5;28;43mself\u001b[39;49m\u001b[38;5;241;43m.\u001b[39;49m\u001b[43m_upsert_batch\u001b[49m\u001b[43m(\u001b[49m\u001b[43mvectors\u001b[49m\u001b[43m,\u001b[49m\u001b[43m \u001b[49m\u001b[43mnamespace\u001b[49m\u001b[43m,\u001b[49m\u001b[43m \u001b[49m\u001b[43m_check_type\u001b[49m\u001b[43m,\u001b[49m\u001b[43m \u001b[49m\u001b[38;5;241;43m*\u001b[39;49m\u001b[38;5;241;43m*\u001b[39;49m\u001b[43mkwargs\u001b[49m\u001b[43m)\u001b[49m\n\u001b[1;32m    189\u001b[0m \u001b[38;5;28;01mif\u001b[39;00m \u001b[38;5;129;01mnot\u001b[39;00m \u001b[38;5;28misinstance\u001b[39m(batch_size, \u001b[38;5;28mint\u001b[39m) \u001b[38;5;129;01mor\u001b[39;00m batch_size \u001b[38;5;241m<\u001b[39m\u001b[38;5;241m=\u001b[39m \u001b[38;5;241m0\u001b[39m:\n\u001b[1;32m    190\u001b[0m     \u001b[38;5;28;01mraise\u001b[39;00m \u001b[38;5;167;01mValueError\u001b[39;00m(\u001b[38;5;124m\"\u001b[39m\u001b[38;5;124mbatch_size must be a positive integer\u001b[39m\u001b[38;5;124m\"\u001b[39m)\n",
      "File \u001b[0;32m~/.pyenv/versions/3.12.3/lib/python3.12/site-packages/pinecone/data/index.py:216\u001b[0m, in \u001b[0;36mIndex._upsert_batch\u001b[0;34m(self, vectors, namespace, _check_type, **kwargs)\u001b[0m\n\u001b[1;32m    213\u001b[0m args_dict \u001b[38;5;241m=\u001b[39m parse_non_empty_args([(\u001b[38;5;124m\"\u001b[39m\u001b[38;5;124mnamespace\u001b[39m\u001b[38;5;124m\"\u001b[39m, namespace)])\n\u001b[1;32m    214\u001b[0m vec_builder \u001b[38;5;241m=\u001b[39m \u001b[38;5;28;01mlambda\u001b[39;00m v: VectorFactory\u001b[38;5;241m.\u001b[39mbuild(v, check_type\u001b[38;5;241m=\u001b[39m_check_type)\n\u001b[0;32m--> 216\u001b[0m \u001b[38;5;28;01mreturn\u001b[39;00m \u001b[38;5;28;43mself\u001b[39;49m\u001b[38;5;241;43m.\u001b[39;49m\u001b[43m_vector_api\u001b[49m\u001b[38;5;241;43m.\u001b[39;49m\u001b[43mupsert\u001b[49m\u001b[43m(\u001b[49m\n\u001b[1;32m    217\u001b[0m \u001b[43m    \u001b[49m\u001b[43mUpsertRequest\u001b[49m\u001b[43m(\u001b[49m\n\u001b[1;32m    218\u001b[0m \u001b[43m        \u001b[49m\u001b[43mvectors\u001b[49m\u001b[38;5;241;43m=\u001b[39;49m\u001b[38;5;28;43mlist\u001b[39;49m\u001b[43m(\u001b[49m\u001b[38;5;28;43mmap\u001b[39;49m\u001b[43m(\u001b[49m\u001b[43mvec_builder\u001b[49m\u001b[43m,\u001b[49m\u001b[43m \u001b[49m\u001b[43mvectors\u001b[49m\u001b[43m)\u001b[49m\u001b[43m)\u001b[49m\u001b[43m,\u001b[49m\n\u001b[1;32m    219\u001b[0m \u001b[43m        \u001b[49m\u001b[38;5;241;43m*\u001b[39;49m\u001b[38;5;241;43m*\u001b[39;49m\u001b[43margs_dict\u001b[49m\u001b[43m,\u001b[49m\n\u001b[1;32m    220\u001b[0m \u001b[43m        \u001b[49m\u001b[43m_check_type\u001b[49m\u001b[38;5;241;43m=\u001b[39;49m\u001b[43m_check_type\u001b[49m\u001b[43m,\u001b[49m\n\u001b[1;32m    221\u001b[0m \u001b[43m        \u001b[49m\u001b[38;5;241;43m*\u001b[39;49m\u001b[38;5;241;43m*\u001b[39;49m\u001b[43m{\u001b[49m\u001b[43mk\u001b[49m\u001b[43m:\u001b[49m\u001b[43m \u001b[49m\u001b[43mv\u001b[49m\u001b[43m \u001b[49m\u001b[38;5;28;43;01mfor\u001b[39;49;00m\u001b[43m \u001b[49m\u001b[43mk\u001b[49m\u001b[43m,\u001b[49m\u001b[43m \u001b[49m\u001b[43mv\u001b[49m\u001b[43m \u001b[49m\u001b[38;5;129;43;01min\u001b[39;49;00m\u001b[43m \u001b[49m\u001b[43mkwargs\u001b[49m\u001b[38;5;241;43m.\u001b[39;49m\u001b[43mitems\u001b[49m\u001b[43m(\u001b[49m\u001b[43m)\u001b[49m\u001b[43m \u001b[49m\u001b[38;5;28;43;01mif\u001b[39;49;00m\u001b[43m \u001b[49m\u001b[43mk\u001b[49m\u001b[43m \u001b[49m\u001b[38;5;129;43;01mnot\u001b[39;49;00m\u001b[43m \u001b[49m\u001b[38;5;129;43;01min\u001b[39;49;00m\u001b[43m \u001b[49m\u001b[43m_OPENAPI_ENDPOINT_PARAMS\u001b[49m\u001b[43m}\u001b[49m\u001b[43m,\u001b[49m\n\u001b[1;32m    222\u001b[0m \u001b[43m    \u001b[49m\u001b[43m)\u001b[49m\u001b[43m,\u001b[49m\n\u001b[1;32m    223\u001b[0m \u001b[43m    \u001b[49m\u001b[38;5;241;43m*\u001b[39;49m\u001b[38;5;241;43m*\u001b[39;49m\u001b[43m{\u001b[49m\u001b[43mk\u001b[49m\u001b[43m:\u001b[49m\u001b[43m \u001b[49m\u001b[43mv\u001b[49m\u001b[43m \u001b[49m\u001b[38;5;28;43;01mfor\u001b[39;49;00m\u001b[43m \u001b[49m\u001b[43mk\u001b[49m\u001b[43m,\u001b[49m\u001b[43m \u001b[49m\u001b[43mv\u001b[49m\u001b[43m \u001b[49m\u001b[38;5;129;43;01min\u001b[39;49;00m\u001b[43m \u001b[49m\u001b[43mkwargs\u001b[49m\u001b[38;5;241;43m.\u001b[39;49m\u001b[43mitems\u001b[49m\u001b[43m(\u001b[49m\u001b[43m)\u001b[49m\u001b[43m \u001b[49m\u001b[38;5;28;43;01mif\u001b[39;49;00m\u001b[43m \u001b[49m\u001b[43mk\u001b[49m\u001b[43m \u001b[49m\u001b[38;5;129;43;01min\u001b[39;49;00m\u001b[43m \u001b[49m\u001b[43m_OPENAPI_ENDPOINT_PARAMS\u001b[49m\u001b[43m}\u001b[49m\u001b[43m,\u001b[49m\n\u001b[1;32m    224\u001b[0m \u001b[43m\u001b[49m\u001b[43m)\u001b[49m\n",
      "File \u001b[0;32m~/.pyenv/versions/3.12.3/lib/python3.12/site-packages/pinecone/core/openapi/shared/api_client.py:761\u001b[0m, in \u001b[0;36mEndpoint.__call__\u001b[0;34m(self, *args, **kwargs)\u001b[0m\n\u001b[1;32m    750\u001b[0m \u001b[38;5;28;01mdef\u001b[39;00m \u001b[38;5;21m__call__\u001b[39m(\u001b[38;5;28mself\u001b[39m, \u001b[38;5;241m*\u001b[39margs, \u001b[38;5;241m*\u001b[39m\u001b[38;5;241m*\u001b[39mkwargs):\n\u001b[1;32m    751\u001b[0m \u001b[38;5;250m    \u001b[39m\u001b[38;5;124;03m\"\"\"This method is invoked when endpoints are called\u001b[39;00m\n\u001b[1;32m    752\u001b[0m \u001b[38;5;124;03m    Example:\u001b[39;00m\n\u001b[1;32m    753\u001b[0m \n\u001b[0;32m   (...)\u001b[0m\n\u001b[1;32m    759\u001b[0m \n\u001b[1;32m    760\u001b[0m \u001b[38;5;124;03m    \"\"\"\u001b[39;00m\n\u001b[0;32m--> 761\u001b[0m     \u001b[38;5;28;01mreturn\u001b[39;00m \u001b[38;5;28;43mself\u001b[39;49m\u001b[38;5;241;43m.\u001b[39;49m\u001b[43mcallable\u001b[49m\u001b[43m(\u001b[49m\u001b[38;5;28;43mself\u001b[39;49m\u001b[43m,\u001b[49m\u001b[43m \u001b[49m\u001b[38;5;241;43m*\u001b[39;49m\u001b[43margs\u001b[49m\u001b[43m,\u001b[49m\u001b[43m \u001b[49m\u001b[38;5;241;43m*\u001b[39;49m\u001b[38;5;241;43m*\u001b[39;49m\u001b[43mkwargs\u001b[49m\u001b[43m)\u001b[49m\n",
      "File \u001b[0;32m~/.pyenv/versions/3.12.3/lib/python3.12/site-packages/pinecone/core/openapi/data/api/data_plane_api.py:811\u001b[0m, in \u001b[0;36mDataPlaneApi.__init__.<locals>.__upsert\u001b[0;34m(self, upsert_request, **kwargs)\u001b[0m\n\u001b[1;32m    809\u001b[0m kwargs[\u001b[38;5;124m\"\u001b[39m\u001b[38;5;124m_host_index\u001b[39m\u001b[38;5;124m\"\u001b[39m] \u001b[38;5;241m=\u001b[39m kwargs\u001b[38;5;241m.\u001b[39mget(\u001b[38;5;124m\"\u001b[39m\u001b[38;5;124m_host_index\u001b[39m\u001b[38;5;124m\"\u001b[39m)\n\u001b[1;32m    810\u001b[0m kwargs[\u001b[38;5;124m\"\u001b[39m\u001b[38;5;124mupsert_request\u001b[39m\u001b[38;5;124m\"\u001b[39m] \u001b[38;5;241m=\u001b[39m upsert_request\n\u001b[0;32m--> 811\u001b[0m \u001b[38;5;28;01mreturn\u001b[39;00m \u001b[38;5;28;43mself\u001b[39;49m\u001b[38;5;241;43m.\u001b[39;49m\u001b[43mcall_with_http_info\u001b[49m\u001b[43m(\u001b[49m\u001b[38;5;241;43m*\u001b[39;49m\u001b[38;5;241;43m*\u001b[39;49m\u001b[43mkwargs\u001b[49m\u001b[43m)\u001b[49m\n",
      "File \u001b[0;32m~/.pyenv/versions/3.12.3/lib/python3.12/site-packages/pinecone/core/openapi/shared/api_client.py:819\u001b[0m, in \u001b[0;36mEndpoint.call_with_http_info\u001b[0;34m(self, **kwargs)\u001b[0m\n\u001b[1;32m    816\u001b[0m     header_list \u001b[38;5;241m=\u001b[39m \u001b[38;5;28mself\u001b[39m\u001b[38;5;241m.\u001b[39mapi_client\u001b[38;5;241m.\u001b[39mselect_header_content_type(content_type_headers_list)\n\u001b[1;32m    817\u001b[0m     params[\u001b[38;5;124m\"\u001b[39m\u001b[38;5;124mheader\u001b[39m\u001b[38;5;124m\"\u001b[39m][\u001b[38;5;124m\"\u001b[39m\u001b[38;5;124mContent-Type\u001b[39m\u001b[38;5;124m\"\u001b[39m] \u001b[38;5;241m=\u001b[39m header_list\n\u001b[0;32m--> 819\u001b[0m \u001b[38;5;28;01mreturn\u001b[39;00m \u001b[38;5;28;43mself\u001b[39;49m\u001b[38;5;241;43m.\u001b[39;49m\u001b[43mapi_client\u001b[49m\u001b[38;5;241;43m.\u001b[39;49m\u001b[43mcall_api\u001b[49m\u001b[43m(\u001b[49m\n\u001b[1;32m    820\u001b[0m \u001b[43m    \u001b[49m\u001b[38;5;28;43mself\u001b[39;49m\u001b[38;5;241;43m.\u001b[39;49m\u001b[43msettings\u001b[49m\u001b[43m[\u001b[49m\u001b[38;5;124;43m\"\u001b[39;49m\u001b[38;5;124;43mendpoint_path\u001b[39;49m\u001b[38;5;124;43m\"\u001b[39;49m\u001b[43m]\u001b[49m\u001b[43m,\u001b[49m\n\u001b[1;32m    821\u001b[0m \u001b[43m    \u001b[49m\u001b[38;5;28;43mself\u001b[39;49m\u001b[38;5;241;43m.\u001b[39;49m\u001b[43msettings\u001b[49m\u001b[43m[\u001b[49m\u001b[38;5;124;43m\"\u001b[39;49m\u001b[38;5;124;43mhttp_method\u001b[39;49m\u001b[38;5;124;43m\"\u001b[39;49m\u001b[43m]\u001b[49m\u001b[43m,\u001b[49m\n\u001b[1;32m    822\u001b[0m \u001b[43m    \u001b[49m\u001b[43mparams\u001b[49m\u001b[43m[\u001b[49m\u001b[38;5;124;43m\"\u001b[39;49m\u001b[38;5;124;43mpath\u001b[39;49m\u001b[38;5;124;43m\"\u001b[39;49m\u001b[43m]\u001b[49m\u001b[43m,\u001b[49m\n\u001b[1;32m    823\u001b[0m \u001b[43m    \u001b[49m\u001b[43mparams\u001b[49m\u001b[43m[\u001b[49m\u001b[38;5;124;43m\"\u001b[39;49m\u001b[38;5;124;43mquery\u001b[39;49m\u001b[38;5;124;43m\"\u001b[39;49m\u001b[43m]\u001b[49m\u001b[43m,\u001b[49m\n\u001b[1;32m    824\u001b[0m \u001b[43m    \u001b[49m\u001b[43mparams\u001b[49m\u001b[43m[\u001b[49m\u001b[38;5;124;43m\"\u001b[39;49m\u001b[38;5;124;43mheader\u001b[39;49m\u001b[38;5;124;43m\"\u001b[39;49m\u001b[43m]\u001b[49m\u001b[43m,\u001b[49m\n\u001b[1;32m    825\u001b[0m \u001b[43m    \u001b[49m\u001b[43mbody\u001b[49m\u001b[38;5;241;43m=\u001b[39;49m\u001b[43mparams\u001b[49m\u001b[43m[\u001b[49m\u001b[38;5;124;43m\"\u001b[39;49m\u001b[38;5;124;43mbody\u001b[39;49m\u001b[38;5;124;43m\"\u001b[39;49m\u001b[43m]\u001b[49m\u001b[43m,\u001b[49m\n\u001b[1;32m    826\u001b[0m \u001b[43m    \u001b[49m\u001b[43mpost_params\u001b[49m\u001b[38;5;241;43m=\u001b[39;49m\u001b[43mparams\u001b[49m\u001b[43m[\u001b[49m\u001b[38;5;124;43m\"\u001b[39;49m\u001b[38;5;124;43mform\u001b[39;49m\u001b[38;5;124;43m\"\u001b[39;49m\u001b[43m]\u001b[49m\u001b[43m,\u001b[49m\n\u001b[1;32m    827\u001b[0m \u001b[43m    \u001b[49m\u001b[43mfiles\u001b[49m\u001b[38;5;241;43m=\u001b[39;49m\u001b[43mparams\u001b[49m\u001b[43m[\u001b[49m\u001b[38;5;124;43m\"\u001b[39;49m\u001b[38;5;124;43mfile\u001b[39;49m\u001b[38;5;124;43m\"\u001b[39;49m\u001b[43m]\u001b[49m\u001b[43m,\u001b[49m\n\u001b[1;32m    828\u001b[0m \u001b[43m    \u001b[49m\u001b[43mresponse_type\u001b[49m\u001b[38;5;241;43m=\u001b[39;49m\u001b[38;5;28;43mself\u001b[39;49m\u001b[38;5;241;43m.\u001b[39;49m\u001b[43msettings\u001b[49m\u001b[43m[\u001b[49m\u001b[38;5;124;43m\"\u001b[39;49m\u001b[38;5;124;43mresponse_type\u001b[39;49m\u001b[38;5;124;43m\"\u001b[39;49m\u001b[43m]\u001b[49m\u001b[43m,\u001b[49m\n\u001b[1;32m    829\u001b[0m \u001b[43m    \u001b[49m\u001b[43mauth_settings\u001b[49m\u001b[38;5;241;43m=\u001b[39;49m\u001b[38;5;28;43mself\u001b[39;49m\u001b[38;5;241;43m.\u001b[39;49m\u001b[43msettings\u001b[49m\u001b[43m[\u001b[49m\u001b[38;5;124;43m\"\u001b[39;49m\u001b[38;5;124;43mauth\u001b[39;49m\u001b[38;5;124;43m\"\u001b[39;49m\u001b[43m]\u001b[49m\u001b[43m,\u001b[49m\n\u001b[1;32m    830\u001b[0m \u001b[43m    \u001b[49m\u001b[43masync_req\u001b[49m\u001b[38;5;241;43m=\u001b[39;49m\u001b[43mkwargs\u001b[49m\u001b[43m[\u001b[49m\u001b[38;5;124;43m\"\u001b[39;49m\u001b[38;5;124;43masync_req\u001b[39;49m\u001b[38;5;124;43m\"\u001b[39;49m\u001b[43m]\u001b[49m\u001b[43m,\u001b[49m\n\u001b[1;32m    831\u001b[0m \u001b[43m    \u001b[49m\u001b[43m_check_type\u001b[49m\u001b[38;5;241;43m=\u001b[39;49m\u001b[43mkwargs\u001b[49m\u001b[43m[\u001b[49m\u001b[38;5;124;43m\"\u001b[39;49m\u001b[38;5;124;43m_check_return_type\u001b[39;49m\u001b[38;5;124;43m\"\u001b[39;49m\u001b[43m]\u001b[49m\u001b[43m,\u001b[49m\n\u001b[1;32m    832\u001b[0m \u001b[43m    \u001b[49m\u001b[43m_return_http_data_only\u001b[49m\u001b[38;5;241;43m=\u001b[39;49m\u001b[43mkwargs\u001b[49m\u001b[43m[\u001b[49m\u001b[38;5;124;43m\"\u001b[39;49m\u001b[38;5;124;43m_return_http_data_only\u001b[39;49m\u001b[38;5;124;43m\"\u001b[39;49m\u001b[43m]\u001b[49m\u001b[43m,\u001b[49m\n\u001b[1;32m    833\u001b[0m \u001b[43m    \u001b[49m\u001b[43m_preload_content\u001b[49m\u001b[38;5;241;43m=\u001b[39;49m\u001b[43mkwargs\u001b[49m\u001b[43m[\u001b[49m\u001b[38;5;124;43m\"\u001b[39;49m\u001b[38;5;124;43m_preload_content\u001b[39;49m\u001b[38;5;124;43m\"\u001b[39;49m\u001b[43m]\u001b[49m\u001b[43m,\u001b[49m\n\u001b[1;32m    834\u001b[0m \u001b[43m    \u001b[49m\u001b[43m_request_timeout\u001b[49m\u001b[38;5;241;43m=\u001b[39;49m\u001b[43mkwargs\u001b[49m\u001b[43m[\u001b[49m\u001b[38;5;124;43m\"\u001b[39;49m\u001b[38;5;124;43m_request_timeout\u001b[39;49m\u001b[38;5;124;43m\"\u001b[39;49m\u001b[43m]\u001b[49m\u001b[43m,\u001b[49m\n\u001b[1;32m    835\u001b[0m \u001b[43m    \u001b[49m\u001b[43m_host\u001b[49m\u001b[38;5;241;43m=\u001b[39;49m\u001b[43m_host\u001b[49m\u001b[43m,\u001b[49m\n\u001b[1;32m    836\u001b[0m \u001b[43m    \u001b[49m\u001b[43mcollection_formats\u001b[49m\u001b[38;5;241;43m=\u001b[39;49m\u001b[43mparams\u001b[49m\u001b[43m[\u001b[49m\u001b[38;5;124;43m\"\u001b[39;49m\u001b[38;5;124;43mcollection_format\u001b[39;49m\u001b[38;5;124;43m\"\u001b[39;49m\u001b[43m]\u001b[49m\u001b[43m,\u001b[49m\n\u001b[1;32m    837\u001b[0m \u001b[43m\u001b[49m\u001b[43m)\u001b[49m\n",
      "File \u001b[0;32m~/.pyenv/versions/3.12.3/lib/python3.12/site-packages/pinecone/core/openapi/shared/api_client.py:380\u001b[0m, in \u001b[0;36mApiClient.call_api\u001b[0;34m(self, resource_path, method, path_params, query_params, header_params, body, post_params, files, response_type, auth_settings, async_req, _return_http_data_only, collection_formats, _preload_content, _request_timeout, _host, _check_type)\u001b[0m\n\u001b[1;32m    326\u001b[0m \u001b[38;5;250m\u001b[39m\u001b[38;5;124;03m\"\"\"Makes the HTTP request (synchronous) and returns deserialized data.\u001b[39;00m\n\u001b[1;32m    327\u001b[0m \n\u001b[1;32m    328\u001b[0m \u001b[38;5;124;03mTo make an async_req request, set the async_req parameter.\u001b[39;00m\n\u001b[0;32m   (...)\u001b[0m\n\u001b[1;32m    377\u001b[0m \u001b[38;5;124;03m    then the method will return the response directly.\u001b[39;00m\n\u001b[1;32m    378\u001b[0m \u001b[38;5;124;03m\"\"\"\u001b[39;00m\n\u001b[1;32m    379\u001b[0m \u001b[38;5;28;01mif\u001b[39;00m \u001b[38;5;129;01mnot\u001b[39;00m async_req:\n\u001b[0;32m--> 380\u001b[0m     \u001b[38;5;28;01mreturn\u001b[39;00m \u001b[38;5;28;43mself\u001b[39;49m\u001b[38;5;241;43m.\u001b[39;49m\u001b[43m__call_api\u001b[49m\u001b[43m(\u001b[49m\n\u001b[1;32m    381\u001b[0m \u001b[43m        \u001b[49m\u001b[43mresource_path\u001b[49m\u001b[43m,\u001b[49m\n\u001b[1;32m    382\u001b[0m \u001b[43m        \u001b[49m\u001b[43mmethod\u001b[49m\u001b[43m,\u001b[49m\n\u001b[1;32m    383\u001b[0m \u001b[43m        \u001b[49m\u001b[43mpath_params\u001b[49m\u001b[43m,\u001b[49m\n\u001b[1;32m    384\u001b[0m \u001b[43m        \u001b[49m\u001b[43mquery_params\u001b[49m\u001b[43m,\u001b[49m\n\u001b[1;32m    385\u001b[0m \u001b[43m        \u001b[49m\u001b[43mheader_params\u001b[49m\u001b[43m,\u001b[49m\n\u001b[1;32m    386\u001b[0m \u001b[43m        \u001b[49m\u001b[43mbody\u001b[49m\u001b[43m,\u001b[49m\n\u001b[1;32m    387\u001b[0m \u001b[43m        \u001b[49m\u001b[43mpost_params\u001b[49m\u001b[43m,\u001b[49m\n\u001b[1;32m    388\u001b[0m \u001b[43m        \u001b[49m\u001b[43mfiles\u001b[49m\u001b[43m,\u001b[49m\n\u001b[1;32m    389\u001b[0m \u001b[43m        \u001b[49m\u001b[43mresponse_type\u001b[49m\u001b[43m,\u001b[49m\n\u001b[1;32m    390\u001b[0m \u001b[43m        \u001b[49m\u001b[43mauth_settings\u001b[49m\u001b[43m,\u001b[49m\n\u001b[1;32m    391\u001b[0m \u001b[43m        \u001b[49m\u001b[43m_return_http_data_only\u001b[49m\u001b[43m,\u001b[49m\n\u001b[1;32m    392\u001b[0m \u001b[43m        \u001b[49m\u001b[43mcollection_formats\u001b[49m\u001b[43m,\u001b[49m\n\u001b[1;32m    393\u001b[0m \u001b[43m        \u001b[49m\u001b[43m_preload_content\u001b[49m\u001b[43m,\u001b[49m\n\u001b[1;32m    394\u001b[0m \u001b[43m        \u001b[49m\u001b[43m_request_timeout\u001b[49m\u001b[43m,\u001b[49m\n\u001b[1;32m    395\u001b[0m \u001b[43m        \u001b[49m\u001b[43m_host\u001b[49m\u001b[43m,\u001b[49m\n\u001b[1;32m    396\u001b[0m \u001b[43m        \u001b[49m\u001b[43m_check_type\u001b[49m\u001b[43m,\u001b[49m\n\u001b[1;32m    397\u001b[0m \u001b[43m    \u001b[49m\u001b[43m)\u001b[49m\n\u001b[1;32m    399\u001b[0m \u001b[38;5;28;01mreturn\u001b[39;00m \u001b[38;5;28mself\u001b[39m\u001b[38;5;241m.\u001b[39mpool\u001b[38;5;241m.\u001b[39mapply_async(\n\u001b[1;32m    400\u001b[0m     \u001b[38;5;28mself\u001b[39m\u001b[38;5;241m.\u001b[39m__call_api,\n\u001b[1;32m    401\u001b[0m     (\n\u001b[0;32m   (...)\u001b[0m\n\u001b[1;32m    418\u001b[0m     ),\n\u001b[1;32m    419\u001b[0m )\n",
      "File \u001b[0;32m~/.pyenv/versions/3.12.3/lib/python3.12/site-packages/pinecone/core/openapi/shared/api_client.py:187\u001b[0m, in \u001b[0;36mApiClient.__call_api\u001b[0;34m(self, resource_path, method, path_params, query_params, header_params, body, post_params, files, response_type, auth_settings, _return_http_data_only, collection_formats, _preload_content, _request_timeout, _host, _check_type)\u001b[0m\n\u001b[1;32m    185\u001b[0m \u001b[38;5;28;01mexcept\u001b[39;00m PineconeApiException \u001b[38;5;28;01mas\u001b[39;00m e:\n\u001b[1;32m    186\u001b[0m     e\u001b[38;5;241m.\u001b[39mbody \u001b[38;5;241m=\u001b[39m e\u001b[38;5;241m.\u001b[39mbody\u001b[38;5;241m.\u001b[39mdecode(\u001b[38;5;124m\"\u001b[39m\u001b[38;5;124mutf-8\u001b[39m\u001b[38;5;124m\"\u001b[39m)\n\u001b[0;32m--> 187\u001b[0m     \u001b[38;5;28;01mraise\u001b[39;00m e\n\u001b[1;32m    189\u001b[0m \u001b[38;5;28mself\u001b[39m\u001b[38;5;241m.\u001b[39mlast_response \u001b[38;5;241m=\u001b[39m response_data\n\u001b[1;32m    191\u001b[0m return_data \u001b[38;5;241m=\u001b[39m response_data\n",
      "File \u001b[0;32m~/.pyenv/versions/3.12.3/lib/python3.12/site-packages/pinecone/core/openapi/shared/api_client.py:175\u001b[0m, in \u001b[0;36mApiClient.__call_api\u001b[0;34m(self, resource_path, method, path_params, query_params, header_params, body, post_params, files, response_type, auth_settings, _return_http_data_only, collection_formats, _preload_content, _request_timeout, _host, _check_type)\u001b[0m\n\u001b[1;32m    171\u001b[0m     url \u001b[38;5;241m=\u001b[39m _host \u001b[38;5;241m+\u001b[39m resource_path\n\u001b[1;32m    173\u001b[0m \u001b[38;5;28;01mtry\u001b[39;00m:\n\u001b[1;32m    174\u001b[0m     \u001b[38;5;66;03m# perform request and return response\u001b[39;00m\n\u001b[0;32m--> 175\u001b[0m     response_data \u001b[38;5;241m=\u001b[39m \u001b[38;5;28;43mself\u001b[39;49m\u001b[38;5;241;43m.\u001b[39;49m\u001b[43mrequest\u001b[49m\u001b[43m(\u001b[49m\n\u001b[1;32m    176\u001b[0m \u001b[43m        \u001b[49m\u001b[43mmethod\u001b[49m\u001b[43m,\u001b[49m\n\u001b[1;32m    177\u001b[0m \u001b[43m        \u001b[49m\u001b[43murl\u001b[49m\u001b[43m,\u001b[49m\n\u001b[1;32m    178\u001b[0m \u001b[43m        \u001b[49m\u001b[43mquery_params\u001b[49m\u001b[38;5;241;43m=\u001b[39;49m\u001b[43mquery_params\u001b[49m\u001b[43m,\u001b[49m\n\u001b[1;32m    179\u001b[0m \u001b[43m        \u001b[49m\u001b[43mheaders\u001b[49m\u001b[38;5;241;43m=\u001b[39;49m\u001b[43mheader_params\u001b[49m\u001b[43m,\u001b[49m\n\u001b[1;32m    180\u001b[0m \u001b[43m        \u001b[49m\u001b[43mpost_params\u001b[49m\u001b[38;5;241;43m=\u001b[39;49m\u001b[43mpost_params\u001b[49m\u001b[43m,\u001b[49m\n\u001b[1;32m    181\u001b[0m \u001b[43m        \u001b[49m\u001b[43mbody\u001b[49m\u001b[38;5;241;43m=\u001b[39;49m\u001b[43mbody\u001b[49m\u001b[43m,\u001b[49m\n\u001b[1;32m    182\u001b[0m \u001b[43m        \u001b[49m\u001b[43m_preload_content\u001b[49m\u001b[38;5;241;43m=\u001b[39;49m\u001b[43m_preload_content\u001b[49m\u001b[43m,\u001b[49m\n\u001b[1;32m    183\u001b[0m \u001b[43m        \u001b[49m\u001b[43m_request_timeout\u001b[49m\u001b[38;5;241;43m=\u001b[39;49m\u001b[43m_request_timeout\u001b[49m\u001b[43m,\u001b[49m\n\u001b[1;32m    184\u001b[0m \u001b[43m    \u001b[49m\u001b[43m)\u001b[49m\n\u001b[1;32m    185\u001b[0m \u001b[38;5;28;01mexcept\u001b[39;00m PineconeApiException \u001b[38;5;28;01mas\u001b[39;00m e:\n\u001b[1;32m    186\u001b[0m     e\u001b[38;5;241m.\u001b[39mbody \u001b[38;5;241m=\u001b[39m e\u001b[38;5;241m.\u001b[39mbody\u001b[38;5;241m.\u001b[39mdecode(\u001b[38;5;124m\"\u001b[39m\u001b[38;5;124mutf-8\u001b[39m\u001b[38;5;124m\"\u001b[39m)\n",
      "File \u001b[0;32m~/.pyenv/versions/3.12.3/lib/python3.12/site-packages/pinecone/core/openapi/shared/api_client.py:460\u001b[0m, in \u001b[0;36mApiClient.request\u001b[0;34m(self, method, url, query_params, headers, post_params, body, _preload_content, _request_timeout)\u001b[0m\n\u001b[1;32m    450\u001b[0m     \u001b[38;5;28;01mreturn\u001b[39;00m \u001b[38;5;28mself\u001b[39m\u001b[38;5;241m.\u001b[39mrest_client\u001b[38;5;241m.\u001b[39mOPTIONS(\n\u001b[1;32m    451\u001b[0m         url,\n\u001b[1;32m    452\u001b[0m         query_params\u001b[38;5;241m=\u001b[39mquery_params,\n\u001b[0;32m   (...)\u001b[0m\n\u001b[1;32m    457\u001b[0m         body\u001b[38;5;241m=\u001b[39mbody,\n\u001b[1;32m    458\u001b[0m     )\n\u001b[1;32m    459\u001b[0m \u001b[38;5;28;01melif\u001b[39;00m method \u001b[38;5;241m==\u001b[39m \u001b[38;5;124m\"\u001b[39m\u001b[38;5;124mPOST\u001b[39m\u001b[38;5;124m\"\u001b[39m:\n\u001b[0;32m--> 460\u001b[0m     \u001b[38;5;28;01mreturn\u001b[39;00m \u001b[38;5;28;43mself\u001b[39;49m\u001b[38;5;241;43m.\u001b[39;49m\u001b[43mrest_client\u001b[49m\u001b[38;5;241;43m.\u001b[39;49m\u001b[43mPOST\u001b[49m\u001b[43m(\u001b[49m\n\u001b[1;32m    461\u001b[0m \u001b[43m        \u001b[49m\u001b[43murl\u001b[49m\u001b[43m,\u001b[49m\n\u001b[1;32m    462\u001b[0m \u001b[43m        \u001b[49m\u001b[43mquery_params\u001b[49m\u001b[38;5;241;43m=\u001b[39;49m\u001b[43mquery_params\u001b[49m\u001b[43m,\u001b[49m\n\u001b[1;32m    463\u001b[0m \u001b[43m        \u001b[49m\u001b[43mheaders\u001b[49m\u001b[38;5;241;43m=\u001b[39;49m\u001b[43mheaders\u001b[49m\u001b[43m,\u001b[49m\n\u001b[1;32m    464\u001b[0m \u001b[43m        \u001b[49m\u001b[43mpost_params\u001b[49m\u001b[38;5;241;43m=\u001b[39;49m\u001b[43mpost_params\u001b[49m\u001b[43m,\u001b[49m\n\u001b[1;32m    465\u001b[0m \u001b[43m        \u001b[49m\u001b[43m_preload_content\u001b[49m\u001b[38;5;241;43m=\u001b[39;49m\u001b[43m_preload_content\u001b[49m\u001b[43m,\u001b[49m\n\u001b[1;32m    466\u001b[0m \u001b[43m        \u001b[49m\u001b[43m_request_timeout\u001b[49m\u001b[38;5;241;43m=\u001b[39;49m\u001b[43m_request_timeout\u001b[49m\u001b[43m,\u001b[49m\n\u001b[1;32m    467\u001b[0m \u001b[43m        \u001b[49m\u001b[43mbody\u001b[49m\u001b[38;5;241;43m=\u001b[39;49m\u001b[43mbody\u001b[49m\u001b[43m,\u001b[49m\n\u001b[1;32m    468\u001b[0m \u001b[43m    \u001b[49m\u001b[43m)\u001b[49m\n\u001b[1;32m    469\u001b[0m \u001b[38;5;28;01melif\u001b[39;00m method \u001b[38;5;241m==\u001b[39m \u001b[38;5;124m\"\u001b[39m\u001b[38;5;124mPUT\u001b[39m\u001b[38;5;124m\"\u001b[39m:\n\u001b[1;32m    470\u001b[0m     \u001b[38;5;28;01mreturn\u001b[39;00m \u001b[38;5;28mself\u001b[39m\u001b[38;5;241m.\u001b[39mrest_client\u001b[38;5;241m.\u001b[39mPUT(\n\u001b[1;32m    471\u001b[0m         url,\n\u001b[1;32m    472\u001b[0m         query_params\u001b[38;5;241m=\u001b[39mquery_params,\n\u001b[0;32m   (...)\u001b[0m\n\u001b[1;32m    477\u001b[0m         body\u001b[38;5;241m=\u001b[39mbody,\n\u001b[1;32m    478\u001b[0m     )\n",
      "File \u001b[0;32m~/.pyenv/versions/3.12.3/lib/python3.12/site-packages/pinecone/core/openapi/shared/rest.py:345\u001b[0m, in \u001b[0;36mRESTClientObject.POST\u001b[0;34m(self, url, headers, query_params, post_params, body, _preload_content, _request_timeout)\u001b[0m\n\u001b[1;32m    335\u001b[0m \u001b[38;5;28;01mdef\u001b[39;00m \u001b[38;5;21mPOST\u001b[39m(\n\u001b[1;32m    336\u001b[0m     \u001b[38;5;28mself\u001b[39m,\n\u001b[1;32m    337\u001b[0m     url,\n\u001b[0;32m   (...)\u001b[0m\n\u001b[1;32m    343\u001b[0m     _request_timeout\u001b[38;5;241m=\u001b[39m\u001b[38;5;28;01mNone\u001b[39;00m,\n\u001b[1;32m    344\u001b[0m ):\n\u001b[0;32m--> 345\u001b[0m     \u001b[38;5;28;01mreturn\u001b[39;00m \u001b[38;5;28;43mself\u001b[39;49m\u001b[38;5;241;43m.\u001b[39;49m\u001b[43mrequest\u001b[49m\u001b[43m(\u001b[49m\n\u001b[1;32m    346\u001b[0m \u001b[43m        \u001b[49m\u001b[38;5;124;43m\"\u001b[39;49m\u001b[38;5;124;43mPOST\u001b[39;49m\u001b[38;5;124;43m\"\u001b[39;49m\u001b[43m,\u001b[49m\n\u001b[1;32m    347\u001b[0m \u001b[43m        \u001b[49m\u001b[43murl\u001b[49m\u001b[43m,\u001b[49m\n\u001b[1;32m    348\u001b[0m \u001b[43m        \u001b[49m\u001b[43mheaders\u001b[49m\u001b[38;5;241;43m=\u001b[39;49m\u001b[43mheaders\u001b[49m\u001b[43m,\u001b[49m\n\u001b[1;32m    349\u001b[0m \u001b[43m        \u001b[49m\u001b[43mquery_params\u001b[49m\u001b[38;5;241;43m=\u001b[39;49m\u001b[43mquery_params\u001b[49m\u001b[43m,\u001b[49m\n\u001b[1;32m    350\u001b[0m \u001b[43m        \u001b[49m\u001b[43mpost_params\u001b[49m\u001b[38;5;241;43m=\u001b[39;49m\u001b[43mpost_params\u001b[49m\u001b[43m,\u001b[49m\n\u001b[1;32m    351\u001b[0m \u001b[43m        \u001b[49m\u001b[43m_preload_content\u001b[49m\u001b[38;5;241;43m=\u001b[39;49m\u001b[43m_preload_content\u001b[49m\u001b[43m,\u001b[49m\n\u001b[1;32m    352\u001b[0m \u001b[43m        \u001b[49m\u001b[43m_request_timeout\u001b[49m\u001b[38;5;241;43m=\u001b[39;49m\u001b[43m_request_timeout\u001b[49m\u001b[43m,\u001b[49m\n\u001b[1;32m    353\u001b[0m \u001b[43m        \u001b[49m\u001b[43mbody\u001b[49m\u001b[38;5;241;43m=\u001b[39;49m\u001b[43mbody\u001b[49m\u001b[43m,\u001b[49m\n\u001b[1;32m    354\u001b[0m \u001b[43m    \u001b[49m\u001b[43m)\u001b[49m\n",
      "File \u001b[0;32m~/.pyenv/versions/3.12.3/lib/python3.12/site-packages/pinecone/core/openapi/shared/rest.py:271\u001b[0m, in \u001b[0;36mRESTClientObject.request\u001b[0;34m(self, method, url, query_params, headers, body, post_params, _preload_content, _request_timeout)\u001b[0m\n\u001b[1;32m    268\u001b[0m     \u001b[38;5;28;01mraise\u001b[39;00m UnauthorizedException(http_resp\u001b[38;5;241m=\u001b[39mr)\n\u001b[1;32m    270\u001b[0m \u001b[38;5;28;01mif\u001b[39;00m r\u001b[38;5;241m.\u001b[39mstatus \u001b[38;5;241m==\u001b[39m \u001b[38;5;241m403\u001b[39m:\n\u001b[0;32m--> 271\u001b[0m     \u001b[38;5;28;01mraise\u001b[39;00m ForbiddenException(http_resp\u001b[38;5;241m=\u001b[39mr)\n\u001b[1;32m    273\u001b[0m \u001b[38;5;28;01mif\u001b[39;00m r\u001b[38;5;241m.\u001b[39mstatus \u001b[38;5;241m==\u001b[39m \u001b[38;5;241m404\u001b[39m:\n\u001b[1;32m    274\u001b[0m     \u001b[38;5;28;01mraise\u001b[39;00m NotFoundException(http_resp\u001b[38;5;241m=\u001b[39mr)\n",
      "\u001b[0;31mForbiddenException\u001b[0m: (403)\nReason: Forbidden\nHTTP response headers: HTTPHeaderDict({'Date': 'Thu, 19 Sep 2024 04:55:23 GMT', 'Content-Type': 'text/plain', 'Content-Length': '9', 'Connection': 'keep-alive', 'x-pinecone-auth-rejected-reason': 'Wrong API key', 'www-authenticate': 'Wrong API key', 'server': 'envoy'})\nHTTP response body: Forbidden\n"
     ]
    }
   ],
   "source": [
    "# index_name = \"test-2\"\n",
    "# index = pinecone.Index(index_name, host='test-2-5vwf04k.svc.aped-4627-b74a.pinecone.io')\n",
    "\n",
    "# # Load documents from the specified directory\n",
    "# directory = 'data'  # Change this path to your actual directory containing the documents\n",
    "\n",
    "# def load_docs(directory):\n",
    "#     loader = DirectoryLoader(directory)\n",
    "#     docs = loader.load()\n",
    "#     return docs\n",
    "\n",
    "# docs = load_docs(directory)\n",
    "\n",
    "# # Initialize the embeddings model\n",
    "# embeddings = OpenAIEmbeddings(\n",
    "#     model=\"text-embedding-ada-002\",  # You can adjust to another model if needed\n",
    "# )\n",
    "\n",
    "# # Split the documents for embeddings (if necessary)\n",
    "# doc_texts = [doc.page_content for doc in docs]\n",
    "# doc_ids = [f\"doc_{i}\" for i in range(len(docs))]  # Generate unique IDs for each document\n",
    "\n",
    "# # Generate embeddings for the documents\n",
    "# doc_embeddings = embeddings.embed_documents(doc_texts)\n",
    "\n",
    "# # Prepare the data for upsert (list of tuples with (ID, embedding))\n",
    "# #upsert_data = list(zip(doc_ids, doc_embeddings))\n",
    "# # Prepare the data for upsert with correct format\n",
    "# upsert_data = [\n",
    "#     {\"id\": doc_id, \"values\": embedding} \n",
    "#     for doc_id, embedding in zip(doc_ids, doc_embeddings)\n",
    "# ]\n",
    "\n",
    "# # Upsert documents in batches\n",
    "# batch_size = 100  \n",
    "\n",
    "# for i in range(0, len(upsert_data), batch_size):\n",
    "#     batch = upsert_data[i:i + batch_size]\n",
    "#     # Upsert the batch to Pinecone\n",
    "#     index.upsert(vectors=batch)\n",
    "#     print(f\"Upserted batch {i // batch_size + 1} of {len(upsert_data) // batch_size + 1}\")\n",
    "\n",
    "# print(f\"Upserted all {len(upsert_data)} documents into Pinecone index '{index_name}'.\")\n",
    "\n",
    "# # Fetch and verify the stored vectors (Optional)\n",
    "# for doc_id, doc in zip(doc_ids, docs):\n",
    "#     #\n",
    "#     result = index.fetch(ids=[doc_id])\n",
    "#     if result and 'vectors' in result:\n",
    "#         vector = result['vectors'].get(doc_id, {}).get('values', [])\n",
    "#         filename = doc.metadata.get('filename', 'unknown')\n",
    "#         print(f\"Filename: {filename} - Document ID: {doc_id} - Vector: {vector[:1]}... (truncated)\")"
   ]
  },
  {
   "cell_type": "markdown",
   "metadata": {},
   "source": [
    "## Split Docs"
   ]
  },
  {
   "cell_type": "code",
   "execution_count": 662,
   "metadata": {},
   "outputs": [],
   "source": [
    "\n",
    "chunk_size = 1000  \n",
    "chunk_overlap = 200  \n",
    "\n",
    "text_splitter = RecursiveCharacterTextSplitter(chunk_size=chunk_size, chunk_overlap=chunk_overlap)\n",
    "\n",
    "split_docs = text_splitter.split_documents(docs)"
   ]
  },
  {
   "cell_type": "markdown",
   "metadata": {},
   "source": [
    "## Pinecone Vector Store"
   ]
  },
  {
   "cell_type": "code",
   "execution_count": 663,
   "metadata": {},
   "outputs": [
    {
     "data": {
      "text/plain": [
       "<langchain_pinecone.vectorstores.PineconeVectorStore at 0x39c69b4a0>"
      ]
     },
     "execution_count": 663,
     "metadata": {},
     "output_type": "execute_result"
    }
   ],
   "source": [
    "index_name = \"test-2\"\n",
    "vectorstore = PineconeVectorStore.from_documents(split_docs, embeddings, index_name=index_name)\n",
    "vectorstore"
   ]
  },
  {
   "cell_type": "markdown",
   "metadata": {},
   "source": [
    "## query = Questions"
   ]
  },
  {
   "cell_type": "code",
   "execution_count": 664,
   "metadata": {},
   "outputs": [],
   "source": [
    "keyword = \"\"\" What is RAG??\"\"\""
   ]
  },
  {
   "cell_type": "markdown",
   "metadata": {},
   "source": [
    "## Retriever"
   ]
  },
  {
   "cell_type": "code",
   "execution_count": 665,
   "metadata": {},
   "outputs": [
    {
     "data": {
      "text/plain": [
       "VectorStoreRetriever(tags=['PineconeVectorStore', 'OpenAIEmbeddings'], vectorstore=<langchain_pinecone.vectorstores.PineconeVectorStore object at 0x39c69b4a0>, search_kwargs={'k': 5})"
      ]
     },
     "execution_count": 665,
     "metadata": {},
     "output_type": "execute_result"
    }
   ],
   "source": [
    "retriever = vectorstore.as_retriever(search_kwargs = {\"k\":5})\n",
    "retriever.get_relevant_documents(keyword)\n",
    "retriever"
   ]
  },
  {
   "cell_type": "markdown",
   "metadata": {},
   "source": [
    "## Importing Chat Model as GPT-4o"
   ]
  },
  {
   "cell_type": "code",
   "execution_count": 666,
   "metadata": {},
   "outputs": [
    {
     "data": {
      "text/plain": [
       "{'query': ' How to create a membership??',\n",
       " 'result': \"To create a membership, follow these steps:\\n\\n1. Go to the **Settings** > **Membership Offerings** tab.\\n\\n2. Click on **+Add** on the top right side of the page to add a Membership type.\\n\\n3. Choose **Category**: Select either **Individual & Family** OR **Company & Group**.\\n\\n4. Choose **Age range** and **Quantity** (minimum and maximum number of members if any) by typing manually or using the arrow buttons on the right-hand side.\\n\\n5. Set the **Price**.\\n\\n6. Set the **Billing Interval** from the dropdown options: **Bi-yearly, Monthly, One Time, Quarterly, Yearly**.\\n\\n7. Set the **Billing Type** from the dropdown:\\n   - **By Family**\\n   - **Group**: All members in a group pay together.\\n   - **Individual**: Each individual in the group is charged separately.\\n\\n8. Add a **Registration Fee**: This is a one-time registration fee.\\n\\n9. Choose **Visibility** from the dropdown:\\n   - **Public**: Shown on the public site and can be chosen as an option by anyone.\\n   - **Private**: Can only be chosen as an option by admin.\\n\\n10. Choose **Status**:\\n    - **Active**: Can be chosen as an option.\\n    - **Inactive**: Cannot be chosen as an option.\\n\\n11. Add **Start Date** and **End Date**.\\n\\nThat's it! You have now created a membership type following these steps.\",\n",
       " 'source_documents': [Document(id='c62dd7a5-07da-4992-8a98-987dfa3c6e6e', metadata={'source': '/Users/user/Downloads/colab/data/Settings Module.docx'}, page_content='Go to Settings >Membership Offerings tab.\\n\\nClick on +Add on the top right side of the page to add a Membership type:\\n\\nChoose Category: Individual & Family OR Company & Group\\n\\nChoose Age range and Quantity (min and max number of members if any) can be set by typing manually or using the arrow buttons on the right hand side.\\n\\nSet Price.\\n\\nSet Billing Interval from dropdown: Bi-yearly, Monthly, One Time, Quarterly, Yearly.\\n\\nSet Billing Type from dropdown:\\n\\nBy Family\\n\\nGroup: all members in a group pay together\\n\\nIndividual: each individual in group charged separately\\n\\nAdd Registration Fee: One time registration fee\\n\\nChoose Visibility from dropdown:\\n\\nPublic: Shown on the public site and can be chosen as an option by anyone.\\n\\nPrivate: Can only be chosen as an option by admin.\\n\\nChoose Status:\\n\\nActive:  Can be chosen as an option\\n\\nInactive: Cannot be chosen as an option\\n\\nAdd Start and End Date.'),\n",
       "  Document(id='01e0ee0e-2ab3-4bc1-a957-009025da0a42', metadata={'source': 'data/Settings Module.docx'}, page_content='Go to Settings >Membership Offerings tab.\\n\\nClick on +Add on the top right side of the page to add a Membership type:\\n\\nChoose Category: Individual & Family OR Company & Group\\n\\nChoose Age range and Quantity (min and max number of members if any) can be set by typing manually or using the arrow buttons on the right hand side.\\n\\nSet Price.\\n\\nSet Billing Interval from dropdown: Bi-yearly, Monthly, One Time, Quarterly, Yearly.\\n\\nSet Billing Type from dropdown:\\n\\nBy Family\\n\\nGroup: all members in a group pay together\\n\\nIndividual: each individual in group charged separately\\n\\nAdd Registration Fee: One time registration fee\\n\\nChoose Visibility from dropdown:\\n\\nPublic: Shown on the public site and can be chosen as an option by anyone.\\n\\nPrivate: Can only be chosen as an option by admin.\\n\\nChoose Status:\\n\\nActive:  Can be chosen as an option\\n\\nInactive: Cannot be chosen as an option\\n\\nAdd Start and End Date.'),\n",
       "  Document(id='dc446ef6-423c-4a86-b7d5-8c77283c8b73', metadata={'source': '/Users/user/Downloads/colab/data/Settings Module.docx'}, page_content='Go to Settings >Membership Offerings tab.\\n\\nClick on +Add on the top right side of the page to add a Membership type:\\n\\nChoose Category: Individual & Family OR Company & Group\\n\\nChoose Age range and Quantity (min and max number of members if any) can be set by typing manually or using the arrow buttons on the right hand side.\\n\\nSet Price.\\n\\nSet Billing Interval from dropdown: Bi-yearly, Monthly, One Time, Quarterly, Yearly.\\n\\nSet Billing Type from dropdown:\\n\\nBy Family\\n\\nGroup: all members in a group pay together\\n\\nIndividual: each individual in group charged separately\\n\\nAdd Registration Fee: One time registration fee\\n\\nChoose Visibility from dropdown:\\n\\nPublic: Shown on the public site and can be chosen as an option by anyone.\\n\\nPrivate: Can only be chosen as an option by admin.\\n\\nChoose Status:\\n\\nActive:  Can be chosen as an option\\n\\nInactive: Cannot be chosen as an option\\n\\nAdd Start and End Date.'),\n",
       "  Document(id='9c05e85d-166c-4db3-8b69-0ae0afbec381', metadata={'source': '/Users/user/Downloads/colab/data/Settings Module.docx'}, page_content='Go to Settings >Membership Offerings tab.\\n\\nClick on +Add on the top right side of the page to add a Membership type:\\n\\nChoose Category: Individual & Family OR Company & Group\\n\\nChoose Age range and Quantity (min and max number of members if any) can be set by typing manually or using the arrow buttons on the right hand side.\\n\\nSet Price.\\n\\nSet Billing Interval from dropdown: Bi-yearly, Monthly, One Time, Quarterly, Yearly.\\n\\nSet Billing Type from dropdown:\\n\\nBy Family\\n\\nGroup: all members in a group pay together\\n\\nIndividual: each individual in group charged separately\\n\\nAdd Registration Fee: One time registration fee\\n\\nChoose Visibility from dropdown:\\n\\nPublic: Shown on the public site and can be chosen as an option by anyone.\\n\\nPrivate: Can only be chosen as an option by admin.\\n\\nChoose Status:\\n\\nActive:  Can be chosen as an option\\n\\nInactive: Cannot be chosen as an option\\n\\nAdd Start and End Date.'),\n",
       "  Document(id='d10d584f-79c2-4f4e-886e-3ad8c0f4b362', metadata={'source': '/Users/user/Downloads/colab/data/Settings Module.docx'}, page_content='Go to Settings >Membership Offerings tab.\\n\\nClick on +Add on the top right side of the page to add a Membership type:\\n\\nChoose Category: Individual & Family OR Company & Group\\n\\nChoose Age range and Quantity (min and max number of members if any) can be set by typing manually or using the arrow buttons on the right hand side.\\n\\nSet Price.\\n\\nSet Billing Interval from dropdown: Bi-yearly, Monthly, One Time, Quarterly, Yearly.\\n\\nSet Billing Type from dropdown:\\n\\nBy Family\\n\\nGroup: all members in a group pay together\\n\\nIndividual: each individual in group charged separately\\n\\nAdd Registration Fee: One time registration fee\\n\\nChoose Visibility from dropdown:\\n\\nPublic: Shown on the public site and can be chosen as an option by anyone.\\n\\nPrivate: Can only be chosen as an option by admin.\\n\\nChoose Status:\\n\\nActive:  Can be chosen as an option\\n\\nInactive: Cannot be chosen as an option\\n\\nAdd Start and End Date.')]}"
      ]
     },
     "execution_count": 666,
     "metadata": {},
     "output_type": "execute_result"
    }
   ],
   "source": [
    "llm = ChatOpenAI(\n",
    "    model=\"gpt-4o\",\n",
    "    temperature=0.7,\n",
    ")\n",
    "\n",
    "qa = RetrievalQA.from_chain_type(\n",
    "    llm=llm,\n",
    "    chain_type=\"stuff\",\n",
    "    retriever=vectorstore.as_retriever(search_kwargs={\"k\": 5}),  # Set to retrieve only 1 document\n",
    "    return_source_documents=True  # This will return source documents in the response\n",
    "\n",
    ")\n",
    "\n",
    "qa.invoke(keyword)"
   ]
  },
  {
   "cell_type": "code",
   "execution_count": 667,
   "metadata": {},
   "outputs": [],
   "source": [
    "# # Post-process the output\n",
    "# response = qa.invoke(query)\n",
    "# # result = response.get('result', 'No result found')\n",
    "# source_documents = response.get('source_documents', 'No source documents available')\n",
    "# source_info = response['source_documents']  \n",
    "# print(f\"Response: {response['result']} (Source: {source_info})\")"
   ]
  },
  {
   "cell_type": "markdown",
   "metadata": {},
   "source": [
    "## Keyword and Response (with Pinecone and without Pinecone)"
   ]
  },
  {
   "cell_type": "code",
   "execution_count": 668,
   "metadata": {},
   "outputs": [],
   "source": [
    "# keyword = \"\"\" According to the Constitution of the Kingdom of Nepal 1990, there is a\n",
    "# provision for electing how members to the House of\n",
    "# Representatives.\"\"\"\n",
    "\n",
    "# # Send each keyword to the LLM twice, first with relevant knowledge from Pincone \n",
    "# # and then without any additional knowledge.\n",
    "# print(\"Response \\n\")\n",
    "# print(\"Chat with Pinecone:\")\n",
    "# print(qa.invoke(keyword).get(\"result\"))\n",
    "# #print(\"\\nChat with GPT-4o:\")\n",
    "# #print(llm.invoke(keyword).content)\n",
    "# # Combine the two responses for clarity\n",
    "# #print(\"\\nCombined Response (Pinecone + GPT-4o):\")\n",
    "# #combined_response = f\"Pinecone Response: {\"Chat with Pinecone:\"}\\nGPT-4o Response: {\"\\nChat with GPT-4o:\"}\"\n",
    "# #print(combined_response)\n"
   ]
  },
  {
   "cell_type": "markdown",
   "metadata": {},
   "source": [
    "## Prompt Template"
   ]
  },
  {
   "cell_type": "code",
   "execution_count": 669,
   "metadata": {},
   "outputs": [],
   "source": [
    "def format_docs(docs):\n",
    "    return \"\\n\\n\".join(doc.page_content for doc in docs)\n",
    "\n",
    "retrieved_docs = retriever.invoke(keyword)\n",
    "#print(format_docs(retrieved_docs))"
   ]
  },
  {
   "cell_type": "code",
   "execution_count": 670,
   "metadata": {},
   "outputs": [],
   "source": [
    "template = \"\"\"You are an expert LLM assistant specialized in answering questions based solely on the information provided in the uploaded documents (PDF, DOCX, or TXT formats). Use only the information from the documents to respond accurately and clearly to each question.\n",
    "\n",
    "Guidelines:\n",
    "1. Provide concise and informative answers.\n",
    "2. If the answer is not found in the uploaded documents, state, \"The answer is not available in the provided documents.\"\n",
    "3. Avoid using outside knowledge or assumptions. Stick strictly to the content in the documents.\n",
    "4. Maintain a professional and helpful tone.\n",
    "5. Answer for normal conversation question like \"Hi\", \"Hey\", \"Hello\", \"How are you\", and many others questions with answer \"Hello, How can I assist you?\".\n",
    "6. If question is on \"summarize\" or \"summerization\", then summarize the documents and (1/4)th the size of documents.\n",
    "\n",
    "Question: {question}\n",
    "\n",
    "Context: {context}\n",
    "\n",
    "Answer:\n",
    "\"\"\"\n",
    "prompt = template.format(question = keyword, context =  format_docs(retrieved_docs))\n"
   ]
  },
  {
   "cell_type": "markdown",
   "metadata": {},
   "source": [
    "## Chains"
   ]
  },
  {
   "cell_type": "code",
   "execution_count": 671,
   "metadata": {},
   "outputs": [],
   "source": [
    "llm = OpenAI(api_key=openai_api_key)\n",
    "\n",
    "custom_rag_template = PromptTemplate.from_template(template)\n",
    "\n",
    "# Create the parallel chain\n",
    "My_rag_chain = RunnableParallel(\n",
    "    {\n",
    "        \"context\": retriever | format_docs,\n",
    "        \"question\": RunnablePassthrough()\n",
    "    }\n",
    ") | custom_rag_template | llm | StrOutputParser()\n",
    "\n",
    "\n",
    "## My chain : Retriever(Pinecone) | custom_rag_template(prompt) | llm | StrOutputParser()"
   ]
  },
  {
   "cell_type": "markdown",
   "metadata": {},
   "source": [
    "## keyword and Response (with Pinecone and without Pinecone)"
   ]
  },
  {
   "cell_type": "code",
   "execution_count": 672,
   "metadata": {},
   "outputs": [
    {
     "name": "stdout",
     "output_type": "stream",
     "text": [
      "Chat with your Documents:\n",
      "\n",
      "To create a membership, go to Settings > Membership Offerings tab and click on +Add. Then, choose the category (Individual & Family or Company & Group), set the age range and quantity, and set the price. Next, select the billing interval and type, and add a registration fee if desired. Choose the visibility (public or private) and status (active or inactive), and set the start and end date. Repeat these steps for each membership type you want to offer.\n"
     ]
    }
   ],
   "source": [
    "keyword = \"\"\" How to create a membership?\"\"\"\n",
    "\n",
    "print(\"Chat with your Documents:\")\n",
    "print(My_rag_chain.invoke(keyword))\n",
    "#print(\"\\nChat with GPT-4o:\")\n",
    "#print(llm.invoke(keyword).content)\n",
    "# Combine the two responses for clarity\n",
    "#print(\"\\nCombined Response (Pinecone + GPT-4o):\")\n",
    "#combined_response = f\"Pinecone Response: {\"Chat with Pinecone:\"}\\nGPT-4o Response: {\"\\nChat with GPT-4o:\"}\"\n",
    "#print(combined_response)"
   ]
  },
  {
   "cell_type": "markdown",
   "metadata": {},
   "source": [
    "## Gradio"
   ]
  },
  {
   "cell_type": "code",
   "execution_count": 673,
   "metadata": {},
   "outputs": [],
   "source": [
    "# import gradio as gr\n",
    "\n",
    "# def llm_response(keyword, memory = None):\n",
    "#     return My_rag_chain.invoke(keyword)\n",
    "\n",
    "# rag_demo = gr.ChatInterface(\n",
    "#     llm_response, \n",
    "#     title=\"RAG demo\",\n",
    "#     chatbot=gr.Chatbot(height=300),\n",
    "#     textbox=gr.Textbox(placeholder=\"Enter keyword here\", scale=5),\n",
    "#     examples=[\"Hello\"],\n",
    "#     retry_btn=gr.Button(\"Retry\"),\n",
    "#     clear_btn=gr.Button(\"Clear\"),\n",
    "#     undo_btn=gr.Button(\"Undo\"),\n",
    "#     submit_btn=gr.Button(\"Submit\")\n",
    "# )"
   ]
  },
  {
   "cell_type": "code",
   "execution_count": 674,
   "metadata": {},
   "outputs": [],
   "source": [
    "#rag_demo.launch(share=False)"
   ]
  },
  {
   "cell_type": "code",
   "execution_count": 675,
   "metadata": {},
   "outputs": [],
   "source": [
    "# # Define 25 tenants, each with 50 users\n",
    "# tenants = {f\"tenant_{i}\": [f\"user_{i}_{j}\" for j in range(50)] for i in range(1, 26)}\n",
    "\n",
    "# # Print out the tenants and their users\n",
    "# for tenant_id, users in tenants.items():\n",
    "#     print(f\"Tenant ID: {tenant_id}\")\n",
    "#     for user in users:\n",
    "#         print(f\"  User: {user}\")\n"
   ]
  },
  {
   "cell_type": "markdown",
   "metadata": {},
   "source": [
    "## Folder, Upload Docs, Delete Docs, Isolation keyword"
   ]
  },
  {
   "cell_type": "code",
   "execution_count": 676,
   "metadata": {},
   "outputs": [],
   "source": [
    "# # User Folders\n",
    "# def create_user_folders(base_path, tenants):\n",
    "#     \"\"\"Create folders for each tenant and their users.\"\"\"\n",
    "#     for tenant_id, users in tenants.items():\n",
    "#         tenant_path = os.path.join(base_path, tenant_id)\n",
    "#         os.makedirs(tenant_path, exist_ok=True)\n",
    "#         for user in users:\n",
    "#             user_path = os.path.join(tenant_path, user)\n",
    "#             os.makedirs(user_path, exist_ok=True)\n",
    "#     print(\"User folders created successfully.\")\n",
    "\n",
    "# #Uploading File\n",
    "# def upload_file(base_path, tenant_id, user_id, file_path):\n",
    "#     \"\"\"Upload a file and store its embedding with metadata for tenant filtering.\"\"\"\n",
    "#     tenant_folder = os.path.join(base_path, tenant_id)\n",
    "#     user_folder = os.path.join(tenant_folder, user_id)\n",
    "    \n",
    "#     if not os.path.exists(user_folder):\n",
    "#         raise ValueError(f\"User folder {user_folder} does not exist\")\n",
    "    \n",
    "#     destination = os.path.join(user_folder, os.path.basename(file_path))\n",
    "    \n",
    "#     if os.path.exists(destination):\n",
    "#         raise FileExistsError(f\"File {destination} already exists\")\n",
    "    \n",
    "#     try:\n",
    "#         with open(file_path, 'rb') as fsrc, open(destination, 'wb') as fdst:\n",
    "#             fdst.write(fsrc.read())\n",
    "        \n",
    "#         # Create embeddings and store in Pinecone with tenant metadata\n",
    "#         embedding = embeddings.embed_documents(file_path)\n",
    "#         metadata = {\"tenant_id\": tenant_id, \"user_id\": user_id}\n",
    "#         vectorstore.add(vectors=[embedding], ids=[os.path.basename(file_path)], metadata=metadata)\n",
    "#         print(f\"File {file_path} uploaded to {destination}\")\n",
    "#     except Exception as e:\n",
    "#         print(f\"An error occurred while uploading the file: {e}\")\n",
    "    \n",
    "        \n",
    "        \n",
    "# #  Delete Documents with pinecone embeddings    \n",
    "# def delete_file(base_path, tenant_id, user_id, vector_ID):\n",
    "#     \"\"\"Delete a file from the specified tenant and user folder, and remove its embedding from Pinecone.\"\"\"\n",
    "#     file_path = os.path.join(base_path, tenant_id, user_id, vector_ID)\n",
    "    \n",
    "#     if os.path.exists(file_path):\n",
    "#         try:\n",
    "#             # Remove the file from the filesystem\n",
    "#             os.remove(file_path)\n",
    "#             print(f\"File {file_path} deleted successfully.\")\n",
    "            \n",
    "#             # Remove the corresponding embedding from Pinecone using metadata filter\n",
    "#             meta_data = {\"tenant_id\": tenant_id, \"user_id\": user_id}  # Define metadata filter\n",
    "#             vectorstore.delete(filter=meta_data)  # Delete vectors matching the metadata filter # base_path/tenant_id/user_id/vector_ID ~ vector_ID=vector_id\n",
    "#             print(f\"Embedding for {vector_ID} deleted from Pinecone along with its metadata.\")\n",
    "            \n",
    "#         except Exception as e:\n",
    "#             print(f\"An error occurred while deleting the file: {e}\")\n",
    "#     else:\n",
    "#         print(f\"File {file_path} not found.\")       \n",
    "    \n",
    "\n",
    "\n",
    "# ##### Creating tenant and user for document storage  ######\n",
    "# #####                                  ######\n",
    "# tenants = {\n",
    "#     'tenant_1': ['user_1_0', 'user_1_1','user_1_2','user_1_3','user_1_4',],\n",
    "#     'tenant_2': ['user_2_0', 'user_2_1','user_2_2','user_2_3','user_2_4',],\n",
    "#     'tenant_3': ['user_3_0', 'user_3_1','user_3_2','user_3_3','user_3_4',],\n",
    "#     'tenant_4': ['user_4_0', 'user_4_1','user_4_2','user_4_3','user_4_4',],\n",
    "#     'tenant_5': ['user_5_0', 'user_5_1','user_5_2','user_5_3','user_5_4',],\n",
    "#     # Add more tenants and users as needed\n",
    "# }\n",
    "\n",
    "# # Base directory where user folders will be created\n",
    "# base_path = 'file_storage'\n",
    "\n",
    "# # Create folders\n",
    "# create_user_folders(base_path, tenants)\n",
    "\n",
    "# # Example of uploading a file\n",
    "# upload_file(base_path, 'tenant_1', 'user_1_1', '/Users/user/Downloads/Chatbot with OpenAI embedding models, GPT, Langchain and Pinecone (1).docx')\n",
    "\n",
    "# # Example of deleting a file\n",
    "# #delete_file(base_path, 'tenant_1', 'user_1_1', 'Retrieval Augmented Generation (RAG) for Everyone.docx')\n"
   ]
  },
  {
   "cell_type": "code",
   "execution_count": 677,
   "metadata": {},
   "outputs": [],
   "source": [
    "#Get an Pinecone index endpoint = https://ujjwaln-rn229jx.svc.aped-4627-b74a.pinecone.io\n",
    "#Get an openai endpoint = https://api.openai.com/v1/chat/completions (POST) - Creates a model response for the given chat conversation.\n",
    "\n",
    "\n",
    "\n"
   ]
  },
  {
   "cell_type": "code",
   "execution_count": null,
   "metadata": {},
   "outputs": [],
   "source": []
  },
  {
   "cell_type": "code",
   "execution_count": 678,
   "metadata": {},
   "outputs": [
    {
     "ename": "SyntaxError",
     "evalue": "unmatched '}' (364757047.py, line 1)",
     "output_type": "error",
     "traceback": [
      "\u001b[0;36m  Cell \u001b[0;32mIn[678], line 1\u001b[0;36m\u001b[0m\n\u001b[0;31m    'source_documents': [Document(id='c1c6bfb8-6672-4ee3-9089-e83b73481c86', metadata={'source': 'data/Settings Module.docx'}, page_content='Go to Settings >Membership Offerings tab.\\n\\nClick on +Add on the top right side of the page to add a Membership type:\\n\\nChoose Category: Individual & Family OR Company & Group\\n\\nChoose Age range and Quantity (min and max number of members if any) can be set by typing manually or using the arrow buttons on the right hand side.\\n\\nSet Price.\\n\\nSet Billing Interval from dropdown: Bi-yearly, Monthly, One Time, Quarterly, Yearly.\\n\\nSet Billing Type from dropdown:\\n\\nBy Family\\n\\nGroup: all members in a group pay together\\n\\nIndividual: each individual in group charged separately\\n\\nAdd Registration Fee: One time registration fee\\n\\nChoose Visibility from dropdown:\\n\\nPublic: Shown on the public site and can be chosen as an option by anyone.\\n\\nPrivate: Can only be chosen as an option by admin.\\n\\nChoose Status:\\n\\nActive:  Can be chosen as an option\\n\\nInactive: Cannot be chosen as an option\\n\\nAdd Start and End Date.')]}\u001b[0m\n\u001b[0m                                                                                                                                                                                                                                                                                                                                                                                                                                                                                                                                                                                                                                                                                                                                                                                                                                                                                                                                                                                                                                                                                                                   ^\u001b[0m\n\u001b[0;31mSyntaxError\u001b[0m\u001b[0;31m:\u001b[0m unmatched '}'\n"
     ]
    }
   ],
   "source": [
    "'source_documents': [Document(id='c1c6bfb8-6672-4ee3-9089-e83b73481c86', metadata={'source': 'data/Settings Module.docx'}, page_content='Go to Settings >Membership Offerings tab.\\n\\nClick on +Add on the top right side of the page to add a Membership type:\\n\\nChoose Category: Individual & Family OR Company & Group\\n\\nChoose Age range and Quantity (min and max number of members if any) can be set by typing manually or using the arrow buttons on the right hand side.\\n\\nSet Price.\\n\\nSet Billing Interval from dropdown: Bi-yearly, Monthly, One Time, Quarterly, Yearly.\\n\\nSet Billing Type from dropdown:\\n\\nBy Family\\n\\nGroup: all members in a group pay together\\n\\nIndividual: each individual in group charged separately\\n\\nAdd Registration Fee: One time registration fee\\n\\nChoose Visibility from dropdown:\\n\\nPublic: Shown on the public site and can be chosen as an option by anyone.\\n\\nPrivate: Can only be chosen as an option by admin.\\n\\nChoose Status:\\n\\nActive:  Can be chosen as an option\\n\\nInactive: Cannot be chosen as an option\\n\\nAdd Start and End Date.')]}\n"
   ]
  }
 ],
 "metadata": {
  "kernelspec": {
   "display_name": "Python 3",
   "language": "python",
   "name": "python3"
  },
  "language_info": {
   "codemirror_mode": {
    "name": "ipython",
    "version": 3
   },
   "file_extension": ".py",
   "mimetype": "text/x-python",
   "name": "python",
   "nbconvert_exporter": "python",
   "pygments_lexer": "ipython3",
   "version": "3.12.3"
  }
 },
 "nbformat": 4,
 "nbformat_minor": 2
}
