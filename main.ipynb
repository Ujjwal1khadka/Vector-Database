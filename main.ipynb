{
 "cells": [
  {
   "cell_type": "markdown",
   "metadata": {},
   "source": [
    "## Installing the Pinecone and LangChain libraries required for the Chatbot"
   ]
  },
  {
   "cell_type": "code",
   "execution_count": 70,
   "metadata": {},
   "outputs": [
    {
     "name": "stdout",
     "output_type": "stream",
     "text": [
      "Requirement already satisfied: langchain_community in /Users/user/.pyenv/versions/3.12.3/lib/python3.12/site-packages (0.2.15)\n",
      "Requirement already satisfied: langchain_pinecone in /Users/user/.pyenv/versions/3.12.3/lib/python3.12/site-packages (0.1.3)\n",
      "Requirement already satisfied: langchain_openai in /Users/user/.pyenv/versions/3.12.3/lib/python3.12/site-packages (0.1.23)\n",
      "Requirement already satisfied: unstructured in /Users/user/.pyenv/versions/3.12.3/lib/python3.12/site-packages (0.15.7)\n",
      "Requirement already satisfied: langchain-text-splitters in /Users/user/.pyenv/versions/3.12.3/lib/python3.12/site-packages (0.2.2)\n",
      "Requirement already satisfied: pinecone-text in /Users/user/.pyenv/versions/3.12.3/lib/python3.12/site-packages (0.9.0)\n",
      "Requirement already satisfied: PyYAML>=5.3 in /Users/user/.pyenv/versions/3.12.3/lib/python3.12/site-packages (from langchain_community) (6.0.1)\n",
      "Requirement already satisfied: SQLAlchemy<3,>=1.4 in /Users/user/.pyenv/versions/3.12.3/lib/python3.12/site-packages (from langchain_community) (2.0.31)\n",
      "Requirement already satisfied: aiohttp<4.0.0,>=3.8.3 in /Users/user/.pyenv/versions/3.12.3/lib/python3.12/site-packages (from langchain_community) (3.9.5)\n",
      "Requirement already satisfied: dataclasses-json<0.7,>=0.5.7 in /Users/user/.pyenv/versions/3.12.3/lib/python3.12/site-packages (from langchain_community) (0.6.7)\n",
      "Requirement already satisfied: langchain<0.3.0,>=0.2.15 in /Users/user/.pyenv/versions/3.12.3/lib/python3.12/site-packages (from langchain_community) (0.2.16)\n",
      "Requirement already satisfied: langchain-core<0.3.0,>=0.2.37 in /Users/user/.pyenv/versions/3.12.3/lib/python3.12/site-packages (from langchain_community) (0.2.38)\n",
      "Requirement already satisfied: langsmith<0.2.0,>=0.1.0 in /Users/user/.pyenv/versions/3.12.3/lib/python3.12/site-packages (from langchain_community) (0.1.108)\n",
      "Requirement already satisfied: numpy<2.0.0,>=1.26.0 in /Users/user/.pyenv/versions/3.12.3/lib/python3.12/site-packages (from langchain_community) (1.26.4)\n",
      "Requirement already satisfied: requests<3,>=2 in /Users/user/.pyenv/versions/3.12.3/lib/python3.12/site-packages (from langchain_community) (2.32.3)\n",
      "Requirement already satisfied: tenacity!=8.4.0,<9.0.0,>=8.1.0 in /Users/user/.pyenv/versions/3.12.3/lib/python3.12/site-packages (from langchain_community) (8.5.0)\n",
      "Requirement already satisfied: pinecone-client<6.0.0,>=5.0.0 in /Users/user/.pyenv/versions/3.12.3/lib/python3.12/site-packages (from langchain_pinecone) (5.0.1)\n",
      "Requirement already satisfied: openai<2.0.0,>=1.40.0 in /Users/user/.pyenv/versions/3.12.3/lib/python3.12/site-packages (from langchain_openai) (1.44.1)\n",
      "Requirement already satisfied: tiktoken<1,>=0.7 in /Users/user/.pyenv/versions/3.12.3/lib/python3.12/site-packages (from langchain_openai) (0.7.0)\n",
      "Requirement already satisfied: chardet in /Users/user/.pyenv/versions/3.12.3/lib/python3.12/site-packages (from unstructured) (5.2.0)\n",
      "Requirement already satisfied: filetype in /Users/user/.pyenv/versions/3.12.3/lib/python3.12/site-packages (from unstructured) (1.2.0)\n",
      "Requirement already satisfied: python-magic in /Users/user/.pyenv/versions/3.12.3/lib/python3.12/site-packages (from unstructured) (0.4.27)\n",
      "Requirement already satisfied: lxml in /Users/user/.pyenv/versions/3.12.3/lib/python3.12/site-packages (from unstructured) (5.2.2)\n",
      "Requirement already satisfied: nltk in /Users/user/.pyenv/versions/3.12.3/lib/python3.12/site-packages (from unstructured) (3.9.1)\n",
      "Requirement already satisfied: tabulate in /Users/user/.pyenv/versions/3.12.3/lib/python3.12/site-packages (from unstructured) (0.9.0)\n",
      "Requirement already satisfied: beautifulsoup4 in /Users/user/.pyenv/versions/3.12.3/lib/python3.12/site-packages (from unstructured) (4.12.3)\n",
      "Requirement already satisfied: emoji in /Users/user/.pyenv/versions/3.12.3/lib/python3.12/site-packages (from unstructured) (2.12.1)\n",
      "Requirement already satisfied: python-iso639 in /Users/user/.pyenv/versions/3.12.3/lib/python3.12/site-packages (from unstructured) (2024.4.27)\n",
      "Requirement already satisfied: langdetect in /Users/user/.pyenv/versions/3.12.3/lib/python3.12/site-packages (from unstructured) (1.0.9)\n",
      "Requirement already satisfied: rapidfuzz in /Users/user/.pyenv/versions/3.12.3/lib/python3.12/site-packages (from unstructured) (3.9.6)\n",
      "Requirement already satisfied: backoff in /Users/user/.pyenv/versions/3.12.3/lib/python3.12/site-packages (from unstructured) (2.2.1)\n",
      "Requirement already satisfied: typing-extensions in /Users/user/.pyenv/versions/3.12.3/lib/python3.12/site-packages (from unstructured) (4.12.2)\n",
      "Requirement already satisfied: unstructured-client in /Users/user/.pyenv/versions/3.12.3/lib/python3.12/site-packages (from unstructured) (0.25.5)\n",
      "Requirement already satisfied: wrapt in /Users/user/.pyenv/versions/3.12.3/lib/python3.12/site-packages (from unstructured) (1.16.0)\n",
      "Requirement already satisfied: tqdm in /Users/user/.pyenv/versions/3.12.3/lib/python3.12/site-packages (from unstructured) (4.66.4)\n",
      "Requirement already satisfied: psutil in /Users/user/.pyenv/versions/3.12.3/lib/python3.12/site-packages (from unstructured) (5.8.0)\n",
      "Requirement already satisfied: mmh3<5.0.0,>=4.1.0 in /Users/user/.pyenv/versions/3.12.3/lib/python3.12/site-packages (from pinecone-text) (4.1.0)\n",
      "Requirement already satisfied: python-dotenv<2.0.0,>=1.0.1 in /Users/user/.pyenv/versions/3.12.3/lib/python3.12/site-packages (from pinecone-text) (1.0.1)\n",
      "Requirement already satisfied: types-requests<3.0.0,>=2.25.0 in /Users/user/.pyenv/versions/3.12.3/lib/python3.12/site-packages (from pinecone-text) (2.32.0.20240907)\n",
      "Requirement already satisfied: wget<4.0,>=3.2 in /Users/user/.pyenv/versions/3.12.3/lib/python3.12/site-packages (from pinecone-text) (3.2)\n",
      "Requirement already satisfied: aiosignal>=1.1.2 in /Users/user/.pyenv/versions/3.12.3/lib/python3.12/site-packages (from aiohttp<4.0.0,>=3.8.3->langchain_community) (1.3.1)\n",
      "Requirement already satisfied: attrs>=17.3.0 in /Users/user/.pyenv/versions/3.12.3/lib/python3.12/site-packages (from aiohttp<4.0.0,>=3.8.3->langchain_community) (23.2.0)\n",
      "Requirement already satisfied: frozenlist>=1.1.1 in /Users/user/.pyenv/versions/3.12.3/lib/python3.12/site-packages (from aiohttp<4.0.0,>=3.8.3->langchain_community) (1.4.1)\n",
      "Requirement already satisfied: multidict<7.0,>=4.5 in /Users/user/.pyenv/versions/3.12.3/lib/python3.12/site-packages (from aiohttp<4.0.0,>=3.8.3->langchain_community) (6.0.5)\n",
      "Requirement already satisfied: yarl<2.0,>=1.0 in /Users/user/.pyenv/versions/3.12.3/lib/python3.12/site-packages (from aiohttp<4.0.0,>=3.8.3->langchain_community) (1.9.4)\n",
      "Requirement already satisfied: marshmallow<4.0.0,>=3.18.0 in /Users/user/.pyenv/versions/3.12.3/lib/python3.12/site-packages (from dataclasses-json<0.7,>=0.5.7->langchain_community) (3.21.3)\n",
      "Requirement already satisfied: typing-inspect<1,>=0.4.0 in /Users/user/.pyenv/versions/3.12.3/lib/python3.12/site-packages (from dataclasses-json<0.7,>=0.5.7->langchain_community) (0.9.0)\n",
      "Requirement already satisfied: pydantic<3,>=1 in /Users/user/.pyenv/versions/3.12.3/lib/python3.12/site-packages (from langchain<0.3.0,>=0.2.15->langchain_community) (2.8.2)\n",
      "Requirement already satisfied: jsonpatch<2.0,>=1.33 in /Users/user/.pyenv/versions/3.12.3/lib/python3.12/site-packages (from langchain-core<0.3.0,>=0.2.37->langchain_community) (1.33)\n",
      "Requirement already satisfied: packaging<25,>=23.2 in /Users/user/.pyenv/versions/3.12.3/lib/python3.12/site-packages (from langchain-core<0.3.0,>=0.2.37->langchain_community) (23.2)\n",
      "Requirement already satisfied: httpx<1,>=0.23.0 in /Users/user/.pyenv/versions/3.12.3/lib/python3.12/site-packages (from langsmith<0.2.0,>=0.1.0->langchain_community) (0.27.0)\n",
      "Requirement already satisfied: orjson<4.0.0,>=3.9.14 in /Users/user/.pyenv/versions/3.12.3/lib/python3.12/site-packages (from langsmith<0.2.0,>=0.1.0->langchain_community) (3.10.6)\n",
      "Requirement already satisfied: click in /Users/user/.pyenv/versions/3.12.3/lib/python3.12/site-packages (from nltk->unstructured) (8.1.7)\n",
      "Requirement already satisfied: joblib in /Users/user/.pyenv/versions/3.12.3/lib/python3.12/site-packages (from nltk->unstructured) (1.4.2)\n",
      "Requirement already satisfied: regex>=2021.8.3 in /Users/user/.pyenv/versions/3.12.3/lib/python3.12/site-packages (from nltk->unstructured) (2024.7.24)\n",
      "Requirement already satisfied: anyio<5,>=3.5.0 in /Users/user/.pyenv/versions/3.12.3/lib/python3.12/site-packages (from openai<2.0.0,>=1.40.0->langchain_openai) (4.4.0)\n",
      "Requirement already satisfied: distro<2,>=1.7.0 in /Users/user/.pyenv/versions/3.12.3/lib/python3.12/site-packages (from openai<2.0.0,>=1.40.0->langchain_openai) (1.9.0)\n",
      "Requirement already satisfied: jiter<1,>=0.4.0 in /Users/user/.pyenv/versions/3.12.3/lib/python3.12/site-packages (from openai<2.0.0,>=1.40.0->langchain_openai) (0.5.0)\n",
      "Requirement already satisfied: sniffio in /Users/user/.pyenv/versions/3.12.3/lib/python3.12/site-packages (from openai<2.0.0,>=1.40.0->langchain_openai) (1.3.1)\n",
      "Requirement already satisfied: certifi>=2019.11.17 in /Users/user/.pyenv/versions/3.12.3/lib/python3.12/site-packages (from pinecone-client<6.0.0,>=5.0.0->langchain_pinecone) (2024.7.4)\n",
      "Requirement already satisfied: pinecone-plugin-inference<2.0.0,>=1.0.3 in /Users/user/.pyenv/versions/3.12.3/lib/python3.12/site-packages (from pinecone-client<6.0.0,>=5.0.0->langchain_pinecone) (1.0.3)\n",
      "Requirement already satisfied: pinecone-plugin-interface<0.0.8,>=0.0.7 in /Users/user/.pyenv/versions/3.12.3/lib/python3.12/site-packages (from pinecone-client<6.0.0,>=5.0.0->langchain_pinecone) (0.0.7)\n",
      "Requirement already satisfied: urllib3>=1.26.5 in /Users/user/.pyenv/versions/3.12.3/lib/python3.12/site-packages (from pinecone-client<6.0.0,>=5.0.0->langchain_pinecone) (2.2.2)\n",
      "Requirement already satisfied: charset-normalizer<4,>=2 in /Users/user/.pyenv/versions/3.12.3/lib/python3.12/site-packages (from requests<3,>=2->langchain_community) (3.3.2)\n",
      "Requirement already satisfied: idna<4,>=2.5 in /Users/user/.pyenv/versions/3.12.3/lib/python3.12/site-packages (from requests<3,>=2->langchain_community) (3.7)\n",
      "Requirement already satisfied: soupsieve>1.2 in /Users/user/.pyenv/versions/3.12.3/lib/python3.12/site-packages (from beautifulsoup4->unstructured) (2.5)\n",
      "Requirement already satisfied: six in /Users/user/.pyenv/versions/3.12.3/lib/python3.12/site-packages (from langdetect->unstructured) (1.16.0)\n",
      "Requirement already satisfied: deepdiff>=6.0 in /Users/user/.pyenv/versions/3.12.3/lib/python3.12/site-packages (from unstructured-client->unstructured) (7.0.1)\n",
      "Requirement already satisfied: jsonpath-python>=1.0.6 in /Users/user/.pyenv/versions/3.12.3/lib/python3.12/site-packages (from unstructured-client->unstructured) (1.0.6)\n",
      "Requirement already satisfied: mypy-extensions>=1.0.0 in /Users/user/.pyenv/versions/3.12.3/lib/python3.12/site-packages (from unstructured-client->unstructured) (1.0.0)\n",
      "Requirement already satisfied: nest-asyncio>=1.6.0 in /Users/user/.pyenv/versions/3.12.3/lib/python3.12/site-packages (from unstructured-client->unstructured) (1.6.0)\n",
      "Requirement already satisfied: pypdf>=4.0 in /Users/user/.pyenv/versions/3.12.3/lib/python3.12/site-packages (from unstructured-client->unstructured) (4.3.1)\n",
      "Requirement already satisfied: python-dateutil>=2.8.2 in /Users/user/.pyenv/versions/3.12.3/lib/python3.12/site-packages (from unstructured-client->unstructured) (2.9.0.post0)\n",
      "Requirement already satisfied: requests-toolbelt>=1.0.0 in /Users/user/.pyenv/versions/3.12.3/lib/python3.12/site-packages (from unstructured-client->unstructured) (1.0.0)\n",
      "Requirement already satisfied: ordered-set<4.2.0,>=4.1.0 in /Users/user/.pyenv/versions/3.12.3/lib/python3.12/site-packages (from deepdiff>=6.0->unstructured-client->unstructured) (4.1.0)\n",
      "Requirement already satisfied: httpcore==1.* in /Users/user/.pyenv/versions/3.12.3/lib/python3.12/site-packages (from httpx<1,>=0.23.0->langsmith<0.2.0,>=0.1.0->langchain_community) (1.0.5)\n",
      "Requirement already satisfied: h11<0.15,>=0.13 in /Users/user/.pyenv/versions/3.12.3/lib/python3.12/site-packages (from httpcore==1.*->httpx<1,>=0.23.0->langsmith<0.2.0,>=0.1.0->langchain_community) (0.14.0)\n",
      "Requirement already satisfied: jsonpointer>=1.9 in /Users/user/.pyenv/versions/3.12.3/lib/python3.12/site-packages (from jsonpatch<2.0,>=1.33->langchain-core<0.3.0,>=0.2.37->langchain_community) (3.0.0)\n",
      "Requirement already satisfied: annotated-types>=0.4.0 in /Users/user/.pyenv/versions/3.12.3/lib/python3.12/site-packages (from pydantic<3,>=1->langchain<0.3.0,>=0.2.15->langchain_community) (0.7.0)\n",
      "Requirement already satisfied: pydantic-core==2.20.1 in /Users/user/.pyenv/versions/3.12.3/lib/python3.12/site-packages (from pydantic<3,>=1->langchain<0.3.0,>=0.2.15->langchain_community) (2.20.1)\n"
     ]
    }
   ],
   "source": [
    "!pip install \\\n",
    "  langchain_community \\\n",
    "  langchain_pinecone \\\n",
    "  langchain_openai \\\n",
    "  unstructured \\\n",
    "  langchain-text-splitters \\\n",
    "  pinecone-text"
   ]
  },
  {
   "cell_type": "markdown",
   "metadata": {},
   "source": [
    "## Importing the Langchain and Pinecone Modules from the libraries"
   ]
  },
  {
   "cell_type": "code",
   "execution_count": 71,
   "metadata": {},
   "outputs": [],
   "source": [
    "from langchain_pinecone import PineconeVectorStore\n",
    "from pinecone import ServerlessSpec\n",
    "from pinecone.grpc import PineconeGRPC as Pinecone\n",
    "from langchain_openai import OpenAIEmbeddings\n",
    "from langchain_pinecone import PineconeVectorStore\n",
    "from langchain_community.document_loaders import DirectoryLoader\n",
    "from langchain_text_splitters import RecursiveCharacterTextSplitter\n",
    "from langchain_openai import ChatOpenAI\n",
    "from langchain.chains import RetrievalQA\n",
    "from tqdm.auto import tqdm\n",
    "import os\n",
    "import glob"
   ]
  },
  {
   "cell_type": "markdown",
   "metadata": {},
   "source": [
    "## Loading the Documents"
   ]
  },
  {
   "cell_type": "code",
   "execution_count": 72,
   "metadata": {},
   "outputs": [
    {
     "name": "stdout",
     "output_type": "stream",
     "text": [
      "Files in 'data' directory: ['Appointments Module ✓.docx', 'Comms Module ✓.docx', 'Clients - Cases Module ✓.docx', 'Clients Module ✓.docx', 'Leads Module ✓.docx', 'Activity Logs Module ✓.docx', 'Settings Module.docx', 'Reports Module ✓.docx', 'Cases Module ✓.docx', 'Clients - Comms Module ✓.docx', 'Clients - Billings Module ✓.docx', 'c.pdf', 'Virtual Visits Module ✓.docx', 'Calendar Module ✓.docx', 'Files Module ✓.docx', ' Billings Module ✓.docx', 'Clients - Clients Module ✓.docx']\n"
     ]
    }
   ],
   "source": [
    "# List all files in the 'data' directory\n",
    "print(\"Files in 'data' directory:\", os.listdir('data'))"
   ]
  },
  {
   "cell_type": "code",
   "execution_count": 73,
   "metadata": {},
   "outputs": [
    {
     "data": {
      "text/plain": [
       "17"
      ]
     },
     "execution_count": 73,
     "metadata": {},
     "output_type": "execute_result"
    }
   ],
   "source": [
    "directory = 'data'\n",
    "def load_docs(directory):\n",
    "  loader = DirectoryLoader(directory)\n",
    "  docs = loader.load()\n",
    "  return docs\n",
    "\n",
    "docs = load_docs(directory)\n",
    "len(docs)"
   ]
  },
  {
   "cell_type": "code",
   "execution_count": 74,
   "metadata": {},
   "outputs": [
    {
     "name": "stdout",
     "output_type": "stream",
     "text": [
      "Loaded 17 documents.\n"
     ]
    }
   ],
   "source": [
    "print(f\"Loaded {len(docs)} documents.\")\n"
   ]
  },
  {
   "cell_type": "markdown",
   "metadata": {},
   "source": [
    "## Natural Language ToolKit"
   ]
  },
  {
   "cell_type": "code",
   "execution_count": 75,
   "metadata": {},
   "outputs": [
    {
     "name": "stderr",
     "output_type": "stream",
     "text": [
      "[nltk_data] Downloading package punkt to /Users/user/nltk_data...\n",
      "[nltk_data]   Package punkt is already up-to-date!\n"
     ]
    },
    {
     "data": {
      "text/plain": [
       "True"
      ]
     },
     "execution_count": 75,
     "metadata": {},
     "output_type": "execute_result"
    }
   ],
   "source": [
    " import nltk\n",
    " nltk.download('punkt')"
   ]
  },
  {
   "cell_type": "markdown",
   "metadata": {},
   "source": [
    "## API Keys Verifications"
   ]
  },
  {
   "cell_type": "code",
   "execution_count": 76,
   "metadata": {},
   "outputs": [],
   "source": [
    "import os\n",
    "from dotenv import load_dotenv\n",
    "\n",
    "# Load environment variables from .env file\n",
    "load_dotenv()\n",
    "\n",
    "# Fetch API keys from environment variables\n",
    "openai_api_key = os.getenv('OPENAI_API_KEY')\n",
    "pinecone_api_key = os.getenv('PINECONE_API_KEY')\n",
    "\n",
    "# Set the environment variables\n",
    "if openai_api_key:\n",
    "    os.environ['OPENAI_API_KEY'] = openai_api_key\n",
    "if pinecone_api_key:\n",
    "    os.environ['PINECONE_API_KEY'] = pinecone_api_key\n",
    "\n",
    "#Verify that the keys are loaded\n",
    "#print(f\"OpenAI API Key: {os.environ.get('OPENAI_API_KEY')}\")\n",
    "#print(f\"Pinecone API Key: {os.environ.get('PINECONE_API_KEY')}\")"
   ]
  },
  {
   "cell_type": "markdown",
   "metadata": {},
   "source": [
    "## OpenAI Embeddings Model"
   ]
  },
  {
   "cell_type": "code",
   "execution_count": 77,
   "metadata": {},
   "outputs": [],
   "source": [
    "# Split our documents into chunks\n",
    "\n",
    "os.environ[\"HUGGINGFACEHUB_API_TOKEN\"]=\"HUGGINGFACEHUB_API_TOKEN\"\n",
    "embeddings = OpenAIEmbeddings(\n",
    "    model=\"text-embedding-ada-002\",  #response time is 9s  #infloat/e5-base-V2 has 3.53sec response time.\n",
    ")\n",
    "embeddings\n",
    "\n",
    "index_name = \"test-2\"\n",
    "\n",
    "# Split our documents into chunks\n",
    "chunk_size = 1000  \n",
    "chunk_overlap = 200  \n",
    "\n",
    "# Initialize the text splitter with chunk size and chunk overlap\n",
    "text_splitter = RecursiveCharacterTextSplitter(chunk_size=chunk_size, chunk_overlap=chunk_overlap)\n",
    "\n",
    "# Split your documents into chunks\n",
    "split_docs = text_splitter.split_documents(docs)\n"
   ]
  },
  {
   "cell_type": "markdown",
   "metadata": {},
   "source": [
    "## BM25"
   ]
  },
  {
   "cell_type": "code",
   "execution_count": 78,
   "metadata": {},
   "outputs": [],
   "source": [
    "from pinecone_text.sparse import BM25Encoder\n",
    "\n",
    "#bm25_Encoder=BM25Encoder().default()\n",
    "#bm25_Encoder"
   ]
  },
  {
   "cell_type": "code",
   "execution_count": 79,
   "metadata": {},
   "outputs": [],
   "source": [
    "#bm25_Encoder.fit(split_docs)\n",
    "#bm25_Encoder.dump(\"bm25_values.json\")\n",
    "#bm25_Encoder = BM25Encoder().load(\"bm25_values.json\")"
   ]
  },
  {
   "cell_type": "code",
   "execution_count": 80,
   "metadata": {},
   "outputs": [],
   "source": [
    "#retriever=PineconeHybridSearchRetriever(embeddings=embeddings,sparse_encoder=BM25Encoder, index_name=index_name)"
   ]
  },
  {
   "cell_type": "markdown",
   "metadata": {},
   "source": [
    "## Pinecone Vector Store"
   ]
  },
  {
   "cell_type": "code",
   "execution_count": 81,
   "metadata": {},
   "outputs": [],
   "source": [
    "vectorstore = PineconeVectorStore.from_documents(split_docs, embeddings, index_name=index_name)"
   ]
  },
  {
   "cell_type": "markdown",
   "metadata": {},
   "source": [
    "## Searching for Similar Documents in Vector Store"
   ]
  },
  {
   "cell_type": "code",
   "execution_count": 82,
   "metadata": {},
   "outputs": [],
   "source": [
    "tenant_id = \"tenant_1\"  # This can be dynamically assigned based on your application logic\n",
    "\n",
    "query=\"Hi\"\n",
    "\n",
    "similar_docs = vectorstore.similarity_search(query, k=5, filter={\"tenant_id\": tenant_id})"
   ]
  },
  {
   "cell_type": "markdown",
   "metadata": {},
   "source": [
    "## Importing Chat Model as GPT-4o"
   ]
  },
  {
   "cell_type": "code",
   "execution_count": 83,
   "metadata": {},
   "outputs": [],
   "source": [
    "llm = ChatOpenAI(\n",
    "    model=\"gpt-4o\",\n",
    "    temperature=0.7\n",
    ")\n",
    "\n",
    "qa = RetrievalQA.from_chain_type(\n",
    "    llm=llm,\n",
    "    chain_type=\"map_reduce\",\n",
    "    retriever=vectorstore.as_retriever(),\n",
    "    return_source_documents=True  # This will return source documents in the response\n",
    "\n",
    ")\n",
    "\n",
    "#qa.invoke(query)"
   ]
  },
  {
   "cell_type": "code",
   "execution_count": 84,
   "metadata": {},
   "outputs": [
    {
     "name": "stdout",
     "output_type": "stream",
     "text": [
      "Response: Hello! How can I assist you today? (Source: [Document(metadata={'blobType': '', 'flowise_chatId': '46225d20-7c7b-4719-a6ba-7ed3e67fc794', 'loc.lines.from': 1.0, 'loc.lines.to': 5.0, 'loc.pageNumber': 96.0, 'pdf.info.CreationDate': \"D:20240524094432+02'00'\", 'pdf.info.Creator': 'Adobe InDesign 17.4 (Macintosh)', 'pdf.info.IsAcroFormPresent': False, 'pdf.info.IsXFAPresent': False, 'pdf.info.ModDate': \"D:20240524085908+01'00'\", 'pdf.info.PDFFormatVersion': '1.7', 'pdf.info.Producer': 'Adobe PDF Library 16.0.7', 'pdf.info.Trapped.name': 'False', 'pdf.metadata._metadata.dc:format': 'application/pdf', 'pdf.metadata._metadata.pdf:producer': 'Adobe PDF Library 16.0.7', 'pdf.metadata._metadata.pdf:trapped': 'False', 'pdf.metadata._metadata.xmp:createdate': '2024-05-24T09:44:32+02:00', 'pdf.metadata._metadata.xmp:creatortool': 'Adobe InDesign 17.4 (Macintosh)', 'pdf.metadata._metadata.xmp:metadatadate': '2024-05-24T08:59:08+01:00', 'pdf.metadata._metadata.xmp:modifydate': '2024-05-24T08:59:08+01:00', 'pdf.metadata._metadata.xmpmm:derivedfrom': 'xmp.iid:5df489d1-a8d5-45e8-b72f-80ea02f80b4dxmp.did:a3fe333c-d614-4976-8610-6d1cb3928ca1xmp.did:ee8a2535-000a-3143-891d-d629d496139edefault', 'pdf.metadata._metadata.xmpmm:documentid': 'xmp.id:dcf87626-e77c-460f-8b93-ff8780dd1ad1', 'pdf.metadata._metadata.xmpmm:history': 'convertedfrom application/x-indesign to application/pdfAdobe InDesign 17.4 (Macintosh)/2024-05-24T09:44:32+02:00', 'pdf.metadata._metadata.xmpmm:instanceid': 'uuid:b1cb0123-0b0b-491f-acd5-d0e465e6b1d6', 'pdf.metadata._metadata.xmpmm:originaldocumentid': 'xmp.did:ee8a2535-000a-3143-891d-d629d496139e', 'pdf.metadata._metadata.xmpmm:renditionclass': 'proof:pdf', 'pdf.totalPages': 96.0, 'pdf.version': '1.10.100', 'source': 'blob'}, page_content='World Health Organization\\nAvenue Appia 20\\n1211 Geneva\\nSwitzerland    \\nhttp://www.who.int'), Document(metadata={'source': 'data/Cases Module ✓.docx'}, page_content='in advocating for clients or causes.'), Document(metadata={'source': '/Users/user/Downloads/tutorials/Youtube-Tutorials/Langchain Chatbot/data/Cases Module ✓.docx'}, page_content='in advocating for clients or causes.'), Document(metadata={'source': 'data/Cases Module ✓.docx'}, page_content='in advocating for clients or causes.')])\n"
     ]
    }
   ],
   "source": [
    "# Post-process the output\n",
    "response = qa.invoke(query)\n",
    "result = response.get('result', 'No result found')\n",
    "source_documents = response.get('source_documents', 'No source documents available')\n",
    "source_info = response['source_documents']  \n",
    "print(f\"Response: {response['result']} (Source: {source_info})\")"
   ]
  },
  {
   "cell_type": "markdown",
   "metadata": {},
   "source": [
    "## Query and Response (with Pinecone and without Pinecone)"
   ]
  },
  {
   "cell_type": "code",
   "execution_count": 85,
   "metadata": {},
   "outputs": [
    {
     "name": "stdout",
     "output_type": "stream",
     "text": [
      "Response \n",
      "\n",
      "Chat with Pinecone:\n",
      "According to Chapter 2 of the Election Crimes and Punishment Act of 1990 in Nepal, the specific election crimes are:\n",
      "\n",
      "a. To obtain a ballot and cast a vote in another’s name.\n",
      "b. To influence others through fear, terror, or intimidation.\n",
      "c. To indulge in character assassination of a candidate or his family members with an intention to influence the election or to influence voters.\n",
      "d. To campaign in a manner affecting the independence, sovereignty, and integrity of the nation, or to engage in publicity based on religion, caste, creed, language, or regionalism leading to communal disharmony.\n",
      "e. To offer any cash, goods, or gifts in exchange for votes.\n",
      "\n",
      "Chat with GPT-4o:\n",
      "In Nepal, election crimes are specific offenses that violate the integrity and fairness of the electoral process. Here are some specific election-related crimes as outlined by Nepali law:\n",
      "\n",
      "1. **Vote Buying**: Offering money, gifts, or other incentives to voters to influence their choice.\n",
      "2. **Voter Intimidation**: Using threats, coercion, or force to influence a voter’s decision.\n",
      "3. **Impersonation**: Voting in the name of another registered voter.\n",
      "4. **Multiple Voting**: Casting more than one vote by the same individual.\n",
      "5. **Tampering with Ballots**: Altering, destroying, or tampering with ballot papers or boxes.\n",
      "6. **Election Fraud**: Engaging in activities that falsify the election results, such as stuffing ballot boxes or manipulating vote counts.\n",
      "7. **Illegal Campaigning**: Campaigning on election day or within restricted zones as defined by the Election Commission.\n",
      "8. **Misuse of Government Resources**: Using state resources, such as vehicles, funds, or official positions, to support a particular candidate or party.\n",
      "9. **Disrupting Election Activities**: Blocking or interfering with the electoral process, including preventing voters from reaching polling stations.\n",
      "10. **False Information**: Disseminating false information or propaganda to mislead voters or disrupt the electoral process.\n",
      "11. **Unauthorized Access**: Unauthorized access to or tampering with electronic voting systems or databases.\n",
      "12. **Violation of Code of Conduct**: Breaching the code of conduct set by the Election Commission, which includes various guidelines on fair campaigning and behavior during elections.\n",
      "13. **Bribery**: Offering or accepting bribes to influence electoral outcomes or to obtain election-related favors.\n",
      "14. **Electoral Violence**: Engaging in acts of violence linked to the election process, including clashes between supporters of different parties.\n",
      "15. **Interfering with Election Officials**: Obstructing or influencing the work of election officials inappropriately.\n",
      "\n",
      "The Election Commission of Nepal and other relevant authorities are tasked with monitoring, investigating, and prosecuting these crimes to ensure free and fair elections. Penalties for these offenses can range from fines to imprisonment, depending on the severity of the crime.\n"
     ]
    }
   ],
   "source": [
    "query1 = \"\"\"What are specific election crimes in Nepal?\"\"\"\n",
    "\n",
    "# Send each query to the LLM twice, first with relevant knowledge from Pincone \n",
    "# and then without any additional knowledge.\n",
    "print(\"Response \\n\")\n",
    "print(\"Chat with Pinecone:\")\n",
    "print(qa.invoke(query1).get(\"result\"))\n",
    "print(\"\\nChat with GPT-4o:\")\n",
    "print(llm.invoke(query1).content)"
   ]
  },
  {
   "cell_type": "code",
   "execution_count": 86,
   "metadata": {},
   "outputs": [],
   "source": [
    "# Function to delete documents by ids\n",
    "def delete_documents(ids):\n",
    "    vectorstore.delete(ids)\n",
    "    \n",
    "\n",
    "# Deleting documents with specific ids\n",
    "ids_to_delete = [\"id1\", \"id2\"]  # Replace with actual document ids\n",
    "delete_documents(ids_to_delete)    "
   ]
  },
  {
   "cell_type": "code",
   "execution_count": null,
   "metadata": {},
   "outputs": [],
   "source": []
  },
  {
   "cell_type": "code",
   "execution_count": null,
   "metadata": {},
   "outputs": [],
   "source": []
  },
  {
   "cell_type": "code",
   "execution_count": null,
   "metadata": {},
   "outputs": [],
   "source": []
  }
 ],
 "metadata": {
  "kernelspec": {
   "display_name": "Python 3",
   "language": "python",
   "name": "python3"
  },
  "language_info": {
   "codemirror_mode": {
    "name": "ipython",
    "version": 3
   },
   "file_extension": ".py",
   "mimetype": "text/x-python",
   "name": "python",
   "nbconvert_exporter": "python",
   "pygments_lexer": "ipython3",
   "version": "3.12.3"
  }
 },
 "nbformat": 4,
 "nbformat_minor": 2
}
